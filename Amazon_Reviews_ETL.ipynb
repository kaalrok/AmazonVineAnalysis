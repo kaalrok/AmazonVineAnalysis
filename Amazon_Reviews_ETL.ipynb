{
<<<<<<< HEAD
 "cells": [
  {
   "cell_type": "code",
   "execution_count": null,
   "metadata": {
    "colab": {
     "base_uri": "https://localhost:8080/"
    },
    "id": "V58rxea0HqSa",
    "outputId": "9282b8d3-c7f3-4baf-c6f4-6f4a0770a922"
   },
   "outputs": [
    {
     "name": "stdout",
     "output_type": "stream",
     "text": [
      "\r",
      "0% [Working]\r",
      "            \r",
      "Get:1 https://cloud.r-project.org/bin/linux/ubuntu bionic-cran40/ InRelease [3,626 B]\n",
      "\r",
      "0% [Connecting to archive.ubuntu.com] [Connecting to security.ubuntu.com] [1 In\r",
      "0% [Connecting to archive.ubuntu.com] [Connecting to security.ubuntu.com] [Conn\r",
      "                                                                               \r",
      "Ign:2 https://developer.download.nvidia.com/compute/cuda/repos/ubuntu1804/x86_64  InRelease\n",
      "\r",
      "0% [Connecting to archive.ubuntu.com] [Connecting to security.ubuntu.com] [Conn\r",
      "0% [1 InRelease gpgv 3,626 B] [Connecting to archive.ubuntu.com] [Connecting to\r",
      "                                                                               \r",
      "Ign:3 https://developer.download.nvidia.com/compute/machine-learning/repos/ubuntu1804/x86_64  InRelease\n",
      "Hit:4 https://developer.download.nvidia.com/compute/cuda/repos/ubuntu1804/x86_64  Release\n",
      "Hit:5 https://developer.download.nvidia.com/compute/machine-learning/repos/ubuntu1804/x86_64  Release\n",
      "Get:6 http://security.ubuntu.com/ubuntu bionic-security InRelease [88.7 kB]\n",
      "Get:7 https://cloud.r-project.org/bin/linux/ubuntu bionic-cran40/ Packages [80.4 kB]\n",
      "Get:8 http://ppa.launchpad.net/c2d4u.team/c2d4u4.0+/ubuntu bionic InRelease [15.9 kB]\n",
      "Hit:9 http://archive.ubuntu.com/ubuntu bionic InRelease\n",
      "Get:11 http://archive.ubuntu.com/ubuntu bionic-updates InRelease [88.7 kB]\n",
      "Hit:13 http://ppa.launchpad.net/cran/libgit2/ubuntu bionic InRelease\n",
      "Get:14 http://archive.ubuntu.com/ubuntu bionic-backports InRelease [74.6 kB]\n",
      "Get:15 http://ppa.launchpad.net/deadsnakes/ppa/ubuntu bionic InRelease [15.9 kB]\n",
      "Get:16 http://security.ubuntu.com/ubuntu bionic-security/main amd64 Packages [2,628 kB]\n",
      "Hit:17 http://ppa.launchpad.net/graphics-drivers/ppa/ubuntu bionic InRelease\n",
      "Get:18 http://security.ubuntu.com/ubuntu bionic-security/universe amd64 Packages [1,479 kB]\n",
      "Get:19 http://ppa.launchpad.net/c2d4u.team/c2d4u4.0+/ubuntu bionic/main Sources [1,827 kB]\n",
      "Get:20 http://archive.ubuntu.com/ubuntu bionic-updates/main amd64 Packages [3,067 kB]\n",
      "Get:21 http://archive.ubuntu.com/ubuntu bionic-updates/universe amd64 Packages [2,257 kB]\n",
      "Get:22 http://ppa.launchpad.net/c2d4u.team/c2d4u4.0+/ubuntu bionic/main amd64 Packages [936 kB]\n",
      "Get:23 http://ppa.launchpad.net/deadsnakes/ppa/ubuntu bionic/main amd64 Packages [45.2 kB]\n",
      "Fetched 12.6 MB in 4s (2,840 kB/s)\n",
      "Reading package lists... Done\n"
     ]
    }
   ],
   "source": [
    "import os\n",
    "# Find the latest version of spark 3.0 from http://www.apache.org/dist/spark/ and enter as the spark version\n",
    "# For example:\n",
    "# spark_version = 'spark-3.0.3'\n",
    "spark_version = 'spark-3.0.3'\n",
    "os.environ['SPARK_VERSION']=spark_version\n",
    "\n",
    "# Install Spark and Java\n",
    "!apt-get update\n",
    "!apt-get install openjdk-11-jdk-headless -qq > /dev/null\n",
    "!wget -q http://www.apache.org/dist/spark/$SPARK_VERSION/$SPARK_VERSION-bin-hadoop2.7.tgz\n",
    "!tar xf $SPARK_VERSION-bin-hadoop2.7.tgz\n",
    "!pip install -q findspark\n",
    "\n",
    "# Set Environment Variables\n",
    "import os\n",
    "os.environ[\"JAVA_HOME\"] = \"/usr/lib/jvm/java-11-openjdk-amd64\"\n",
    "os.environ[\"SPARK_HOME\"] = f\"/content/{spark_version}-bin-hadoop2.7\"\n",
    "\n",
    "# Start a SparkSession\n",
    "import findspark\n",
    "findspark.init()"
   ]
  },
  {
   "cell_type": "code",
   "execution_count": null,
   "metadata": {
    "colab": {
     "base_uri": "https://localhost:8080/"
    },
    "id": "_xKwTpATHqSe",
    "outputId": "24a9415c-ed93-49cb-af99-a2155e83e2e9"
   },
   "outputs": [
    {
     "name": "stdout",
     "output_type": "stream",
     "text": [
      "--2022-03-17 10:35:22--  https://jdbc.postgresql.org/download/postgresql-42.2.16.jar\n",
      "Resolving jdbc.postgresql.org (jdbc.postgresql.org)... 72.32.157.228, 2001:4800:3e1:1::228\n",
      "Connecting to jdbc.postgresql.org (jdbc.postgresql.org)|72.32.157.228|:443... connected.\n",
      "HTTP request sent, awaiting response... 200 OK\n",
      "Length: 1002883 (979K) [application/java-archive]\n",
      "Saving to: ‘postgresql-42.2.16.jar’\n",
      "\n",
      "postgresql-42.2.16. 100%[===================>] 979.38K  6.04MB/s    in 0.2s    \n",
      "\n",
      "2022-03-17 10:35:23 (6.04 MB/s) - ‘postgresql-42.2.16.jar’ saved [1002883/1002883]\n",
      "\n"
     ]
    }
   ],
   "source": [
    "# Download the Postgres driver that will allow Spark to interact with Postgres.\n",
    "!wget https://jdbc.postgresql.org/download/postgresql-42.2.16.jar"
   ]
  },
  {
   "cell_type": "code",
   "execution_count": null,
   "metadata": {
    "id": "MMqDAjVS0KN9"
   },
   "outputs": [],
   "source": [
    "from pyspark.sql import SparkSession\n",
    "spark = SparkSession.builder.appName(\"M16-Amazon-Challenge\").config(\"spark.driver.extraClassPath\",\"/content/postgresql-42.2.16.jar\").getOrCreate()"
   ]
  },
  {
   "cell_type": "markdown",
   "metadata": {
    "id": "cyBsySGuY-9V"
   },
   "source": [
    "### Load Amazon Data into Spark DataFrame"
   ]
  },
  {
   "cell_type": "code",
   "execution_count": null,
   "metadata": {
    "colab": {
     "base_uri": "https://localhost:8080/"
    },
    "id": "CtCmBhQJY-9Z",
    "outputId": "61afc28e-19e4-4996-bf01-988d35f2a5a5"
   },
   "outputs": [
    {
     "name": "stdout",
     "output_type": "stream",
     "text": [
      "+-----------+-----------+--------------+----------+--------------+--------------------+----------------+-----------+-------------+-----------+----+-----------------+--------------------+--------------------+-----------+\n",
      "|marketplace|customer_id|     review_id|product_id|product_parent|       product_title|product_category|star_rating|helpful_votes|total_votes|vine|verified_purchase|     review_headline|         review_body|review_date|\n",
      "+-----------+-----------+--------------+----------+--------------+--------------------+----------------+-----------+-------------+-----------+----+-----------------+--------------------+--------------------+-----------+\n",
      "|         US|   48945260|R1WBPB8MDCCN8F|B012P7UPSM|     409940130|Chicago Blackhawk...|          Sports|          5|            0|          0|   N|                N|   LOVE IT. 6 stars!|Bought this last ...| 2015-08-31|\n",
      "|         US|    5782091|R32M0YEWV77XG8|B001GQ3VHG|     657746679|Copag Poker Size ...|          Sports|          5|            1|          1|   N|                Y|       Shipped fast.|These are the bes...| 2015-08-31|\n",
      "|         US|   45813853| RR8V7WR27NXJ5|B008VS8M58|     962442336|Baoer 223 5.56x45...|          Sports|          1|            0|          0|   N|                Y|Good idea if it w...|It looks good, th...| 2015-08-31|\n",
      "|         US|    1593730|R1MHO5V9Z932AY|B005F06F4U|      74305227|All Terrain Tackl...|          Sports|          5|            0|          0|   N|                Y|          Five Stars|           Great jig| 2015-08-31|\n",
      "|         US|   29605511|R16PD71086BD2V|B010T4IE2C|     787185588|Swim Cap - 3 Pack...|          Sports|          5|            0|          1|   N|                N|Great quality sil...|I love swimming i...| 2015-08-31|\n",
      "|         US|   11112959|R1Z8IFGWTRWXT6|B004RKJGLS|      94127483|adidas Men's Spor...|          Sports|          3|            0|          0|   N|                Y|Love everything a...|Love everything a...| 2015-08-31|\n",
      "|         US|     108031|R3AUMSHAW73HWN|B005V3DCBU|     526977496|Nike Men's Perfor...|          Sports|          4|            2|          3|   N|                N|          Four Stars|not the best sock...| 2015-08-31|\n",
      "|         US|   13981540|R2KWDWFOHGX6FL|B00MHT9WN8|      26521265|Green Bay Packers...|          Sports|          5|            0|          0|   N|                Y|          Five Stars|             Love it| 2015-08-31|\n",
      "|         US|   37993909|R3H9543FWBWFBU|B001CSIRQ8|     652431165|Isokinetics Inc. ...|          Sports|          5|            1|          1|   N|                Y|can't wait to use it|Unfortunately I h...| 2015-08-31|\n",
      "|         US|   26040213| RUANXOQ9W3OU5|B001KZ3NOO|     635861713|Aottop Quality El...|          Sports|          5|            0|          0|   N|                Y|great product, ac...|fast shipping , g...| 2015-08-31|\n",
      "|         US|   34657602|R31673RTGEZSW7|B00005RCQS|      72099763|Everlast 2'x6' Fo...|          Sports|          5|            2|          2|   N|                Y|this mat is a pre...|If you have a ter...| 2015-08-31|\n",
      "|         US|   14346192|R22OQLFSH42RCM|B00FA7RWVI|     757354022|OGIO Men's Shredd...|          Sports|          5|            1|          1|   N|                Y|  Versatile Golf Bag|Love this golf ba...| 2015-08-31|\n",
      "|         US|   38782687|R12LEL4F3TSZUJ|B000MMH2HU|     272402599|Blue Sea Systems ...|          Sports|          5|            2|          2|   N|                Y|Great AC Main Bre...|Perfect mounting ...| 2015-08-31|\n",
      "|         US|   27138575|R2L9XWD03072NI|B00WJOATDS|     375070208|Zengi AR15 45 Deg...|          Sports|          5|            1|          2|   N|                Y|   Nice, some quirks|For the cost you ...| 2015-08-31|\n",
      "|         US|   11838771|R2K0U91HIACANO|B00BOM2JNY|     639666785|Black Mountain Pr...|          Sports|          5|            0|          0|   N|                N|55 cm - Good qual...|The ball is very ...| 2015-08-31|\n",
      "|         US|     535800|R29SP6MBT7MXG7|B00OD5GAFM|      38715442|Trijicon VCOG 1-6...|          Sports|          4|            3|          3|   N|                Y|    Very nice scope.|Very nice scope.....| 2015-08-31|\n",
      "|         US|   23156579|R31XREAAMATEPY|B00CAHDC1K|      57088652|Naruto Headband f...|          Sports|          5|            0|          0|   N|                Y|was for my son an...|           This item| 2015-08-31|\n",
      "|         US|   48107879|R2116AVB87SO38|B004NLHXLG|     114125984|Under Armour Men'...|          Sports|          5|            0|          0|   N|                Y|          Five Stars|greatest socks i ...| 2015-08-31|\n",
      "|         US|   27260960|R3RDVBB6O0X3HW|B00L7OANWI|     883962979|Yes4All Deep Tiss...|          Sports|          5|            0|          0|   N|                Y|          Five Stars|Perfect for home ...| 2015-08-31|\n",
      "|         US|   39537314|R3LW5T149LKKQM|B0085PPSIQ|     691479969|Lansky PS-MED01 B...|          Sports|          4|            0|          0|   N|                Y|A bit heavy for p...|Very good product...| 2015-08-31|\n",
      "|         US|   18457385|R1THNVUD55C27K|B003WWQO94|     567685590|Champion Sports C...|          Sports|          5|            0|          0|   N|                Y|These are bright ...|Pleasantly surpri...| 2015-08-31|\n",
      "|         US|   28689758|R2V1NIGCEDQMWR|B00APSXA54|     356387565|Callaway Men's RA...|          Sports|          5|            0|          0|   N|                Y|They get the ball...|Tried several set...| 2015-08-31|\n",
      "|         US|   35214079| RIJXY4FJE2U7O|B00ZPTA41G|     511703314|NCAA Hover Helmet...|          Sports|          5|            0|          0|   N|                Y|Very cool. Great ...|Very cool.  Great...| 2015-08-31|\n",
      "|         US|    7572409|R3OI78MWLX18YH|B00AAHIRKS|     191288137|Gerber 31-001098 ...|          Sports|          1|            1|          2|   N|                Y|The cheapest plas...|I've never been s...| 2015-08-31|\n",
      "|         US|   41582860|R1NP0HLBWDXTG3|B0099WGZRW|     521874476|InForce WML, Mult...|          Sports|          1|            0|          0|   N|                Y|Mode selection le...|50%, had the mode...| 2015-08-31|\n",
      "|         US|   38139271| RFZBXOMZWEYPV|B00K5503O8|      40527220|Fixxxer Rear Cove...|          Sports|          5|            0|          0|   N|                Y|          Five Stars|As described, fit...| 2015-08-31|\n",
      "|         US|     106639|R1XW7YNDY1HHV2|B00GV6J8WI|     896379297|Wilson NFL MVP Fo...|          Sports|          5|            0|          0|   N|                N|       Nice football|Great ball. Feels...| 2015-08-31|\n",
      "|         US|   22885356| RXQWVQ6XDQ4L6|B00NSWHZCS|     396708923|Rukket 10x7ft Haa...|          Sports|          5|            1|          2|   N|                Y|Best net for a gr...|The netting and m...| 2015-08-31|\n",
      "|         US|   38468354| RPCITKSJ62BBH|B013F06TCO|     273588985|Rodut (TM) Adjust...|          Sports|          3|            0|          0|   N|                N|         Three Stars|It's a little too...| 2015-08-31|\n",
      "|         US|   11228537|R10H8KSR2XWCRO|B00OYSEH1M|     101613319|Kidder Infant Fle...|          Sports|          5|            0|          0|   N|                Y|        comfortable.|Very comfortable ...| 2015-08-31|\n",
      "|         US|   15342235|R1F6HW2IAXFZOE|B00NAHA6HC|     330547128|Ultimate Arms Gea...|          Sports|          5|            0|          0|   N|                Y|          Five Stars|         A++++++++++| 2015-08-31|\n",
      "|         US|   28088591|R34TV89J7GOPWJ|B00I1CJOA6|     728149528|Under Armour Men'...|          Sports|          5|            0|          0|   N|                Y|          Five Stars|My boyfriends fav...| 2015-08-31|\n",
      "|         US|   20093436| RD8O39QNCLDJN|B002TSPE5C|     942225482|     Sitting Stepper|          Sports|          5|            0|          0|   N|                Y|          Five Stars|          fun to use| 2015-08-31|\n",
      "|         US|   22750110| RHYA42XJUM2TE|B00545UBYQ|     904724650|Leather Front Poc...|          Sports|          5|            1|          1|   N|                Y|          Five Stars|Exactly what I ne...| 2015-08-31|\n",
      "|         US|   44801274|R1DUOZYOS0NA7Y|B00169CU66|     605693953|Total Gym XLS – U...|          Sports|          4|            0|          1|   N|                Y|          Four Stars|I have enjoyed my...| 2015-08-31|\n",
      "|         US|    1454979|R2INQ28347ESLU|B005DUUL9W|     191246478|BEP Battery Switches|          Sports|          5|            0|          0|   N|                Y|          Five Stars|No need to hassle...| 2015-08-31|\n",
      "|         US|   36539492| RTWRRMR2Q5BO5|B00T4XAVKS|     972354716|Black & Denver Or...|          Sports|          3|            0|          0|   N|                Y|        Dissapointed|         Kinda thin.| 2015-08-31|\n",
      "|         US|   21391837|R2EJXGTZLFDBFS|B00806KGY6|     647250004|Covert Code Black...|          Sports|          4|            1|          1|   N|                Y|       Good purchase|I purchased this ...| 2015-08-31|\n",
      "|         US|   23536197|R3EE10IYRRQG98|B001CF3L80|       3390781|Jugs Bucket of Sm...|          Sports|          5|            0|          1|   N|                Y|Incredible Purcha...|Do you really nee...| 2015-08-31|\n",
      "|         US|   44877916|R2QL1B82PSWQ00|B00162UHEA|     839287489|Lee Precision 3 J...|          Sports|          5|            0|          0|   N|                Y|          Five Stars|jaw chuck nice an...| 2015-08-31|\n",
      "|         US|   41703431|R1XZYB1K4IANYR|B000IDRRY6|     385405694|Rothco Vintage Pa...|          Sports|          5|            0|          0|   N|                Y|Best pair of pant...|As soft as sweatp...| 2015-08-31|\n",
      "|         US|    2716579|R1SDRUAJ561AY3|B00EY83KQ0|     920584855|Phileex Fishing S...|          Sports|          3|            0|          0|   N|                Y|         It works...|Wish it had rubbe...| 2015-08-31|\n",
      "|         US|   18050517|R3DF7PAB9WCAJ5|B00JSTQQNE|     958749274|Stealth Cam G42NG...|          Sports|          5|            0|          2|   N|                Y|stealth Cam    mo...|I am  very happy ...| 2015-08-31|\n",
      "|         US|   24248336|R200VSYPGSLIHD|B0085AOZIK|     851119831|Spalding NBA Slam...|          Sports|          5|            0|          0|   N|                Y|             Love it|      Great quality!| 2015-08-31|\n",
      "|         US|   16431602|R12189PQ9MYPPI|B007595TKU|     326071070|Exerpeutic Foldin...|          Sports|          5|            0|          0|   N|                Y|          Excellent!|So happy with thi...| 2015-08-31|\n",
      "|         US|     991167| RRKE0LYGHCTV3|B007SXKVY2|     749754886|TAC Force TF-710 ...|          Sports|          5|            0|          0|   N|                Y|              Great!|This knife can he...| 2015-08-31|\n",
      "|         US|   38444630|R31UBBCTE9O56G|B012BBJ49I|     286591943|Zipper Sweatband ...|          Sports|          5|            1|          1|   N|                N|This Is A Super H...|This is a great l...| 2015-08-31|\n",
      "|         US|   13243036|R1IL7WRJUVML9S|B003DV9JGO|     158449755|KT TAPE PRO Kines...|          Sports|          3|            0|          0|   N|                Y|         Three Stars|I ordered the blu...| 2015-08-31|\n",
      "|         US|   31278317|R2AFWPP103J9UV|B00SSC96XY|     752373394|Shandali Gosweat ...|          Sports|          5|            0|          0|   N|                Y|use it for my spi...|lovee it!! use it...| 2015-08-31|\n",
      "|         US|   36827489|R1W0K6JGI1Q0ES|B0006Z9YKQ|      20754495|Tie Down Kit (Pac...|          Sports|          5|            0|          0|   N|                Y|          Five Stars|    Worked perfectly| 2015-08-31|\n",
      "|         US|   47992367| RL7RBVXGVKZSS|B00TY42PS8|     428062275|Ringside Boxing K...|          Sports|          4|            0|          0|   Y|                N|Good gloves for p...|Good sparring and...| 2015-08-31|\n",
      "|         US|    7578672|R2ITVQXFARS0T9|B001U1JAJU|     347198198|Galco Ankle Glove...|          Sports|          4|            0|          0|   N|                Y|Good fit and comf...|Used with PPKS.  ...| 2015-08-31|\n",
      "|         US|   40224143|R2RR9YVI5ALY4X|B00UOJHUJQ|     679317837|Callaway Opti-Dri...|          Sports|          5|            0|          0|   N|                Y|It's Cool and Coo...|Very nice present...| 2015-08-31|\n",
      "|         US|   32320946|R3VS6LCQKEMIWZ|B00OL52DEG|     385305398|Under Armour Stor...|          Sports|          5|            0|          0|   N|                Y|My son thinks it'...|It's very durable...| 2015-08-31|\n",
      "|         US|    2426244|R2OAGYF2SKQZ8W|B00VH43ZV4|     887191921|Jordan Men's Nike...|          Sports|          5|            0|          0|   N|                Y|          Five Stars|It has the best q...| 2015-08-31|\n",
      "|         US|   49507930|R1WQ2N77RYSOIF|B001O0DIBS|     512314980|Attwood LED 2-Mil...|          Sports|          5|            0|          0|   N|                Y|           Bow light|Nice light, easy ...| 2015-08-31|\n",
      "|         US|   26068164|R210BD2X5VLEDL|B00KI58AAE|     575830014|GRFGB40138 - Grif...|          Sports|          5|            0|          0|   N|                Y|      Great solution|I finally have a ...| 2015-08-31|\n",
      "|         US|   25531993| RGJHXKB43OQ02|B0009TAH64|     433630916|Meprolight CZ Tru...|          Sports|          5|            0|          0|   N|                Y|Tru-Dots Make The...|These night sight...| 2015-08-31|\n",
      "|         US|   45146278| RKM8ODZ9MG6UY|B00G3P90VQ|     999875102|Deluxe Inversion ...|          Sports|          5|            0|          0|   N|                Y|          Five Stars|Its great can't g...| 2015-08-31|\n",
      "|         US|   43450160|R11MUSRC2J3RG8|B004VXIPRM|     287200117|Pickleball, Inc. ...|          Sports|          5|            0|          0|   N|                Y|It's much better ...|The racket is lig...| 2015-08-31|\n",
      "|         US|    6007200|R1NMZHTRS1B316|B0050JH3XS|      45133091|S&W 36, 37, 60, 3...|          Sports|          5|            0|          0|   N|                Y|               Super|I have worn and u...| 2015-08-31|\n",
      "|         US|   51360859|R36RLK8UW4GAPX|B010BPOR2A|     591392476|Bitly Plantar Fas...|          Sports|          5|            1|          1|   N|                Y|These are the mos...|These are the mos...| 2015-08-31|\n",
      "|         US|   21631517|R2EO7G2YUXV2WX|B0035NCA0W|     118907088|DALLAS COWBOYS NF...|          Sports|          5|            0|          0|   N|                Y|             Love It|Love it-put it on...| 2015-08-31|\n",
      "|         US|   27997149| R6HV1WLDVUPEI|B00YN55VKM|     554256546|TITAN SurvivorCor...|          Sports|          5|            0|          0|   N|                Y|this stuff is ama...|this stuff is ama...| 2015-08-31|\n",
      "|         US|   20421897|R2LY2N1EMHOCRH|B001O0DITA|      81734514|Attwood Tradition...|          Sports|          3|            0|          0|   N|                Y|The light works f...|I worded a 42&#34...| 2015-08-31|\n",
      "|         US|   18055051|R1D4I3TZ075HE5|B00SKLAM5Y|     989775438|Fisherman Eyewear...|          Sports|          5|            0|          0|   N|                Y|          Five Stars|               Great| 2015-08-31|\n",
      "|         US|   21301287|R18C1A3632FYF2|B0006PRN86|     540354433|Tourna Grip XL Or...|          Sports|          4|            0|          0|   N|                Y|Very good for hot...|Very good for hot...| 2015-08-31|\n",
      "|         US|   50602697|  R3VTO9H2SB46|B00UV3BE06|     864193926|Mens 18\" Inch Duf...|          Sports|          5|            0|          0|   N|                Y|small but great q...|Great price and q...| 2015-08-31|\n",
      "|         US|   45270265|R12GWHQTVOEY4E|B005H2TQAQ|     408469846|Ruger LC9 Sneaky ...|          Sports|          5|            0|          0|   N|                Y| Sneaky Pete holster|Gun fits great. W...| 2015-08-31|\n",
      "|         US|   20511063|R1HL6S0VJNPCN0|B00ZD6B0N2|     610178324|Five Star Home Go...|          Sports|          4|            1|          1|   N|                N|This is a nice yo...|This is a nice yo...| 2015-08-31|\n",
      "|         US|   14400216|R3S8ZWE6MIOTOH|B00JFNGTC6|     419537358|Nike Women's Perf...|          Sports|          5|            0|          0|   N|                Y|            Colorful|Fits like other N...| 2015-08-31|\n",
      "|         US|   14432510|R2HBE7ADS83SV5|B009LA8ZDY|     594977802|Bracoo Knee Strap...|          Sports|          3|            0|          0|   N|                Y|Mom was complaini...|Mom was complaini...| 2015-08-31|\n",
      "|         US|   36902057| R1QWBZMR8G66Q|B00XGNU3W8|     646414675|Premium Lady Sili...|          Sports|          3|            0|          0|   N|                Y|         Three Stars|Probably should h...| 2015-08-31|\n",
      "|         US|     225123| R7MH1I9NVA7AT|B00IXDBRNA|     615013490|NFL Kansas City C...|          Sports|          1|            0|          0|   N|                Y|We ordered two ba...|We ordered two ba...| 2015-08-31|\n",
      "|         US|    5284313|R281IJDB0JM1C7|B0000AY6UV|     607254349|WeatherHawk SM-18...|          Sports|          3|            1|          1|   N|                N|Great for wind......|I found that this...| 2015-08-31|\n",
      "|         US|   25873982|R3POJBKOBOYY8V|B000K6WKNE|     429178524|            Tear-Aid|          Sports|          2|            2|          2|   N|                Y|Not great but ok ...|Product worked fo...| 2015-08-31|\n",
      "|         US|   42836955|R1JTLW1UPGCK91|B00SM93ECC|     271697425|Fixed Knife Blade...|          Sports|          4|            0|          0|   N|                N|Great for Zombie ...|Sharp and picture...| 2015-08-31|\n",
      "|         US|   20859389| RL2CPAKD8BXPC|B0002TT3AW|     598444803|Ultra Pro 80 Card...|          Sports|          4|            0|          0|   N|                Y|          Four Stars|seems well constr...| 2015-08-31|\n",
      "|         US|   28424508|R2XZUIA1VJWVHN|B0068NHG7S|     947184966|Gun Storage Solut...|          Sports|          5|            0|          0|   N|                Y|Good product and ...|Great product to ...| 2015-08-31|\n",
      "|         US|   52591923|R22E8W0ZNESOPY|B002IEE7KU|     641543468|A-Zoom 223 Rem Pr...|          Sports|          5|            0|          0|   N|                Y|Function as intended|Protect the AR fi...| 2015-08-31|\n",
      "|         US|    9921316| R2NZQ764KAVF0|B003XZR778|     789477911|Fury Skipper File...|          Sports|          4|            0|          0|   N|                Y|          Four Stars|Great knife. Love...| 2015-08-31|\n",
      "|         US|   15556113|R38M1ST0ZXS9G5|B000C9KZ18|     307965938|Hugger Mugger Cor...|          Sports|          5|            0|          1|   N|                Y|          Five Stars|         Love these!| 2015-08-31|\n",
      "|         US|   25680063|R13UL0D0LCDG3L|B000O8D406|     491272785|Jabsco 37041-0010...|          Sports|          3|            0|          0|   N|                Y|The mounting scre...|The mounting scre...| 2015-08-31|\n",
      "|         US|    1498131|R16D17FPTUE5E0|B0031LKYMY|     253065791|X Rocker 51396 Pr...|          Sports|          5|            0|          0|   N|                Y|          Five Stars|Sound quality is ...| 2015-08-31|\n",
      "|         US|   25532881|R34S42GHONJCXK|B00GXH0VTO|     763513483|Adams Golf Hybrid...|          Sports|          4|            0|          0|   N|                Y|          Good value|Lots of pockets. ...| 2015-08-31|\n",
      "|         US|   15228349|R24UJ5PGQTR8ZD|B000T26KDA|     627927754|V-Line Hide Away ...|          Sports|          3|            0|          1|   N|                Y|         V-Line safe|hard to hang for ...| 2015-08-31|\n",
      "|         US|     128574|R2UBT43P9E36ND|B0051F8PSI|     168550762|MTM Broadhead Box...|          Sports|          4|            0|          0|   N|                Y|          Four Stars|Good quality for ...| 2015-08-31|\n",
      "|         US|   39725043|R1OV7JDQQHI12F|B005BE6A90|     629670514|   NFL- Logo Fathead|          Sports|          5|            0|          0|   N|                Y|I gave this as a ...|I gave this as a ...| 2015-08-31|\n",
      "|         US|    5907794|R2N20DZN9WP8R8|B00MASAYZ6|     664401706|Ak/Sks Sling/Blac...|          Sports|          5|            0|          0|   N|                Y|   It's Good, Buy It|  Works as expected.| 2015-08-31|\n",
      "|         US|   24702943|R1V5696MPTKNQG|B00B9BHUZM|     761974170|Magnetic Soccer C...|          Sports|          5|            0|          0|   N|                Y|Good board for th...|Great magnetic bo...| 2015-08-31|\n",
      "|         US|   41356669| RNUIGFK6XOKGY|B00Y828X3M|     614930710|KEDSUM Wireless S...|          Sports|          1|            1|          1|   N|                Y|You'll be better ...|Cheaply made. The...| 2015-08-31|\n",
      "|         US|   20669561|R2M0EC9O6UOENU|B00I5LHOXM|     884439394|TARGET DARTS Powe...|          Sports|          5|            0|          0|   N|                Y|              Target|First new set of ...| 2015-08-31|\n",
      "|         US|   34824523| RBPY5KX1IETC0|B00I0ZZ25A|      64087847|  GoSports Disc Slam|          Sports|          5|            0|          0|   N|                Y|          Five Stars|           very good| 2015-08-31|\n",
      "|         US|    1208550| RPZSL6F8CT5WJ|B00JM71PIS|     394284480|2014 Susenstore 2...|          Sports|          3|            0|          0|   N|                Y|but they were in ...|sorta cheap feeli...| 2015-08-31|\n",
      "|         US|   52575125|R3ACPUFLAX5VDT|B00J3TZPKO|     213061128|Nike 380969-023 L...|          Sports|          5|            0|          0|   N|                Y|          Five Stars|My son wears it a...| 2015-08-31|\n",
      "|         US|   31615834|R3JMWA6AA3I9HB|B00C88JTYK|     457074164|50 Pack - 12 inch...|          Sports|          5|            0|          0|   N|                Y|All ways great fo...|All ways great fo...| 2015-08-31|\n",
      "|         US|   14571048|R24VCIWXPZLFPH|B0050D1QTQ|     312526746|Aurorae Printed E...|          Sports|          5|            2|          2|   N|                Y|The most comforta...|I am currently in...| 2015-08-31|\n",
      "|         US|    2168227|R38G4CE6RFBK4R|B00OU6UPFK|     470943893|Under Armour Wome...|          Sports|          5|            0|          1|   N|                Y|          Five Stars|LOVE IT. Exactly ...| 2015-08-31|\n",
      "|         US|   23724795|R219H7RFREKPF2|B0053WU87U|     223484816|A-Zoom Revolver M...|          Sports|          5|            0|          1|   N|                Y|       Good product.|        Well made...| 2015-08-31|\n",
      "|         US|   31294085|R1PCH2U0SVUON0|B00DSQ6WF0|     434752176|Boys' Nike Perfor...|          Sports|          5|            0|          1|   N|                Y| happy with purchase|Fit well and hold...| 2015-08-31|\n",
      "|         US|     131518|R1QMHT8KFV4CU3|B00R9ZYGH2|     499183614|DKC-42 OTTER Dama...|          Sports|          4|            1|          2|   N|                Y|          Four Stars|Very beautiful knife| 2015-08-31|\n",
      "|         US|   17386026|R1WZP6PVT476TS|B001H2YLSW|     683268424|Shakespeare Wonde...|          Sports|          3|            1|          4|   N|                Y|It is ok for some...|It is ok for some...| 2015-08-31|\n",
      "|         US|   18003829|R3T3L9FLAE5J3Y|B000IES5PK|     613584429|TruFire Patriot P...|          Sports|          5|            0|          0|   N|                Y|          Five Stars|My daughter lover...| 2015-08-31|\n",
      "|         US|   37661690|R1PCO7VRCVQSCG|B000ENSTH4|     811357827|Aqua Sphere Webbe...|          Sports|          5|            0|          0|   N|                Y|           love them|they make swimmin...| 2015-08-31|\n",
      "|         US|    1185389|R357QBDFT9S72G|B00PN1MIUG|     789470139|Under Armour Girl...|          Sports|          5|            0|          0|   N|                N|finally found wha...|These headbands o...| 2015-08-31|\n",
      "|         US|   48313430|R2IFWP5IKMV967|B0028NKJKS|     619172787|Wilson Soft Play ...|          Sports|          5|            0|          0|   N|                Y|          Five Stars|Good ball for the...| 2015-08-31|\n",
      "|         US|    1007726|R22OCDEBPECIQC|B00SMX7FUU|     495055772|Nikon Coolshot 20...|          Sports|          5|            0|          0|   N|                Y|Great value and g...|This is done wond...| 2015-08-31|\n",
      "|         US|   23419905|R1XMYX4BY5VYCT|B00AHDR7EC|     137017814|Boy's Under Armou...|          Sports|          5|            0|          0|   N|                Y|The Under Armoir ...|Ordered for the b...| 2015-08-31|\n",
      "|         US|    1992388|R1HRO0J732VMOH|B000K7H51K|     958226636|Outers 25 - Piece...|          Sports|          5|            0|          0|   N|                Y|          Five Stars|Nice looking and ...| 2015-08-31|\n",
      "|         US|   30024306| RZFCISYD2SOC0|B00H6YXRTY|     149993113|Heavy Duty Nylon ...|          Sports|          4|            0|          0|   N|                Y|     Bag seems good.|The bag seems fin...| 2015-08-31|\n",
      "|         US|   39900766|R10IHC1J6TXSU7|B00XCZUBDG|     488421054|Brownells Aluma-H...|          Sports|          2|            0|          1|   N|                Y|    Not even close!!|Color not even cl...| 2015-08-31|\n",
      "|         US|    1412055| RNZF9EHPXFNUZ|B00TKQX3VI|     188098008|YogaWise - Ultra ...|          Sports|          5|            0|          0|   N|                Y|     i love THIS MAT|i love THIS MAT ....| 2015-08-31|\n",
      "|         US|   42954144|R1QTL2XZIJXWEQ|B00E9505D4|     310474343|Gold's Gym 310 El...|          Sports|          3|            0|          0|   N|                Y|         Three Stars|It does the job. ...| 2015-08-31|\n",
      "|         US|     128574|R1O0N72WULB7H8|B0009TUEJE|     914871759|Barnett Outdoors ...|          Sports|          4|            0|          0|   N|                Y|         Small tubes|No problems with ...| 2015-08-31|\n",
      "|         US|    1397858|R3NICYYIYORJEE|B008HUE6P0|     671052042|UltraFire 3.6V 88...|          Sports|          1|            1|          1|   N|                Y|Battery worked fo...|Battery worked fo...| 2015-08-31|\n",
      "|         US|    5290804|R12I54D85YECI8|B005HQHDCA|     763435852|Franklin Sports F...|          Sports|          5|            0|          0|   N|                Y|          Five Stars|                  =)| 2015-08-31|\n",
      "|         US|   43173394|R3FRM2NM4QRL9E|B000S6CYFK|     957210709|NcStar Tippmann R...|          Sports|          2|            0|          0|   N|                Y|             Garbage|Flimsy garbage re...| 2015-08-31|\n",
      "|         US|   29044980|R3OFSEYS8OHXI4|B012BFEC9Q|     741997755|Jump Rope - Best ...|          Sports|          5|            0|          0|   N|                N|... today is batt...|Got this today is...| 2015-08-31|\n",
      "|         US|   14201200|R2I3RXY49M1PL2|B00DDBS2JE|     835744251|FOCUS T25 Shaun T...|          Sports|          5|            0|          0|   N|                Y|           loooooove|My husband and I ...| 2015-08-31|\n",
      "|         US|   43386694| RNSJ038F1J2RD|B00CRMYNX4|     556814952|  NFL iPad Mini Case|          Sports|          5|            0|          0|   N|                Y|          Five Stars|My son loves it, ...| 2015-08-31|\n",
      "|         US|    2074438|R2MJ12I7CGAIYD|B00HR6JL28|     287756572|4cmx4cm Mesh Hole...|          Sports|          3|            0|          0|   N|                Y|It ok, just that ...|It ok, just that ...| 2015-08-31|\n",
      "|         US|   11509667|R152E8OMYUXVZZ|B0092702VE|     308285876|Abu Garcia Revo S...|          Sports|          5|            0|          1|   N|                N|Back it with mono...|Hey bradley, your...| 2015-08-31|\n",
      "|         US|   28369091|R3ISIYZR4309NO|B001JPS5BQ|     871132515|Personal Flashing...|          Sports|          1|            0|          0|   N|                Y|Easy braking junk...|Easy braking junk...| 2015-08-31|\n",
      "|         US|   42335752|R18ZB97WF2EHND|B00DTWJHDW|     608780103|adidas Performanc...|          Sports|          5|            0|          0|   N|                Y|Perfect fit. Stay...|Perfect fit. Stay...| 2015-08-31|\n",
      "|         US|   32867659|R1CSBLWV5LDUHM|B0058V99M6|     359482358|adidas Team Speed...|          Sports|          5|            0|          0|   N|                Y|this is a great p...|this is a great p...| 2015-08-31|\n",
      "|         US|   12494830| RIQ73OCYNYE2O|B0033CMK0A|     576709247|Birchwood Casey R...|          Sports|          5|            0|          0|   N|                Y|        Good Grease!|Works as describe...| 2015-08-31|\n",
      "|         US|   48819124| R956ZHNNCATSO|B002E6WYTI|     809271927|1911 Shok Buff Bu...|          Sports|          5|            0|          0|   N|                Y|Fine for Star PD,...|Works just fine f...| 2015-08-31|\n",
      "|         US|   14765851|R11P7GLPUI24EZ|B004U8S0OG|     139096867|Hoppe's No. 9 Lar...|          Sports|          5|            0|          0|   N|                Y|           excellent|as advertised.......| 2015-08-31|\n",
      "|         US|   51574205| R1E8CFOO23K18|B00065X222|     856893966|The Original Stre...|          Sports|          5|            0|          0|   N|                Y|          Five Stars|I love it because...| 2015-08-31|\n",
      "|         US|   23556748|R1QSZ18DO0Z5G7|B00ZQCLVOQ|     297290078|Gym Gloves with W...|          Sports|          5|           11|         11|   N|                Y|My impression so ...|Black stretchy ma...| 2015-08-31|\n",
      "|         US|   43060967|R2C2VAJ2AYYQ48|B00HWCCE80|     886151300|Under Armour Boys...|          Sports|          5|            0|          0|   N|                Y|          Five Stars|Very happy & will...| 2015-08-31|\n",
      "|         US|   50706436|R3FN05MGZI8ST0|B00HZ9WTVC|     516847710|Lee 90355 Cutter ...|          Sports|          5|            0|          0|   N|                Y|          Good value|This converted my...| 2015-08-31|\n",
      "|         US|   24852644|R1A7DQBW80XBLX|B00I70EICG|     929659946|GREEN NPR Yoga Ma...|          Sports|          3|            0|          0|   N|                Y|        Not so great|I like the thickn...| 2015-08-31|\n",
      "|         US|   13116872|R3W56J3XRKWYCS|B006MOW0P6|     367293194|Whetstone Cutlery...|          Sports|          5|            1|          1|   N|                Y|Good weight and f...|Good weight and f...| 2015-08-31|\n",
      "|         US|    1761566|R3EPSY7Z9Y402E|B001D3KBFC|     965316363|Rothco Watch Cap/...|          Sports|          1|            0|          0|   N|                Y|          ugly brown|&#34;coyote tan&#...| 2015-08-31|\n",
      "|         US|   35820485| RHP0IXIURCP3M|B00KXDA2R0|     546894184|Under Armour Tech...|          Sports|          5|            0|          0|   N|                Y|                nice|Nice shirt fits w...| 2015-08-31|\n",
      "|         US|   40540417|R2FAE3LDP1LQEX|B002YHRO06|     424314420|MLB Los Angeles D...|          Sports|          5|            0|          0|   N|                Y|          Five Stars|    fits perfect!!!!| 2015-08-31|\n",
      "|         US|    2909744|R2STIW97RYKO7I|B00MT7JJY0|     551686801|Loogu Multifuncti...|          Sports|          3|            0|          1|   N|                Y|They're fairly ch...|They're fairly ch...| 2015-08-31|\n",
      "|         US|   22208625|R1NU4UPR2J13C8|B00SSLDP6E|     222977523|Hydration Belt fo...|          Sports|          5|            0|          0|   N|                Y|Great service wit...|The follow up fro...| 2015-08-31|\n",
      "|         US|   37223715| RID1G398RAEWY|B0042ARB10|     998399664|Voodoo Tactical M...|          Sports|          2|            0|          0|   N|                Y|           Two Stars|       cheep zippers| 2015-08-31|\n",
      "|         US|    2481106|R1GO7D47CEFWV7|B001786K94|     788341049|Silver Cup Billia...|          Sports|          3|            0|          1|   N|                Y|It's good chalk, ...|It's good chalk, ...| 2015-08-31|\n",
      "|         US|    5187975| RJDLHRIYB3KIC|B007L4ZGXE|     797927582|Zero Tolerance ZT...|          Sports|          5|            0|          0|   N|                Y|          Five Stars|Fast delivery of ...| 2015-08-31|\n",
      "|         US|   41582860|R2PO2MFEF0BLKL|B004S7PPMO|     163715027|Newest Glock 3.5 ...|          Sports|          2|            0|          0|   N|                Y|Dead trigger (har...|I've tried not on...| 2015-08-31|\n",
      "|         US|   17889170|R3KJHYV20D5UL2|B006CTSOC4|     273183986|EZGO 1989-1993 Ma...|          Sports|          3|            1|          2|   N|                Y|Good carb. Had to...|Good carb. Had to...| 2015-08-31|\n",
      "|         US|   49262840|R2BDWV2RG2K1KR|B00XIO0O7O|     662059385|EasyShot SHOOTING...|          Sports|          5|            0|          0|   N|                Y|          Five Stars|easy to read from...| 2015-08-31|\n",
      "|         US|   29280524| RHJJW9TEB4XGT|B004MXIR6K|     502666058|Wilson Zip Golf B...|          Sports|          5|            0|          0|   N|                N|I have played the...|I have played the...| 2015-08-31|\n",
      "|         US|     207642|R2PX5W6S1B01W3|B00EKUXM8I|     910300165|Hit Japanese Anim...|          Sports|          5|            0|          0|   N|                Y|No complaints here!!|It came a few day...| 2015-08-31|\n",
      "|         US|   37142147|R2KMYIBB8CE2SE|B00EOGYPBQ|     939459411|Wildgame Innovati...|          Sports|          5|            0|          0|   N|                Y|          Five Stars|                 thx| 2015-08-31|\n",
      "|         US|   23785505|R3SKJ2448ZI921|B00R6TYLXA|     514906204|Condor Rip Away E...|          Sports|          4|            1|          1|   N|                Y|Correct size for ...|Correct size for ...| 2015-08-31|\n",
      "|         US|   18031356| RUHX48SEJ7XGX|B00FITUL70|     654230468|Big Mike's Fitnes...|          Sports|          4|            0|          0|   N|                Y|Great product, to...|I ordered a Mediu...| 2015-08-31|\n",
      "|         US|   45780722|R3SK6ZRNNHIJUS|B00J1LJ0PU|     731269513|Zoma Swimming Gog...|          Sports|          5|            0|          0|   N|                Y|          Five Stars|Love this set... ...| 2015-08-31|\n",
      "|         US|   26222634|R3RJH2ECQZJ86D|B00K1RIMT8|     605441525|TYR Women's Duraf...|          Sports|          5|            0|          0|   N|                Y|             Love it|I love this style...| 2015-08-31|\n",
      "|         US|   11815418|R37X5NTTRJ1WGT|B001A788JW|      62134343|5.11 Tactical RUS...|          Sports|          5|            0|          0|   N|                Y|excellent constru...|I ordered this pa...| 2015-08-31|\n",
      "|         US|   41805888|R129F7KLSZY2WH|B00VRL1VLS|     378657947|SPIbelt Running B...|          Sports|          5|            0|          0|   N|                Y|Is very comfortab...|Just what I neede...| 2015-08-31|\n",
      "|         US|     293728|R20TZUO5CLQD5A|B00M93SDS2|     236155439|Easy Provider 3 G...|          Sports|          5|            0|          0|   N|                Y|Very suitable for...|it works well and...| 2015-08-31|\n",
      "|         US|   46077399|R15N20BRLR14DD|B00R5S7REM|     210249484|MAKIYO Bling Cute...|          Sports|          5|            0|          0|   N|                Y|          Five Stars|            too cute| 2015-08-31|\n",
      "|         US|   10234517|R1ITGAW14PMOL7|B002U509CC|     503859963|NFL Mini Green Ba...|          Sports|          5|            0|          0|   N|                Y|          Five Stars|Quick shipping an...| 2015-08-31|\n",
      "|         US|   44316158|R1J4Q3TPK41K7U|B000STGXKE|     797151928|Taylor Made Produ...|          Sports|          5|            0|          0|   N|                Y|       Doesn't leak!|Love this boat co...| 2015-08-31|\n",
      "|         US|   11436305|R3EBU4BQQ5GLLZ|B00E3VH3DO|     585239750|  Wilson EZ Gear Kit|          Sports|          3|            0|          1|   N|                Y|If you have a you...|As the saying goe...| 2015-08-31|\n",
      "|         US|   13898327|R3LZZ2BNZDLU1N|B0112P836O|     500533575|Tactical Scorpion...|          Sports|          5|           11|         11|   N|                Y| Adequate & Reliable|I'm leaving this ...| 2015-08-31|\n",
      "|         US|   15556113|R2S4FW8UCRCQNN|B000C9NYV6|     368920112|Hugger Mugger D-R...|          Sports|          5|            0|          0|   N|                Y|          Five Stars|Really nice addit...| 2015-08-31|\n",
      "|         US|   29196047| RCORZGFEW1XRX|B00O0IFBA2|     554555445|Adjustable Kydex ...|          Sports|          5|            1|          1|   N|                Y|          Five Stars|Works and fits pe...| 2015-08-31|\n",
      "|         US|   23785505|R3G1QSPQHYZX0W|B007P5551W|     378105710|Magpul 2nd Art of...|          Sports|          5|            0|          0|   N|                Y|Outstanding revie...|Outstanding revie...| 2015-08-31|\n",
      "|         US|   35282812|R1XEKWYWE8DSSW|B00ASJQGDS|     798932161|KLOUD CITY ® 6 pc...|          Sports|          4|            0|          0|   N|                Y|          Four Stars|Nice, heavy duty ...| 2015-08-31|\n",
      "|         US|    3576226|R35F1WQHC7R2YE|B000ECSDHG|     502926785|Coghlan's Folding...|          Sports|          3|            0|          0|   N|                Y|         Three Stars|only had (2) blad...| 2015-08-31|\n",
      "|         US|   13309326|R27KWFMR8TBHUT|B00IJ04T9Q|     360719093|925 Sterling Silv...|          Sports|          5|            1|          2|   N|                Y|Really pretty con...|Really pretty con...| 2015-08-31|\n",
      "|         US|   21806296|R1BZ8SGA3Q1B03|B00TL0R5P8|     213958276|Portion Fix - Por...|          Sports|          4|            0|          0|   N|                Y|          Four Stars|Absolutely doeabl...| 2015-08-31|\n",
      "|         US|   23728678|R3QJLU8XQ1FH5E|B009L0KGCC|     623533713|BLACK WATERPROOF ...|          Sports|          5|            0|          0|   N|                Y|       Great Product|I am sure glad th...| 2015-08-31|\n",
      "|         US|     689304|R2VUVLHFIDUFVG|B00653PZBK|     361360943|Tough 1 Slow Feed...|          Sports|          4|            0|          0|   N|                Y|Very sturdy; just...|Very sturdy ; jus...| 2015-08-31|\n",
      "|         US|   18753044| RDMFA5VWGFZB3|B000UW1JXK|     584775002|McDavid Deluxe Kn...|          Sports|          3|            0|          0|   N|                Y|         Three Stars|     makes you sweat| 2015-08-31|\n",
      "|         US|    4445735|R25JAXYCEYX72L|B00J64GIQQ|     863175954|TSG 1899 Hoffenhe...|          Sports|          5|            0|          0|   N|                Y|          Five Stars|          Perfect! !| 2015-08-31|\n",
      "|         US|   40531277|R2VM5ID6RPX6PE|B00JGX440Y|     616501602|FlipBelt - USA Or...|          Sports|          5|            0|          0|   N|                Y|Practically Perfe...|Thank goodness fo...| 2015-08-31|\n",
      "|         US|    2530028|R1TFW84OSSPT6O|B00NPZ7WNA|     911585657|Polar M400 GPS Sm...|          Sports|          5|            0|          0|   N|                Y|          Five Stars|Excellent product...| 2015-08-31|\n",
      "|         US|   20511063|R3DTL8NNFSZNR6|B00XRL80GU|     344426800|Gym Gloves For Po...|          Sports|          5|            2|          2|   N|                N|I absolutely love...|I absolutely love...| 2015-08-31|\n",
      "|         US|    2273113|R2EDM4TSO3N28U|B00E633PN6|     947306182|Paracord Planet 1...|          Sports|          5|            0|          0|   N|                Y|          Five Stars|             Perfect| 2015-08-31|\n",
      "|         US|   18755684| R3TAE37IO7IWM|B00VA1EWFW|     116087114|New Corrective Ne...|          Sports|          5|            0|          0|   N|                Y|   Glad I have them!|These are great. ...| 2015-08-31|\n",
      "|         US|    2029737|R1A1W0ATGB37M4|B00T53O4AK|     494404158|Red Lion Brave Pa...|          Sports|          4|            1|          1|   N|                Y|They fit comforta...|They fit comforta...| 2015-08-31|\n",
      "|         US|    1839702|R18JHGV15J1WU8|B00F44PUAM|     475701670|Avalanche Pistol ...|          Sports|          1|            0|          0|   N|                Y|            One Star|Is very difficult...| 2015-08-31|\n",
      "|         US|   19018237|R3FIFAG0UBXFC0|B00EGDVZ9C|     451192288|Andux Golf Hybrid...|          Sports|          5|            1|          1|   N|                Y|          Five Stars|Like the head cov...| 2015-08-31|\n",
      "|         US|   15398722|R20U7IRHAG9PW2|B00B1GGMV8|     203294510|Police Force 8 Mi...|          Sports|          5|            0|          0|   N|                Y|          Five Stars|               great| 2015-08-31|\n",
      "|         US|   33839304| RQY1FJ23987HT|B003BF8NSM|     290427247|Wilson Titanium B...|          Sports|          5|            0|          0|   N|                Y|          Five Stars|It's a good golf ...| 2015-08-31|\n",
      "|         US|   25256563|R3TCLFVJZF3EWX|B0085P7168|     574858041|Red Rock Outdoor ...|          Sports|          5|            0|          0|   N|                Y|          Five Stars|       Great product| 2015-08-31|\n",
      "|         US|   47925642|R2QD6M9B6NS49K|B00WS4FRQ8|     793295546|BEEWARE Targets -...|          Sports|          5|            0|          0|   N|                Y|Nice heavy backin...|These were exactl...| 2015-08-31|\n",
      "|         US|   25901672| R528BRRJSEO50|B00OX1K930|     697185929|NHL Detroit Red W...|          Sports|          5|            0|          1|   N|                Y|          Five Stars|                Nice| 2015-08-31|\n",
      "|         US|    1992388|R3KZNTEH56YT8Q|B000PW64JY|     338306610|Hoppe's No. 9 Lub...|          Sports|          5|            0|          0|   N|                Y|          Five Stars|      Great product.| 2015-08-31|\n",
      "|         US|    2406868|R1ATAU15QTF8A4|B007URNBDE|     122874805|NFL '47 Clean Up ...|          Sports|          5|            0|          0|   N|                Y|          Five Stars|             got it!| 2015-08-31|\n",
      "|         US|     124111|R19DZ8T5MD1DGO|B0053EQM32|     659654425|UTG Concealed Bel...|          Sports|          3|            0|          0|   N|                N|         Three Stars|Shipping and pric...| 2015-08-31|\n",
      "|         US|   31907736| ROCIPEQB0UWKF|B00K64XUCK|     446125947|Grip Strengthener...|          Sports|          1|            0|          0|   N|                Y|          Do Not Buy|I bought this pro...| 2015-08-31|\n",
      "|         US|   31352301|R1OG03BWOSGRMA|B009ZZMQWQ|      21970870|Iron Ring Large -...|          Sports|          5|            0|          0|   N|                Y|          Five Stars|            Perfect.| 2015-08-31|\n",
      "|         US|     491139| R5GHO2BA8OIOD|B0019MNKX2|     123548605|5.11 Tactical Ope...|          Sports|          2|            0|          2|   N|                Y|            Too long|Wrong size, I nee...| 2015-08-31|\n",
      "|         US|   39522968|R3BBU5FC72YZOO|B007O5B0LC|     404399665|Weslo Cadence G 5...|          Sports|          1|            8|          9|   N|                Y|Do not buy a Wesl...|Awful. Just awful...| 2015-08-31|\n",
      "|         US|   47628330|R1Y6F9TISW2QIO|B00491NQ4I|      55318447|STX Lacrosse Stic...|          Sports|          5|            0|          1|   N|                Y|      Pocket pounder|     Does the trick!| 2015-08-31|\n",
      "|         US|   19789872|R3N3W60G8VXEZQ|B00ZS3DC4U|     119915241|StashBandz Unisex...|          Sports|          4|            1|          1|   N|                Y|          Four Stars|Fits perfect - si...| 2015-08-31|\n",
      "|         US|   18055051| RTL9FK3ZJPSU9|B00KWMD93Q|     876139692|Under Armour Men'...|          Sports|          5|            0|          0|   N|                Y|          Five Stars|               Great| 2015-08-31|\n",
      "|         US|   43780866|R28K8OLF9JOGYA|B009UPKL2I|     857682959|US Military M2A1 ...|          Sports|          5|            0|          0|   N|                Y|are great shape, ...|Ammo, are great s...| 2015-08-31|\n",
      "|         US|   37793562|R3E4C4N42FWKI2|B000NWHC1A|      47675528|FuelBelt Gel Read...|          Sports|          5|            0|          0|   N|                Y|           Excellent|           Excellent| 2015-08-31|\n",
      "|         US|   34045458|R2AWOOML0S6O6I|B008RK4YKW|     816699515|Speedo Junior Vic...|          Sports|          4|            0|          0|   N|                Y|Great goggles for...|Great goggles for...| 2015-08-31|\n",
      "|         US|    1220133| RZC61QRW20JFC|B00IEU9EUA|     450845577|Viridian CR1/3N 3...|          Sports|          5|            0|          0|   N|                Y|          Five Stars|               Great| 2015-08-31|\n",
      "|         US|   36532994|R3KC0XD9V87QG6|B00V6JBWW4|     774365154|(2) Stealth Cam P...|          Sports|          4|            4|          6|   N|                Y|   Great camera.....|I bought I 2 pack...| 2015-08-31|\n",
      "|         US|   52467947| ROVT8XIK2DDO0|B00HWJGMGI|     457555201|Moultrie M-1100i ...|          Sports|          3|            3|          3|   N|                Y|but my cell phone...|I bought 5 of the...| 2015-08-31|\n",
      "|         US|   18236761| R9Z657VMIXT41|B000VYHK80|     315015769|Magpul Alum Enhan...|          Sports|          2|            0|          0|   N|                Y|           Two Stars|Pain in ass to in...| 2015-08-31|\n",
      "|         US|   42522806|R3HTFLNOA66LIX|B003AVGRAI|     678038118|Vortex Recon 15x5...|          Sports|          3|            1|          1|   N|                Y|This scope feels ...|This scope is of ...| 2015-08-31|\n",
      "|         US|   10138996|R1329IPRC75J5Y|B004L636LE|     451171729|Beyond Yoga Shirr...|          Sports|          5|            0|          0|   N|                Y|          Five Stars|color is very nic...| 2015-08-31|\n",
      "|         US|   41688717|R26JOPDI8YD2PZ|B000LC65QA|     186063766|Potty Putter Toil...|          Sports|          3|            0|          0|   N|                Y|it is super cheap...|Cute for a gag gi...| 2015-08-31|\n",
      "|         US|   31891249| RX1OGIOU2RA27|B00070QDZ4|      40372191|Speedo Women's Va...|          Sports|          5|            0|          0|   N|                Y|great product...5...|great product at ...| 2015-08-31|\n",
      "|         US|   16098124|R34Q956Y3AH0PR|B00VHS2HV4|     989185148|MESHA Pair of 2\" ...|          Sports|          5|            0|          0|   N|                Y|  Excellent product!|I really like the...| 2015-08-31|\n",
      "|         US|   35788934|R3SSTUG1V95KS6|B003FKNSSS|        800188|Seaguar Abrazx 10...|          Sports|          4|            0|          1|   N|                Y|          Four Stars|This works great....| 2015-08-31|\n",
      "|         US|    1731185|R2UYIKI1PO9PUV|B004RKJJTC|      94127483|adidas Men's Spor...|          Sports|          5|            0|          0|   N|                Y|          Five Stars|                 ok.| 2015-08-31|\n",
      "|         US|   18422248|R2VJOU28ZANY1V|B000IXWA8E|     492883673|Tachikara Volley-...|          Sports|          5|            0|          0|   N|                Y|          Five Stars|Grand daughter lo...| 2015-08-31|\n",
      "|         US|   30898903|R12T9HTURB2UX8|B00VXV522Q|     494357892|Fit Spirit Set of...|          Sports|          5|            0|          0|   N|                Y|          Five Stars|      Perfect! Love!| 2015-08-31|\n",
      "|         US|    2772799|R21HWG62W186YD|B00WCVOS62|     503557241|Resistance Tubing...|          Sports|          5|            0|          0|   N|                Y|          Five Stars|Easy to use and e...| 2015-08-31|\n",
      "|         US|    2079648|R3DITES15M3WQ4|B00JVWA6QG|     915491796|SmartShake SLIM B...|          Sports|          5|            0|          0|   N|                Y|          Five Stars|        Its great!!!| 2015-08-31|\n",
      "|         US|   38731011| RFLZ0IIY4H7D0|B00O1XVNIU|     420686895|Speedo Men's Endu...|          Sports|          3|            0|          0|   N|                Y|               fit??|larger size would...| 2015-08-31|\n",
      "|         US|   33682560|R24E8NGGQ6K7TU|B00QZ1IMCQ|     616374280|Posture Corrector...|          Sports|          5|            3|          4|   N|                N|easy, and quick w...|I purchased this ...| 2015-08-31|\n",
      "|         US|   17942798|  R34JLPF2BZTW|B00GLX4KZ6|     906516351|50 Pack - 12 x 18...|          Sports|          5|            0|          0|   N|                Y|staple easy to my...|Smaller targets, ...| 2015-08-31|\n",
      "|         US|   10747551|R2QPH72CS0P871|B00HHYX6GM|     961912591|ADIDAS 14 MLS GLI...|          Sports|          2|            0|          0|   N|                Y|           Two Stars|Ball didn't hold ...| 2015-08-31|\n",
      "|         US|     900561|R2IWYQ9WPZFG11|B00DSL5PK8|     882463204|    NFL Spirit Watch|          Sports|          2|            0|          0|   N|                Y|      Disappointed!!|Got this as a gif...| 2015-08-31|\n",
      "|         US|   25970677|R39LD3GXDGZ7WQ|B008RTKF1U|     655942726|Police Magnum Fau...|          Sports|          5|            0|          1|   N|                Y|Small secure PROT...|Security takes no...| 2015-08-31|\n",
      "|         US|   17570253|R2U2OIA8J2IKUO|B00074H6VA|     400114370|Harbinger Pro Non...|          Sports|          5|            0|          0|   N|                Y|Perfect. Just as ...|Perfect.  Just as...| 2015-08-31|\n",
      "|         US|   13915776| RX15KW4YMYWDD|B00919G9L0|     377587385|Blade Tech Rough ...|          Sports|          4|            0|          0|   N|                Y|              Great!|Great belt. Makes...| 2015-08-31|\n",
      "|         US|   45193257|R3R2V8E1W8LBVK|B000JEONXC|     752763111|Spyderco 002818 C...|          Sports|          5|            2|          3|   N|                N|         Clever idea|As you can see fr...| 2015-08-31|\n",
      "|         US|   45070473|R15Q1J1SEVFRY4|B010RVUTDY|     410752677|13 Piece Resistan...|          Sports|          5|            0|          0|   N|                N|Different levels ...|Has many pieces. ...| 2015-08-31|\n",
      "|         US|   39862879|R3T46TWPMA54WG|B000LC23RU|     580209360|Lee Precision 375...|          Sports|          5|            0|          0|   N|                Y|          Five Stars|works great on ca...| 2015-08-31|\n",
      "|         US|   24811413|R3FG7NRNI35CPB|B00ZIA7FQ4|     919696302|CAMTOA Tactical B...|          Sports|          1|            0|          1|   N|                Y|            One Star|Piece of crap it ...| 2015-08-31|\n",
      "|         US|   42537103| RPJL1Q86A17LR|B00AKJVYYC|     756923777|NEW Callaway RAZR...|          Sports|          5|            0|          0|   N|                Y|          Five Stars|Nice little head ...| 2015-08-31|\n",
      "|         US|   37416166| REEA2OR9MZP6Z|B004OWJ18W|     783796861|Next Level Mens P...|          Sports|          5|            0|          0|   N|                Y|          Five Stars|          Very soft.| 2015-08-31|\n",
      "|         US|   10580842| R7DDFTEAM62UL|B00W0DRVKC|      39730780|Nymphs Fly Fishin...|          Sports|          5|            0|          0|   N|                Y|          Five Stars|completely satisfied| 2015-08-31|\n",
      "|         US|   35687189|R3KWSDE0NQSUWQ|B005OOFBBU|     260802821|Franklin Sports M...|          Sports|          5|            0|          0|   N|                Y|         Great deal!|Great price and d...| 2015-08-31|\n",
      "|         US|    9078251|R34SZFSE7F11XW|B00R6ZXTXM|     936656134|NIKE Men's Pro Ti...|          Sports|          5|            2|          3|   N|                Y|          Five Stars|             Perfect| 2015-08-31|\n",
      "|         US|    6120200|R1ZS3N76UJ0GIW|B001B3U3OS|     636384918|Set of 20 Disc Co...|          Sports|          5|            0|          0|   N|                Y|          Five Stars|There perfect<br ...| 2015-08-31|\n",
      "|         US|     654414|R2AYWTNT3UPJXL|B00KWIOF2Y|     409645625|TNT Pro Series Wa...|          Sports|          5|            0|          0|   N|                Y|          Five Stars|             Awesome| 2015-08-31|\n",
      "|         US|   10973581|R3T5VKVTS993Q5|B005FH6ZYS|     249935108|NFL Houston Texan...|          Sports|          5|            0|          0|   N|                Y|   Support your team|          Dad loved.| 2015-08-31|\n",
      "|         US|   27900164|R2HCOJV4T8B4QF|B007SF1D3I|     973497483|frogg toggs Men's...|          Sports|          4|            0|          0|   N|                Y|        I love them.|The only reason I...| 2015-08-31|\n",
      "|         US|   33609300|R3B4LNSSUQV04K|B00HND0RI2|     873008729|Zumba Fitness Wom...|          Sports|          5|            0|          0|   N|                Y|          Five Stars|Love to use this ...| 2015-08-31|\n",
      "|         US|   23148339|R1FIW1KR6CQTMJ|B000MTI1KU|     799367346|Moeller Heavy Dut...|          Sports|          5|            0|          0|   N|                Y|         Good choice|Should last a lon...| 2015-08-31|\n",
      "|         US|   41736178| RES9SWTFBKYY2|B002RPMUHM|     321261024|Ready 2 Fish Soft...|          Sports|          5|            0|          0|   N|                Y|Great gift for th...|This was a great ...| 2015-08-31|\n",
      "|         US|   35012617|R14RZODSD5OF49|B00HAMIKU8|     723592737|Paracord Planet 1...|          Sports|          5|            1|          1|   N|                Y|Great stuff, used...|Great stuff, used...| 2015-08-31|\n",
      "|         US|    2388506|R38NKMIDNAW7M4|B00KC54XEM|     760227482|Tac Force Assiste...|          Sports|          4|            0|          1|   N|                Y|          Four Stars|Great knife almos...| 2015-08-31|\n",
      "|         US|   43610958|R1NHB75YEAVD9X|B00X0ZKLQ0|     206186736|QING OUTDOOR Prem...|          Sports|          5|            0|          0|   N|                Y|          Five Stars|Things are sweet,...| 2015-08-31|\n",
      "|         US|   10371757|R14YQRHFNNM7YN|B00VNQDGNI|     259606839|Collegiate Closer...|          Sports|          5|            0|          0|   N|                Y|          Five Stars|My grandson  love...| 2015-08-31|\n",
      "|         US|   28088792|R3B1MQW54MHBU5|B008TE8WCC|     765146510|Ace Martial Arts ...|          Sports|          4|            0|          0|   N|                Y|          Four Stars|Exactly as expected.| 2015-08-31|\n",
      "|         US|   35343643| R1EBD6J2JU0AV|B001MYYOB4|     430812637|Fobus Holster Dou...|          Sports|          5|            0|          0|   N|                Y|          Five Stars|Perfect holster f...| 2015-08-31|\n",
      "|         US|   34364633|R2DH7LXNDTRFIS|B00ITIB4Z0|     926268030|Leader Accessorie...|          Sports|          5|            0|          0|   N|                Y|          Five Stars|Fits perfect...lo...| 2015-08-31|\n",
      "|         US|   36306266|R3O380LSZIW4EQ|B004SH6UDW|     504908466|NIKE ELITE BASKET...|          Sports|          4|            0|          1|   N|                Y|          Four Stars|Very nice sock. F...| 2015-08-31|\n",
      "|         US|   14021170| RTWS44D7RFSUT|B00L1L6362|      78137126|GOLME PRO Pop Up ...|          Sports|          5|            0|          0|   N|                Y|          Five Stars|Our baby is very ...| 2015-08-31|\n",
      "|         US|   43669858| RT3UD0R7EUKEQ|B006MO9EK0|     978519300|Greatree Archery ...|          Sports|          5|            0|          0|   N|                Y|Perfect for takin...|The most compact ...| 2015-08-31|\n",
      "|         US|   10463688|R2NLUKTRT21MGR|B00COY99U2|     851945551|Lifting Wrist Str...|          Sports|          5|            0|          0|   N|                Y|Works as intended...|edit2: received r...| 2015-08-31|\n",
      "|         US|   22012581| RVD888CYRFJWL|B008KZWGC2|     548942961|Easton Youth Syne...|          Sports|          5|            0|          1|   N|                Y|Nice quality gloves!|Nice gloves! Afte...| 2015-08-31|\n",
      "|         US|   10525400| RFG4KD5HNO0JX|B000GBSI9I|     538384332|Allen Precision N...|          Sports|          5|            0|          0|   N|                Y|          Five Stars|      No complaints.| 2015-08-31|\n",
      "|         US|   10862624|R1LPBCITEEVNVX|B006RUWQBS|     129730412|Blue 12\" Practice...|          Sports|          5|            0|          0|   N|                Y|Karate in the Gar...|Great practice ch...| 2015-08-31|\n",
      "|         US|   42149935|R1RPQ20SG7J0XB|B011466LOW|     287200338|FC Kids 2015-2016...|          Sports|          1|            2|          2|   N|                Y|            One Star|sizing is not acc...| 2015-08-31|\n",
      "|         US|   11426841| RKGW5SQCM3831|B00TBEPXJY|     812016203|Magpul MAG607 M-L...|          Sports|          4|            0|          1|   N|                Y|          Four Stars|  Just what I needed| 2015-08-31|\n",
      "|         US|   51624418|R1BYDN4VD06DTY|B0094KUQ4W|     593614258|Miniature Fairy G...|          Sports|          5|            0|          0|   N|                Y|Croquet Set for F...|This fairy garden...| 2015-08-31|\n",
      "|         US|   46070467|R2EO9X8CD25UTE|B0006VNE4M|     375216067|Brian Urlacher Re...|          Sports|          5|            0|          0|   N|                Y|          Well made!|     Worth the cost!| 2015-08-31|\n",
      "|         US|   25631656| R81H98CD7NU84|B00108TC96|     555174308|SeaSense Recessed...|          Sports|          5|            0|          1|   N|                Y|  Kayak beer holder!|Perfect for holdi...| 2015-08-31|\n",
      "|         US|   51795785|R3IJ66RAOHP146|B001I1K6E0|     429777429|Bullworker - Bow ...|          Sports|          5|            0|          1|   N|                Y|          Five Stars|Great product - a...| 2015-08-31|\n",
      "|         US|   47453211| RIW305XUZXFOY|B00SM93ECC|     271697425|Fixed Knife Blade...|          Sports|          3|            2|          3|   N|                N|           It's Okay|This looked like ...| 2015-08-31|\n",
      "|         US|    2452196|R1NV2GLBAY95BV|B00JBH7QO6|     903711927|Covert MP8 Game C...|          Sports|          5|            0|          0|   N|                Y|          Five Stars|Best Camera I've ...| 2015-08-31|\n",
      "|         US|   45486318|R2XD1T8A4PHEZR|B00RCTPNYK|     368005271|Adidas Men's Athl...|          Sports|          5|            1|          1|   N|                N|Best undershirt-t...|I've tried severa...| 2015-08-31|\n",
      "|         US|    5290804|R3I3FRUHBB7I2Z|B004HFS02O|     495819915|MLB Cool Base Aut...|          Sports|          5|            0|          1|   N|                Y|          Five Stars|                  =)| 2015-08-31|\n",
      "|         US|   14850107|R2EAS0VLF2BB3O|B00GJG75VG|     633602483|Basis Peak - Ulti...|          Sports|          4|            0|          0|   N|                Y|No more chest str...|Basis Peak works ...| 2015-08-31|\n",
      "|         US|   38538333|R2ZXVCJWLMYVG2|B00W9D9UAW|     917266487|Henoda Black Repl...|          Sports|          5|            0|          0|   N|                Y|          Five Stars|exactly what I ne...| 2015-08-31|\n",
      "|         US|    2724801| R15BNXMME512S|B00MKHHTRS|     130422395|Arsenal Home 2014...|          Sports|          5|            1|          1|   N|                Y|               Happy|Nice shirt to my ...| 2015-08-31|\n",
      "|         US|   15429913| RPGYGI9ER3D0Y|B00EOH7K0I|     262099186|injinji Sport Ori...|          Sports|          5|            0|          0|   N|                Y|          Five Stars|comfortable, and ...| 2015-08-31|\n",
      "|         US|   45001609|R1PV5TJSV8YL5A|B00994IQI6|     756792230|Milliard Rectangu...|          Sports|          5|            0|          0|   N|                Y|          Five Stars|love the bolster....| 2015-08-31|\n",
      "|         US|    7572409|R2EDHSG5UG8SZN|B003LNR5YM|     365082193|Kershaw Clash Fol...|          Sports|          5|            0|          0|   N|                Y|Great cheap quali...|Bought two of the...| 2015-08-31|\n",
      "|         US|   25702936|R13079416I5BLB|B00CZ59UAO|     294626526|Duck Dynasty It’s...|          Sports|          3|            0|          0|   N|                Y|         Three Stars|          Nice shirt| 2015-08-31|\n",
      "|         US|   10751624| RQ11L7WEG3NIS|B007DM6S72|      59327699|LOCK LACES (Elast...|          Sports|          5|            0|          0|   N|                Y|       Great product|Got it delivered ...| 2015-08-31|\n",
      "|         US|   19205401|R176BXAXV85FT6|B00LA5MYIA|     726022587|Premium Yoga Mat ...|          Sports|          5|            1|          1|   N|                Y|          Five Stars|I just love it, i...| 2015-08-31|\n",
      "|         US|   51550026|R2D6ZRWWTIU2MT|B000H38LLK|     764378775|Spalding Heavy Du...|          Sports|          1|            2|          2|   N|                Y|I bought it think...|This basketball n...| 2015-08-31|\n",
      "|         US|   51103411|R3DQ5EEPRGG8HC|B00GOO8PXU|     368897181|adidas Women's Sq...|          Sports|          5|            0|          0|   N|                Y|          Five Stars|Fits perfectly in...| 2015-08-31|\n",
      "|         US|   17793368| RSVDXD6NFQB7A|B00120P9HQ|     555088524|Cable Attachment ...|          Sports|          5|            0|          0|   N|                Y|          Five Stars|Very good quality...| 2015-08-31|\n",
      "|         US|   36076198|R1CUEFJ8T62KRO|B0091DMDPM|     179758583|Franklin Sports 1...|          Sports|          4|            0|          0|   N|                Y|      Very ball like|They're ping pong...| 2015-08-31|\n",
      "|         US|   13334868|R1ZTHNIEBQR8XU|B004QXYQXE|     963606595|NCAA Texas Longho...|          Sports|          1|            0|          0|   N|                Y|            One Star|Stitching comes r...| 2015-08-31|\n",
      "|         US|   29072263|R288V1GZE1I8YW|B00427JALW|     158811302|Body Sport Half F...|          Sports|          4|            0|          0|   N|                Y|          Four Stars|Goof, but sort of...| 2015-08-31|\n",
      "|         US|   49192864| RPC0KBUWNYWS2|B00PJO2LSQ|     109070095|PUMA Men's 3-Pack...|          Sports|          5|            0|          0|   N|                Y|          Five Stars|Good product,  gr...| 2015-08-31|\n",
      "|         US|   48108831|R1SOCOI94R2C5O|B00YG822GW|      60759492|Under Armour Big ...|          Sports|          5|            0|          0|   N|                Y|great, kids love ...|Just right for my...| 2015-08-31|\n",
      "|         US|   26324253|R2LA9RZKGBAVRD|B00WUU03UA|     719135434|Clad Oversized Co...|          Sports|          5|            0|          0|   N|                Y|            Perfect!|Perfect. Just wha...| 2015-08-31|\n",
      "|         US|   32942284|R33UPLA0OIPXA4|B00I2Y7ZN6|     312512339|RDX Weight Liftin...|          Sports|          4|            3|          3|   N|                Y|Recommended to ge...|I bought these in...| 2015-08-31|\n",
      "|         US|   30898903| RNT3K56GJRI5G|B00IJFQLXI|     659147575|Spoga Premium Ext...|          Sports|          5|            0|          0|   N|                Y|This mat is wonde...|Here I am 180 lbs...| 2015-08-31|\n",
      "|         US|   39436751| R3AOMTY0RRQYQ|B0017XDN9E|     193853735|Tru Ball Pro Diam...|          Sports|          5|            0|          0|   N|                Y|Great release for...|Very nice release...| 2015-08-31|\n",
      "|         US|    9088967|R1MH7VT1I3JYDK|B0024XEXQS|     282473823|Gamo Whisper Sile...|          Sports|          5|            0|          0|   N|                Y|          Five Stars|      Very accurate.| 2015-08-31|\n",
      "|         US|   43955441|R2RINHBVT05IX1|B00E0FBK8C|      47293191|Final Approach Mi...|          Sports|          5|            0|          0|   N|                Y|Just what I was h...|Just what I was h...| 2015-08-31|\n",
      "|         US|     724283|R3T9SX77L9M76P|B00UR4HH5U|     158771670|  Mission Multi-Cool|          Sports|          4|            0|          0|   N|                Y|          Four Stars|            Awesome!| 2015-08-31|\n",
      "|         US|   16201222|R1YGII0AR1OF6M|B0062CB360|     551220514|GEN 4-5 Sure Plug...|          Sports|          5|            0|          0|   N|                Y|          Five Stars|         Fit perfect| 2015-08-31|\n",
      "|         US|   49272323|R3FUHZPJJIQFLM|B00MEQU1KM|     362882361|Mizuno Classic Pr...|          Sports|          5|            0|          1|   N|                N|        Great Glove!|Great leather, wh...| 2015-08-31|\n",
      "|         US|   19729057| RMEPHJP4KGEFM|B00EE79EZM|     153824573|COOLING TOWEL - S...|          Sports|          5|            0|          1|   N|                Y|Wet it put it on ...|I bought one for ...| 2015-08-31|\n",
      "|         US|   17348415|R248O3EGW1GWGF|B007WHCT5S|     251705256|TAC Force TF-705 ...|          Sports|          5|            0|          0|   N|                Y|          Five Stars|Great replacement...| 2015-08-31|\n",
      "|         US|   42341403|R3IC01WQX0K3QJ|B00NG1ECBS|     565346728|PowerNet Baseball...|          Sports|          5|            0|          0|   N|                Y|Great net for bac...|Great product! My...| 2015-08-31|\n",
      "|         US|   10552482|R1RI9JSN4CIROK|B000KOP9PM|     359250857|Hoppe's Boresnake...|          Sports|          4|            0|          0|   N|                Y|      quick and easy|     quick and easy.| 2015-08-31|\n",
      "|         US|   22025007|R1LHZL89STMVGK|B00J4N8WXQ|     433992461|Evolution Gun Wor...|          Sports|          5|            0|          0|   N|                Y|          Five Stars|Works as advertis...| 2015-08-31|\n",
      "|         US|   45236049| R83BN2JTEKSPX|B004ZFHVYE|      90536958|Shimano Lucanus Jigs|          Sports|          4|            0|          0|   N|                Y|Pretty decent - v...|great for rushing...| 2015-08-31|\n",
      "|         US|   52346213|R25BFGYJ5JSQVK|B001ONCO6K|     823501296|Whetstone Cutlery...|          Sports|          5|            0|          0|   N|                Y|          Five Stars|Very nice quality...| 2015-08-31|\n",
      "|         US|   43587921|R1YDPSI1M08J0M|B001PGWNZS|     906996030|Classic Accessori...|          Sports|          5|            0|          1|   N|                Y|          Five Stars|works good on my ...| 2015-08-31|\n",
      "|         US|   18762198|R39SWCJ52F7LYY|B00IKT2AC4|     429015451|Nike Storm 4-Bott...|          Sports|          5|            2|          2|   N|                Y|          Five Stars|Perfect addition ...| 2015-08-31|\n",
      "|         US|   20653977| R9S8BT7RD4786|B001DZT21O|     753110443|   Spyderco Civilian|          Sports|          5|            1|          2|   N|                Y|wonderfully balan...|Came with Spyderc...| 2015-08-31|\n",
      "|         US|   11312670|R3CLHAVC0SD7PB|B00HE4QBFI|     654052395|New Balance Women...|          Sports|          5|            0|          0|   N|                Y|          Five Stars|          Perfect!!!| 2015-08-31|\n",
      "|         US|   24574418|R1BHBSPM55LJX8|B002V34D98|     686195556|Wilson NCAA Baske...|          Sports|          5|            0|          0|   N|                Y|          Five Stars|As i expected.. P...| 2015-08-31|\n",
      "|         US|   22370074|R2RF7XO2V9ZMZW|B00O61332Q|     874379206|PL Band for Fitbi...|          Sports|          1|            0|          0|   N|                Y|I only received a...|I only received a...| 2015-08-31|\n",
      "|         US|   45110118| RP9KFRABBCMHS|B00IP7NAZ2|      25326615|Ocean Tackle Inte...|          Sports|          5|            0|          0|   N|                Y|          Five Stars|Great for catchin...| 2015-08-31|\n",
      "|         US|   43660683|R2A0T77GJ2GB93|B00Q5B8SWK|     561752614|Zak Tool Key Ring...|          Sports|          5|            0|          0|   N|                Y|          Five Stars|Nice and sturdy. ...| 2015-08-31|\n",
      "|         US|   45121976| RJS5SI1VQ6DG5|B00N8HDMQ6|     287126876|Voberry® 6 in 1 B...|          Sports|          5|            0|          0|   N|                Y|          Five Stars|             Love it| 2015-08-31|\n",
      "|         US|   41462477|R2FSQL2UGMQLZ8|B00I2U5RL2|     801322036|Next Level mens P...|          Sports|          5|            2|          2|   N|                Y|Softest shirt for...|Very soft, comfor...| 2015-08-31|\n",
      "|         US|   33637718|R3TMTJIIW1347G|B004SOLNXC|     742043002|MLB 2-Piece Die-C...|          Sports|          1|            0|          0|   N|                Y|  Only works on cars|I thought this co...| 2015-08-31|\n",
      "|         US|   17182742|R3II9XW9MXMYX8|B00TZKF6JQ|       5239246|Gerber Freescape ...|          Sports|          4|           12|         14|   N|                Y|        Nice knives.|I first saw this ...| 2015-08-31|\n",
      "|         US|   30861441|R1UK5O6Q95DK77|B00RBDCHY6|     948538070|Doinshop 1Pair Wo...|          Sports|          2|            1|          1|   N|                Y|           Two Stars|These earrings lo...| 2015-08-31|\n",
      "|         US|     817760|R1YUILYIGK3X2J|B00DCX31OY|     731126639|Black Mountain Pr...|          Sports|          5|            0|          0|   N|                Y|High quality product|This is great for...| 2015-08-31|\n",
      "|         US|   20667328|R2J64AX3DI2R8H|B00GD0PB5A|     924922889|Nike Vapor Elite ...|          Sports|          5|            0|          0|   N|                Y|          Five Stars|              Great!| 2015-08-31|\n",
      "|         US|    3181676|R2LIQ8AQGEZWLN|B0054FAIIK|     644323342|Turboflame Ranger...|          Sports|          1|            0|          1|   N|                Y|            One Star|A total price of ...| 2015-08-31|\n",
      "|         US|   19909768|R3E0M1IB6ZRXCB|B0041G5FRW|      19318744|Skirt Sports Happ...|          Sports|          5|            0|          0|   N|                Y|Great skirt for r...|Perfect for long ...| 2015-08-31|\n",
      "|         US|    7423962|R3FK8HXMZ8L352|B00WXM1C4G|     694861935|Mike Trout Los An...|          Sports|          5|            0|          0|   N|                Y|          Five Stars|GREAT FIT, GREAT ...| 2015-08-31|\n",
      "|         US|    3502486|R1OS3A9BWKMOG3|B00XDLH17I|     980508848|Durarara: Celty H...|          Sports|          4|            0|          0|   N|                Y|Starts to fade fa...|Starts to fade fa...| 2015-08-31|\n",
      "|         US|    8385296|R3E1XM728Z3QMD|B00UY5NUTY|     349002858|CAROL'S COOKIES T...|          Sports|          5|            0|          0|   N|                Y|   I love this shirt|I love this shirt...| 2015-08-31|\n",
      "|         US|   17845468|R3MUDMNPKAASUZ|B003FWIZFC|     393055382|Tippmann Universa...|          Sports|          4|            0|          0|   N|                Y|          Four Stars|                  ok| 2015-08-31|\n",
      "|         US|    6356995|R3E3IS1WARIYHW|B00O5U3MIS|     508657804|Fire Force Butt S...|          Sports|          5|            0|          0|   N|                Y|          Five Stars|Fits very good on...| 2015-08-31|\n",
      "|         US|   14457946| R6OS7Y644GS27|B00KW0LGUQ|     321214648|Tommie Copper Wom...|          Sports|          5|            1|          1|   N|                Y|               Magic|I don't believe i...| 2015-08-31|\n",
      "|         US|     122412|R241AZOJUYRXLW|B012G6ZOII|     305658645|Optical Mirrored ...|          Sports|          5|            0|          0|   N|                N|      Pretty in pink|great guggles eas...| 2015-08-31|\n",
      "|         US|    9971639|R12L1K9GIITUTL|B0015ZZEBE|     151952387|Costa Del Mar Neo...|          Sports|          4|            0|          0|   N|                Y| A little too short.|This works fine b...| 2015-08-31|\n",
      "|         US|   32778769|R3A9R4EVYRG4FV|B00GQTROYY|       1883498|Tuvizo Reflective...|          Sports|          3|            0|          0|   N|                N|I ordered two but...|I ordered two but...| 2015-08-31|\n",
      "|         US|   51852809|R3PHRXG1LW65JS|B000S5Q2VS|     196852988|Blue Sea Systems ...|          Sports|          5|            0|          1|   N|                Y|Quality terminal ...|       nice quality.| 2015-08-31|\n",
      "|         US|   45825278|R31MOUH01VOJUC|B0000BYN5C|     867152837|    BSN Spot Markers|          Sports|          5|            0|          0|   N|                Y|Great for dance t...|These work fantas...| 2015-08-31|\n",
      "|         US|     921853|R1EW7IQA1HB1NY|B00JELZ60U|     455504426|The Colorado Sadd...|          Sports|          5|            0|          0|   N|                Y|          Five Stars|Great like them a...| 2015-08-31|\n",
      "|         US|   37013749|R172RZ7XHRYLXV|B00CT3G02S|     889974530|Auburn University...|          Sports|          5|            0|          0|   N|                Y|       Good quality!|Bought this for a...| 2015-08-31|\n",
      "|         US|   14826244| RZ0UQRU2MVQAH|B001O0DL2O|     613515090|Attwood LED 1-Mil...|          Sports|          5|            0|          0|   N|                Y|          Five Stars|                  OK| 2015-08-31|\n",
      "|         US|    1679827|R1POJ17FCCYZSL|B001COP1PC|       6614577|NcStar Marlin Lev...|          Sports|          5|            0|          0|   N|                Y|          Five Stars|         Works well!| 2015-08-31|\n",
      "|         US|   43644329|R13Z1W0R20WRSH|B00IF2Q090|     280666211|Saucony Women's R...|          Sports|          5|            0|          0|   N|                Y|Great moisture wi...|Great moisture wi...| 2015-08-31|\n",
      "|         US|   37480006|R1B4753QMTD8ON|B00U6AE4BK|     632231911|Maxpedition Chubb...|          Sports|          5|           32|         32|   N|                N|Maxpedition Organ...|As a preamble, ha...| 2015-08-31|\n",
      "|         US|    4899309| REDDOIN40JV86|B000229ULG|     504862136|Biofreeze Pain Re...|          Sports|          5|            0|          0|   N|                Y|Biofreeze shoppin...|No problem placin...| 2015-08-31|\n",
      "|         US|     830892|R158NOKCEOJWEL|B00RM7GGM0|     260452376|Otsupplier- AR15 ...|          Sports|          4|            0|          0|   N|                Y|      Great addition|This is good qual...| 2015-08-31|\n",
      "|         US|   11493965|R1J0R2UVLIETRO|B00KJTPKGG|     372762053|FSU Florida State...|          Sports|          5|            0|          0|   N|                Y|          Five Stars|Love it, cheap pr...| 2015-08-31|\n",
      "|         US|   28725664| R279V24O17CHW|B001DCD6JG|     170648472|Fobus Standard Ho...|          Sports|          5|            0|          0|   N|                Y|          Five Stars|Fit my 9mm perfec...| 2015-08-31|\n",
      "|         US|   42982739|R3FDD6NAFDNXG3|B008THOVSS|     150215197|adidas Men's Adiz...|          Sports|          5|            0|          0|   N|                Y|          Five Stars|Great visor - com...| 2015-08-31|\n",
      "|         US|   28939230| RN715C5OANLZU|B008B91KH4|      36041712|Training Mask 2.0...|          Sports|          5|            0|          0|   N|                Y|    Amazing product!|This is an amazin...| 2015-08-31|\n",
      "|         US|    1939714| R2MD57Q828CV5|B00LMM0KL4|     868088889|SHIMANO 14 Sphero...|          Sports|          5|            0|          0|   N|                Y|          Five Stars|really strong and...| 2015-08-31|\n",
      "|         US|   35668830| RL046PBBCRU2H|B00BMFEXJQ|     113489097|Black High Densit...|          Sports|          5|            0|          0|   N|                Y|I like this one m...|I don't know why ...| 2015-08-31|\n",
      "|         US|    3365427|R2CU7PHVRHPVT4|B00NO4KUH2|     551066223|Vizeri LED Tactic...|          Sports|          5|            2|          2|   N|                Y|          Five Stars|Always good to ha...| 2015-08-31|\n",
      "|         US|   33553397|R1C5WZ5AJWCY6C|B004CG2A1A|     500666350|Frabill Ice Hunte...|          Sports|          3|            0|          0|   N|                Y|Great rod, but re...|The rod itself if...| 2015-08-31|\n",
      "|         US|   27553575|R331TFDXNY7GWK|B010LP75GU|     368321456|ALIES 10' SUP Lea...|          Sports|          5|            0|          0|   N|                N|10 out of 10 woul...|Leash worked real...| 2015-08-31|\n",
      "|         US|   43849006| R74FB9OH8PSJP|B00HYUNNNK|     448271998|CW-X Stabilyx Run...|          Sports|          4|            0|          0|   N|                Y|I like that it co...|Somewhat lumpy fo...| 2015-08-31|\n",
      "|         US|    1092258|R2A9SZFO9YQOSQ|B000OZWUJ0|     525367047|NCAA Auburn Unive...|          Sports|          5|            0|          0|   N|                Y|... son-in-law is...|Our son-in-law is...| 2015-08-31|\n",
      "|         US|   35703474|R1LK71PZWV1LI0|B00CCY9666|     667616084|H&K G36C Electric...|          Sports|          5|            0|          2|   N|                Y|          Five Stars|                 fun| 2015-08-31|\n",
      "|         US|    1644149|R1WHTZWZYSP0QM|B002SCUO04|     634875169|Opinel Carbon Ste...|          Sports|          5|            0|          0|   N|                Y|          Five Stars|           very nice| 2015-08-31|\n",
      "|         US|    1682534|R1DKQA39GS11OK|B0019MPQAM|     123548605|5.11 Tactical Ope...|          Sports|          5|            0|          0|   N|                Y|       Awesome belt!|Awesome belt but ...| 2015-08-31|\n",
      "|         US|    1507120|R156B2LON3J2GY|B00X9XVHPW|      46105026|Waterproof Pouch ...|          Sports|          5|            1|          2|   N|                Y|          Five Stars|Awesome price, an...| 2015-08-31|\n",
      "|         US|   14583363|R18U3G6EOPUN87|B00XGMVBTI|     925113019|Rousch® AR-V1 Mic...|          Sports|          5|            1|          1|   N|                Y|works good. Good ...|Cheap, works good...| 2015-08-31|\n",
      "|         US|   48177266|R28YTJIPRJL04M|B000UAUE4W|     477018636|          Calf Block|          Sports|          3|            0|          0|   N|                Y|         Three Stars|Strong built from...| 2015-08-31|\n",
      "|         US|   13969576|R2BE9CBV5ABSSU|B00JXFGGTM|      71231728|FINIS GLIDE Swimm...|          Sports|          5|            0|          0|   N|                Y|          Awesome!!!|The best piece of...| 2015-08-31|\n",
      "|         US|   41146239|R27X7IE9XV3KS1|B000B55AO0|     602775863|Rothco Black Tact...|          Sports|          5|            0|          0|   N|                Y|  Good for reference|Just like the Arm...| 2015-08-31|\n",
      "|         US|   18112001|R30V589O3PGX9K|B003C7OQ7G|     687579858|Howard Leight Wom...|          Sports|          2|            0|          0|   N|                Y|actually didn't l...|Short and stubby,...| 2015-08-31|\n",
      "|         US|     131464|R28B4UVZ9BQ9D7|B004IP5USK|      85077971|TaylorMade Men's ...|          Sports|          5|            0|          0|   N|                Y|          Five Stars| everthing was great| 2015-08-31|\n",
      "|         US|   43700296|R24919DGNJT85F|B002TV7QD2|     805966904|Magma Products, 1...|          Sports|          5|            1|          1|   N|                Y|Great with one sm...|These are heavy, ...| 2015-08-31|\n",
      "|         US|   41388581| RY1TQ75RS1BVE|B002FCG49W|     452465158|Speedo Aqua Fitne...|          Sports|          5|            0|          0|   N|                Y|          Five Stars|Great for working...| 2015-08-31|\n",
      "|         US|    4527232|R3IMKGCLKCFS8P|B00OTXKTL4|     698763986|SCHIEK 6-INCH CON...|          Sports|          5|            0|          0|   N|                Y|  Great Lifting Belt|This is a great b...| 2015-08-31|\n",
      "|         US|   44931764|R3OROWJP5UGBS8|B007V5CCY4|     519711246|Original Lifting ...|          Sports|          5|            1|          1|   N|                Y|  Easy fast reliable|I love the ease o...| 2015-08-31|\n",
      "|         US|    9333900| R5E6MZJEWOA2M|B004EEQJNA|     642647483|NBA Los Angeles L...|          Sports|          4|            0|          0|   N|                Y|Came sooner than ...|Came sooner than ...| 2015-08-31|\n",
      "|         US|   36563152| RXFVV02KSLOXA|B001H53Q8A|     973395936|Ka-Bar 2-1249-9 K...|          Sports|          5|            5|          5|   N|                Y|Ka-Bar Kukri 1 - ...|So, while I was d...| 2015-08-31|\n",
      "|         US|   10198986| RLNAEJMBJUXUC|B00ZE7BQ16|     121421948|Sun Mountain Golf...|          Sports|          5|            2|          3|   N|                Y|Good for sun prot...|Great product, ke...| 2015-08-31|\n",
      "|         US|   51312712| R1WXS8ESSFP9U|B00RC291IG|       5057371|END OF SUMMER SAL...|          Sports|          5|            0|          0|   N|                Y|if not better qua...|Exactly as descri...| 2015-08-31|\n",
      "|         US|   39537314|R110NC7R17KNVH|B000JVOOYS|     992765154|Uncle Mike's Kodr...|          Sports|          5|            0|          0|   N|                Y|Works as its supp...|Works as its supp...| 2015-08-31|\n",
      "|         US|   22275943|R1IKH95BM36FZY|B00QIY6T20|     165626446|Conext15 Top Glid...|          Sports|          5|            0|          0|   N|                Y|          Five Stars|GREAT Soccer ball...| 2015-08-31|\n",
      "|         US|   40501021|R1540GRYEUJNK7|B00B59OLP0|     517523846|Swiftwick SUSTAIN...|          Sports|          1|            0|          0|   N|                Y|            One Star|        not worth it| 2015-08-31|\n",
      "|         US|   52823991|R3H48Y12DO36FN|B00DFVOZYI|     200460976|NCAA West Virgini...|          Sports|          5|            0|          0|   N|                Y|       Quality leash|Heavy, well made ...| 2015-08-31|\n",
      "|         US|   12018832| RUH4HNGY8L945|B00JBMWSNA|     855830614|McDavid Level 2 4...|          Sports|          5|            0|          0|   N|                Y|Very helpful sleeves|These sleeves hel...| 2015-08-31|\n",
      "|         US|   44877916| RXZEJXSWOALYB|B000N8N1YQ|     901745966|RCBS Bullet Pulle...|          Sports|          5|            0|          0|   N|                Y|          Five Stars|             vsdvsdv| 2015-08-31|\n",
      "|         US|   11521497|R3FQJZN14P4GHT|B009UYPA7U|     711659274|ARD CHAMPS XTreme...|          Sports|          3|            0|          0|   N|                Y|         Three Stars|          Too small.| 2015-08-31|\n",
      "|         US|   35043714|R2RLBFCUG3G7KT|B001DQW58U|     863406808|Speedo Shorts - S...|          Sports|          4|            2|          2|   N|                Y|     Jam-Jam-Jammers|Overall I like th...| 2015-08-31|\n",
      "|         US|   19215701|R1IACBML626JUP|B00MAVHNUC|     709542812|EliteTek Football...|          Sports|          4|            0|          0|   N|                Y|Elite Tek Youth V...|Just what we want...| 2015-08-31|\n",
      "|         US|   29404967| RMMA1WORHXL3B|B00IYSM69I|     568077841|5.56 Turned Parts...|          Sports|          4|            0|          0|   N|                Y|          Four Stars|pick these up jus...| 2015-08-31|\n",
      "|         US|    9473660|R17WWU1AJ5S6U7|B00T53O4AK|     494404158|Red Lion Brave Pa...|          Sports|          4|            0|          0|   N|                Y|I bought these fo...|I bought these fo...| 2015-08-31|\n",
      "|         US|   51506449| RFKWP535M556T|B00JPIE6K8|     681943060|XMark’s Deluxe Th...|          Sports|          5|            0|          0|   N|                Y|Very solid and bi...|This holds a lot ...| 2015-08-31|\n",
      "|         US|   47917922|R2OD41S9I3YGI7|B00IYYKGQ2|     816595889|OUTBAGS LOB3S-SHI...|          Sports|          5|            0|          1|   N|                Y|Perfect fit for m...|Perfect fit for m...| 2015-08-31|\n",
      "|         US|   12494830|R298KXVE6D60PF|B000P3WS02|     614611995|Plano 1612 Deep W...|          Sports|          5|            0|          0|   N|                Y|   Good for storage!|Exactly what I ne...| 2015-08-31|\n",
      "|         US|   51728341|R3VZF1Q6I4WSAT|B00TZ293J8|     265789515|Finger Pulse Oxim...|          Sports|          5|            0|          0|   N|                Y|Perfect for the f...|Great little devi...| 2015-08-31|\n",
      "|         US|   10357390|R3TMDUTACGNG3L|B00074H714|     720488972|Harbinger Power N...|          Sports|          4|            0|          0|   N|                Y|          Four Stars|It gets the job d...| 2015-08-31|\n",
      "|         US|   21175097| RB17NU7UME8QP|B001MWRS00|     896313301|TYR Racetech Perf...|          Sports|          5|            0|          0|   N|                Y|These are goggles...|These are brillia...| 2015-08-31|\n",
      "|         US|   37066926|R2AVZ1R1SXG1C3|B00282IKAU|      15268167|MLB mens|womens S...|          Sports|          5|            0|          0|   N|                Y|Good price, good ...|Everything I expe...| 2015-08-31|\n",
      "|         US|   49433577|R2GEQT57CVOTN5|B005RONA7E|     124617128|WVU West Virginia...|          Sports|          5|            0|          0|   N|                Y|          Five Stars|      Go Mountainers| 2015-08-31|\n",
      "|         US|   28911767| RVAAV92U1K1GT|B008SAWVNI|     595380668|Birchwood Casey D...|          Sports|          5|            0|          0|   N|                Y|          Five Stars|Proven Product. H...| 2015-08-31|\n",
      "|         US|   19627510|R2M7805ESVITGJ|B00E4EVMU0|     709089702|Medal Sports 6-in...|          Sports|          5|            0|          0|   N|                N|          Five Stars|Good for what I  ...| 2015-08-31|\n",
      "|         US|   37223715| R997GBGIRRHQK|B0094GLESS|     325248907|Red Rock Outdoor ...|          Sports|          3|            0|          0|   N|                Y|         Three Stars|zippers are not v...| 2015-08-31|\n",
      "|         US|   36813780|R1421RJ7GQJPJK|B00M2H6VV6|      17628872|Golf Ball Linear ...|          Sports|          5|            0|          0|   N|                Y|          Five Stars|             love it| 2015-08-31|\n",
      "|         US|   52856050|R1IB08CCW1GQ75|B00JNM7CIY|     882935925|Shock Doctor Adul...|          Sports|          5|            0|          0|   Y|                N|Bit of Flavor. . ...|This is a great “...| 2015-08-31|\n",
      "|         US|   17672950|R14DCS509VJAR4|B00PVMSO46|     185299205|Ohuhu174; Lightwe...|          Sports|          5|            0|          0|   N|                Y|Sharp and very ad...|These provide a s...| 2015-08-31|\n",
      "|         US|   21733008|R3NRZ3EJRQ3VYB|B004DU0XJG|     854384042|Under Armour Men'...|          Sports|          5|            0|          0|   N|                Y|          Five Stars|        Great shirt!| 2015-08-31|\n",
      "|         US|   10856907|R1G6771Q9GL9HH|B0060GCWLI|      78833523|Da Vinci Yoga Mat...|          Sports|          3|            0|          0|   N|                Y|I like the color ...|I like the color ...| 2015-08-31|\n",
      "|         US|   22750562|R1Y15HVV47RTYF|B006WR4SNA|     563650858|NCAA Alabama Crim...|          Sports|          4|            0|          0|   N|                Y|A great buy! Just...|A great buy!  Jus...| 2015-08-31|\n",
      "|         US|    6061714|R1WXNJEHIS2MHU|B00AJ1B5PY|     532519546|Wartech Tactical ...|          Sports|          4|            0|          0|   N|                Y|          Four Stars|Very nice knife, ...| 2015-08-31|\n",
      "|         US|   29064156| RQFVWI7FZS53G|B00ISBN22G|     154797424|Ultimate Arms Gea...|          Sports|          3|            0|          0|   N|                Y|but it would prob...|Strap is designed...| 2015-08-31|\n",
      "|         US|   35669025|R2K544VXRFZ0O2|B00RS0V69O|     145850962|SlingShot Knee Sl...|          Sports|          5|            0|          0|   N|                Y|          Five Stars|Love the sleeves,...| 2015-08-31|\n",
      "|         US|   34731776|R1D6SLQUB8UUKA|B00TB8FST0|     743204696|Metal Mulisha Men...|          Sports|          5|            0|          0|   N|                Y|          Five Stars| Love it, great item| 2015-08-31|\n",
      "|         US|   26622950|R23P3R66TC9OGL|B0038K1QKM|     349998097|SteelLocker Sport...|          Sports|          5|            0|          0|   N|                Y|hard to find in s...|            perfect.| 2015-08-31|\n",
      "|         US|   29404967| RN68GCMGHNR7T|B003WRXQI6|     223838879|H&H PriMed Gauze ...|          Sports|          5|            0|          0|   N|                Y|          Five Stars|             Quality| 2015-08-31|\n",
      "|         US|   10498698|R3U6JE3NRXIU2V|B00SYUHCEA|     510721538|Adidas Mens 2015 ...|          Sports|          5|            1|          1|   N|                N|          Five Stars|                Nice| 2015-08-31|\n",
      "|         US|   50373610|R1TVENSLIVG6T5|B004A135S4|     962486662|Baden Deluxe Seri...|          Sports|          5|            0|          0|   N|                Y|      Good delivery.|Heavy duty croque...| 2015-08-31|\n",
      "|         US|   12837888|R1EINXTV37VF5V|B008018G3E|     504478832|Nike Men's Andy D...|          Sports|          5|            0|          0|   N|                Y|Nice BJ ( Bengals...|Better than expec...| 2015-08-31|\n",
      "|         US|   15598507|R1UNVGJHA3I18C|B001E5IC78|     800396519|Viper Dry Erase S...|          Sports|          2|            0|          0|   N|                Y|Must build your o...|The board and siz...| 2015-08-31|\n",
      "|         US|    8500553|R1EYU5GFA2FUP6|B00J5VFDVG|     624934343|Mossberg 95065 St...|          Sports|          3|            0|          0|   N|                Y|         Three Stars|Pain to install. ...| 2015-08-31|\n",
      "|         US|    3412128|R1KGVZI1W6U6AJ|B002OXHDQ0|     780465216|Pittsburgh Steele...|          Sports|          3|            0|          0|   N|                Y|Its a good buckle...|Its a good buckle...| 2015-08-31|\n",
      "|         US|   37831379|R3OEJPI1K6ZWAM|B001IEIR66|      99459933|Tapco Intrafuse A...|          Sports|          5|            0|          0|   N|                Y|simple but needed...|pretty simple but...| 2015-08-31|\n",
      "|         US|   41067020|R2J3YFYT0H0394|B00IVNDKAK|     476078170|1 X AR-15 Forward...|          Sports|          5|            0|          0|   N|                Y|Great fit. I woul...|Great fit.<br />I...| 2015-08-31|\n",
      "|         US|   19715711|R32GY1K9LRI1GC|B000NUYZQC|     530442574|Marinco (30ARVKIT...|          Sports|          5|            1|          2|   N|                Y|       Worked great.|Installed in abou...| 2015-08-31|\n",
      "|         US|   39287582|R35N9WO6LDRW7V|B00S5I9H4O|      98879277|Withings Activité...|          Sports|          5|            0|          0|   N|                N|I am very happy w...|I am very happy w...| 2015-08-31|\n",
      "|         US|   29992245|R1A9XX5DRBQ3KD|B0143IVO2M|     601764051|Ar500 Steel Targe...|          Sports|          5|            0|          0|   N|                N|But ShootingTarge...|This is the first...| 2015-08-31|\n",
      "|         US|   48422332| RZIRLVBDFSFZE|B00LMR0ULY|     201266561|WODFitters Textur...|          Sports|          5|            0|          0|   N|                Y|          Five Stars|Great product, wo...| 2015-08-31|\n",
      "|         US|   43413635|R3J6H36APUXAJX|B00JWXTV7E|     756332971|OUTBAGS LOB2S-SRC...|          Sports|          1|            0|          0|   N|                Y|               bulky|Leather is very s...| 2015-08-31|\n",
      "|         US|    2797291|R2LU656HKHY9BF|B0123GNIPW|      61422540|Soccer Ball Style...|          Sports|          4|            0|          0|   N|                N|Fun light up bird...|I bought this wha...| 2015-08-31|\n",
      "|         US|    5540845|R2FL6IGUGUEJWN|B000JJL8VW|      52942339|Simmons 8-Point 3...|          Sports|          5|            0|          1|   N|                N|Best scope at thi...|We bought this a ...| 2015-08-31|\n",
      "|         US|   11684341| RKTT70IG8RLR6|B00CLX2NZY|     876761897|Sex Wax Mens Sex ...|          Sports|          5|            1|          1|   N|                Y|          Five Stars|fit somewhat smal...| 2015-08-31|\n",
      "|         US|    2253693| RM358KHXX9U1R|B001PIM00O|     741018856|Kershaw 1840 Shal...|          Sports|          5|           11|         12|   N|                N|    Best knife I own|I have ownd this ...| 2015-08-31|\n",
      "|         US|   23105556|R3TYY98P6EAJFL|B00H87I8SE|     113117608|NIKE Flex 2013 RN...|          Sports|          5|            0|          0|   N|                Y| Perfect for running|             Amazing| 2015-08-31|\n",
      "|         US|   14335721|R2ATDIHCV88R07|B00I3HD428|     740349847|A-10 Thunderbolt ...|          Sports|          3|            3|          3|   N|                Y|         Three Stars|good. but no mark...| 2015-08-31|\n",
      "|         US|   14158952|R34PXQ9AG4P28L|B00AU5W1GQ|      82976783|Gator Grip Fish W...|          Sports|          5|            0|          0|   N|                Y|        Nice Quality|Works as it shoul...| 2015-08-31|\n",
      "|         US|   27206928|R3C07WIIFBHRP5|B00YTWD9QM|      31589215|FRiEQ Lightweight...|          Sports|          2|            1|          1|   N|                Y|           Two Stars|Cant really fit m...| 2015-08-31|\n",
      "|         US|     683969|R2XZ5ZF7WL93KU|B00DIPSOM0|     338478975|GoSports Ladder T...|          Sports|          5|            0|          0|   N|                Y|          Five Stars|Accurate product ...| 2015-08-31|\n",
      "|         US|   37513535|R1TBAHGCN9UABI|B00LQT8SOE|     269934018|Weightlifting Glo...|          Sports|          5|            0|          0|   N|                Y|          Five Stars|                Nice| 2015-08-31|\n",
      "|         US|     440599|R3FAYWWUJ414LD|B0053Z9A6M|     347411661|MLB 24 Can Soft S...|          Sports|          5|            0|          0|   N|                Y|I love this, I ha...|24 Cans no proble...| 2015-08-31|\n",
      "|         US|    9842102| RT9GJ6HT9A4YC|B00KL1M1W8|     816008268|Weightlifting Glo...|          Sports|          5|            0|          0|   N|                Y|       Great product|Had my 1st workou...| 2015-08-31|\n",
      "|         US|   21866299| RFFPX262PFFEL|B00BBLDN56|     229445457|Nayoya Abdominal ...|          Sports|          5|            0|          0|   N|                N|           great may|Love my Nayoya ab...| 2015-08-31|\n",
      "|         US|   49027421|R1G4NLOVO6XLC3|B00VKML6CI|     507843206|California Legal ...|          Sports|          3|            3|          3|   N|                Y|    Tool required?!?|Bullet button is ...| 2015-08-31|\n",
      "|         US|    6281347| R4QV8IP477RDE|B00J75EA4G|     148677665|Money Golf Ball M...|          Sports|          4|            0|          0|   N|                Y|          Four Stars|good product, fil...| 2015-08-31|\n",
      "|         US|   43552095|R2AT83ZHKVQ2VH|B00TJAK3AY|       7805433|Cyclists' Choice ...|          Sports|          3|            0|          0|   N|                Y|         Three Stars|Product received ...| 2015-08-31|\n",
      "|         US|   49311003|R1FPI7HX7H6GWW|B00KTYKV56|     478863183|Dexter Women's Me...|          Sports|          5|            2|          2|   N|                Y|Very good bowling...|Very good bowling...| 2015-08-31|\n",
      "|         US|   36441316|R2LJ9QUFR5NQ55|B00SCAC9H2|     372486904|Ultimate Arms Gea...|          Sports|          4|            5|          5|   N|                Y|             Merica!|Item is great, no...| 2015-08-31|\n",
      "|         US|   43311049|R2YZD2R31M3G6V|B003C6RROG|     447962081|Excalibur TP150-1...|          Sports|          5|            0|          0|   N|                Y|          Five Stars| Just as advertised.| 2015-08-31|\n",
      "|         US|   35164642|R1G2CCY2AZCF07|B01429RYCQ|      30537391|Fitbit bling jewe...|          Sports|          5|            1|          1|   N|                N|Love this super c...|This is so cute! ...| 2015-08-31|\n",
      "|         US|   13384613| RANEEP83GJGMZ|B00E8C9ZT8|     335821833|Gaiam Full-Zip Ca...|          Sports|          3|            0|          0|   N|                Y|It is well constr...|My standard yoga ...| 2015-08-31|\n",
      "|         US|   29717045|R2K11VZXGZ8LAV|B00MKF0GU2|     556560982|King's Camo Hunte...|          Sports|          4|            1|          1|   N|                Y|Great buy, lightw...|Kind of flimsy bu...| 2015-08-31|\n",
      "|         US|    6768934|R2CQ4XUW6J8SLS|B001298H1M|     641400736|Sunlite Standard ...|          Sports|          5|            0|          0|   N|                Y|          Five Stars|           Excellent| 2015-08-31|\n",
      "|         US|   35922241|R3P9P4EJ37A2FU|B012FICZYI|      20320413|VITCHELO No Fog S...|          Sports|          5|            1|          1|   N|                N|Like Swimming Und...|I bought these as...| 2015-08-31|\n",
      "|         US|   43980200|R1BULE7WZ192LM|B00O1YEEAS|     207735361|Speedo Kids' UPF ...|          Sports|          5|            3|          4|   N|                Y|           Great buy|Purchased this fo...| 2015-08-31|\n",
      "|         US|   33721655|R2Z3BXKGNNTM8Q|B00HBVR11W|     285771674|Iron Core Athleti...|          Sports|          5|            0|          0|   N|                Y|          Five Stars|These work perfec...| 2015-08-31|\n",
      "|         US|   50071436|R36AVBNYVUZNOT|B008AWZTRO|     459324197|Under Armour Play...|          Sports|          5|            0|          0|   N|                Y|          Five Stars|very good fit. Fa...| 2015-08-31|\n",
      "|         US|   22155726| RHPB4ZY602QMY|B000LB6W0U|     143681482|BallQube Grandsta...|          Sports|          1|            3|          3|   N|                Y|Useless. The base...|This holder is to...| 2015-08-31|\n",
      "|         US|   48498496| RV55BNCCFC4AE|B00JXEWCTQ|     944969027|TaylorMade SLDR I...|          Sports|          5|            0|          1|   N|                Y|Gives good feedba...|Hit the balls cle...| 2015-08-31|\n",
      "|         US|   19493533| RHBU8CBDQEQ36|B0007Y8SBW|     736365805|Caldwell The Rock...|          Sports|          2|            2|          2|   N|                Y|The metal tripod ...|The metal tripod ...| 2015-08-31|\n",
      "|         US|   48198949|R2GR8M1S12VYRZ|B00TY41MU0|     138499288|Smith and Wesson ...|          Sports|          5|            1|          2|   N|                Y|Great added prote...|I'm willing to ad...| 2015-08-31|\n",
      "|         US|   45018446|R1VMLUUFMXKM25|B00322NAE6|     314632089|Cold Steel Pendle...|          Sports|          5|            3|          3|   N|                Y|Like a lot of the...|This is the first...| 2015-08-31|\n",
      "|         US|   27889622|R3TJ7J8FWTPPK5|B00XQBHHYW|     464259618|100% Natural & Or...|          Sports|          5|            1|          1|   N|                Y|          Five Stars|Smells so fresh a...| 2015-08-31|\n",
      "|         US|   19014833|R1FK0R0A3DMZO6|B00VRBSCLU|     610556670|NIUTOP Replacemen...|          Sports|          4|            0|          0|   N|                Y|       so I'm happy!|The end which mee...| 2015-08-31|\n",
      "|         US|   47936664|R3AFKBP9D49ZVL|B00NJZDA0A|     424619765|TriggerPoint NANO...|          Sports|          5|            0|          0|   N|                Y|          Five Stars|Really enjoy usin...| 2015-08-31|\n",
      "|         US|   41286124|R293R4Z0FZ3WYX|B001KGA1L6|     678105336|Z-Athletic Chalk ...|          Sports|          5|            0|          0|   N|                Y|So much chalk for...|I use this daily ...| 2015-08-31|\n",
      "|         US|   11267238|R1J1ZP1F5ZQIMN|B000E4Q7BS|     161535220|Halt! Dog Repelle...|          Sports|          5|            1|          2|   N|                Y|          Five Stars|GOOD SERVICE AND ...| 2015-08-31|\n",
      "|         US|   28458987|R3L2Z2RO01SP2V|B00BH80LTO|     760867935|GoPong Pool Party...|          Sports|          5|            0|          0|   N|                Y|       Definite buy!|Great beer pong t...| 2015-08-31|\n",
      "|         US|   14517031|R1V5S4W214SWYV|B00Z8ATIHI|     792535386|GlobalPioneer 6 P...|          Sports|          5|            0|          0|   N|                Y|          Five Stars|Great quality no ...| 2015-08-31|\n",
      "|         US|   43355824| RZNGE4DXX0R95|B006RK3E0A|     198242331|adidas Team Speed...|          Sports|          5|            0|          0|   N|                Y|         Great bag!!|Great bag!!  room...| 2015-08-31|\n",
      "|         US|   49317614|R3K6YP7XJTZYMX|B00HA2ZKFQ|     997278452|Sport-Brella Vers...|          Sports|          3|            0|          0|   N|                Y|   Wanted to love it|I really wanted t...| 2015-08-31|\n",
      "|         US|   12999476| RR0DRLUL39EIC|B001IBIQ5Q|     469756211|Body Champ IT8070...|          Sports|          5|            0|          0|   N|                Y|         I am batman|This thing is stu...| 2015-08-31|\n",
      "|         US|   12609337|R32AV80PQ61D0Y|B004R8BMG2|       6775174|MLB Cooperstown A...|          Sports|          5|            0|          0|   N|                Y|          Five Stars|Fit like a charm ...| 2015-08-31|\n",
      "|         US|   50213845|R2ZBEIDFEK9Z7T|B007DLVLDY|      59327699|LOCK LACES (Elast...|          Sports|          5|            0|          0|   N|                Y|          Five Stars|              thanks| 2015-08-31|\n",
      "|         US|    7429486|R32Y1CV6Z685Y0|B003AOIN4I|     490571249|Paragon Motla Pre...|          Sports|          5|            0|          0|   N|                N|Don't hesitate to...|This product is a...| 2015-08-31|\n",
      "|         US|   50707550| RO1BS93AXP202|B007AKFXS2|     814526559|JetLine Magna Qua...|          Sports|          5|            0|          0|   N|                Y|Very good lighter...|This is a beast a...| 2015-08-31|\n",
      "|         US|   13500461| RTRODJIN3101N|B004ERKCIA|     758078977|Ballistol Multi-P...|          Sports|          1|            2|          8|   N|                Y|bog of eternal st...|good god this stu...| 2015-08-31|\n",
      "|         US|   36130042|R16RLXGF7X1E97|B00BNP9UNO|     918155352|United States Air...|          Sports|          5|            0|          0|   N|                Y|          Five Stars|               great| 2015-08-31|\n",
      "|         US|   11550501|R258AT0MPRAS3B|B00GNTXXY2|     233783072|NFL Tennessee Tit...|          Sports|          3|            0|          0|   N|                Y|I was a bit disap...|The picture made ...| 2015-08-31|\n",
      "|         US|   22025007| RBMM0J7U71WFE|B00162JNZO|     842247300|Hornady 393299 Un...|          Sports|          5|            1|          1|   N|                Y|Combine this with...|Combine this with...| 2015-08-31|\n",
      "|         US|   14758852|R25MGMYNAS5A8K|B00P1ZXLZK|     154651035|The Anchor - 7\" U...|          Sports|          5|            0|          0|   N|                N|Great lightweight...|These stakes are ...| 2015-08-31|\n",
      "|         US|   22025007|R3SVEH6MX3MWW9|B005I0IVUI|     685571381|Lyman Reloading 3...|          Sports|          5|            0|          0|   N|                Y|          Five Stars|Does what it's su...| 2015-08-31|\n",
      "|         US|   15576757|R1O3JJ7DA9JJAP|B005H10V2Y|     281712410|Tournament Cornho...|          Sports|          1|            0|          0|   N|                Y| Good stitch quality|Good stitch quali...| 2015-08-31|\n",
      "|         US|   12399584|R14FUGZ9HG2O5B|B00KW0F8U0|     341760839|Tommie Copper Com...|          Sports|          4|            0|          0|   N|                Y|Good relief but r...|These are good. G...| 2015-08-31|\n",
      "|         US|   12819142| RINXS9IKKWBAS|B00QWBGDBG|     436261553|Frogglez Universa...|          Sports|          5|            0|          0|   N|                Y|          Five Stars|amazing strap for...| 2015-08-31|\n",
      "|         US|   43453217|R2F3B1QT78EUF4|B00AILM356|     124574601|NCAA Oregon Ducks...|          Sports|          1|            0|          0|   N|                Y|            One Star|Oregon Logo came ...| 2015-08-31|\n",
      "|         US|    5043652| R10UYV6A0GDMP|B00PV0CNKO|     510321914|Conext15 Glider S...|          Sports|          4|            0|          0|   N|                Y|          Four Stars|Great ball was pe...| 2015-08-31|\n",
      "|         US|   44934924|R1JTGJ4VXNCOWT|B00H016AL0|      36964571|Darin Young Signa...|          Sports|          5|            0|          0|   N|                Y|          Five Stars|Good quality flig...| 2015-08-31|\n",
      "|         US|    7096550| RYSY0YT8XBRH7|B00D96A9V2|     955379210|Under Armour Heat...|          Sports|          5|            0|          0|   N|                Y|  Great For football|When I got these ...| 2015-08-31|\n",
      "|         US|   27878744|R3284O23GYUHLC|B006LZNY4C|     482903373|RDX Cow Hide Leat...|          Sports|          4|            0|          0|   N|                Y|          Four Stars|               Great| 2015-08-31|\n",
      "|         US|     817760|R2ET44S8AKUMPI|B00DG9KIDQ|      36633636|Black Mountain Pr...|          Sports|          5|            0|          0|   N|                Y|Made right choice...|This is a great p...| 2015-08-31|\n",
      "|         US|   33080508|R35X2G648HEDE5|B00GU0S9NY|     342617470|Lifting Belt By R...|          Sports|          5|            0|          0|   N|                Y|Used it deadlifti...|Used it deadlifti...| 2015-08-31|\n",
      "|         US|   18029964| RB0U2EIWY6ETY|B005KW3HX0|     358689645|Bianchi 56 Serpen...|          Sports|          5|            0|          0|   N|                Y|          Five Stars|Very nice fit. As...| 2015-08-31|\n",
      "|         US|   28453953|R2NWDY30OMQP8S|B009L8Z07K|     172989726|Felson Billiard S...|          Sports|          5|            0|          0|   N|                Y|great price, fast...|great product.  I...| 2015-08-31|\n",
      "|         US|   46502505| RMTFUCL4HGAW4|B00RC3GL6U|      15386324|Stephen Curry Gol...|          Sports|          3|            0|          0|   N|                Y|This product is n...|This product is n...| 2015-08-31|\n",
      "|         US|      41717|R37BZQCKBJQ2P5|B0041FVR9I|     421630480|Flying Fisherman ...|          Sports|          4|            0|          0|   N|                Y|          Four Stars|     IN THE TOOL BOX| 2015-08-31|\n",
      "|         US|   22607026|R1ES9A5449820F|B00MV7MBN4|     237137618|Rothco Operator T...|          Sports|          5|            0|          0|   N|                Y|Nice hat. Nut sur...|Nice hat.  Nut su...| 2015-08-31|\n",
      "|         US|   11240184| R7J9EMJSEBP9R|B00NXVRFBU|     831468253|Holster for S&W M...|          Sports|          3|            0|          0|   N|                Y|         Three Stars|Expected a little...| 2015-08-31|\n",
      "|         US|   34149936|R1ZYHP8BF76QWO|B00R3WHNCQ|     130723554|Tecnomed Belt Fit...|          Sports|          1|            0|          0|   N|                Y| Not what I expected|   Not good material| 2015-08-31|\n",
      "|         US|   44339281|R3A41C830D5MLN|B00T922CFQ|      85519399|Nitecore MH10 CRE...|          Sports|          5|            5|          6|   N|                Y|      A Great Light!|I love this light...| 2015-08-31|\n",
      "|         US|   20962528| RCDLHRR30ZIO1|B007Z5JHWU|     789460419|Tour Edge HT Max-...|          Sports|          5|            0|          0|   N|                Y|          Five Stars|Grandson loved th...| 2015-08-31|\n",
      "|         US|   47442570|R3QQEDYJLKNA4T|B004X166K0|     744038297|Tone Fitness Bala...|          Sports|          4|            4|          4|   N|                Y|Versatile product...|As a PT in home h...| 2015-08-31|\n",
      "|         US|   26793803|R3CYOR3KGL0WBJ|B001VF6TMQ|     141814015|NEO G Groin Suppo...|          Sports|          5|            0|          0|   N|                Y|        Recommended!|This product cert...| 2015-08-31|\n",
      "|         US|   51748006|R21GXK605N3TAK|B00W5CJVAG|      23250259|ESCENTO Comfortab...|          Sports|          5|            0|          0|   N|                Y|Totally love thes...|Totally love thes...| 2015-08-31|\n",
      "|         US|   46785376|R1TTKJ7UDQ3PL6|B0002S9PCY|     529498207|Colt 45 Peacemake...|          Sports|          5|            0|          0|   N|                Y|          Five Stars|High quality repl...| 2015-08-31|\n",
      "|         US|   35107212|R269HR5YMMXPIA|B004DR218A|     497913241|Stern Monopoly Pi...|          Sports|          5|            1|          1|   N|                N|Perfect kit - all...|Arrived as expect...| 2015-08-31|\n",
      "|         US|   22707533|R1CLWPS2D8ACLB|B00TY7OJZM|     491029684|O2Cool Double Wal...|          Sports|          5|            0|          0|   N|                Y|          Five Stars|Best water bottle...| 2015-08-31|\n",
      "|         US|   38545749|R2PC8GOFEDXCGO|B00L6FAKN0|     884601848|Boxsense Muay Tha...|          Sports|          5|            0|          0|   N|                Y|          Five Stars|         Love them..| 2015-08-31|\n",
      "|         US|     106971|R2XI3OGU6O07UM|B00UF3P1OW|     402732336|Bestok Patents De...|          Sports|          1|            3|          4|   N|                Y|Not a good camera...|Not a good camera...| 2015-08-31|\n",
      "|         US|   16821264|R3G6JV3IIQ2KPP|B00I964TPO|     202856758|Fuji Women's 2502...|          Sports|          4|            0|          0|   N|                Y|Very pretty and f...|Very pretty and f...| 2015-08-31|\n",
      "|         US|   33794471| RARVT9G2ZD03X|B004X1674A|     879942674|CAP Custom Olympi...|          Sports|          5|            0|          0|   N|                Y|Good quality bar ...|Great bar. Love t...| 2015-08-31|\n",
      "|         US|   14564373|R2C7MDMDUVT5NX|B00K8F4328|      81019278|Ultimate Arms Gea...|          Sports|          5|            0|          0|   N|                Y|                USGI|This kit contains...| 2015-08-31|\n",
      "|         US|    7708211|R333ADV83ZUZ9G|B000UOFEPM|     614409553|Rothco Solid Colo...|          Sports|          5|            0|          0|   N|                Y|          Five Stars|            Loved it| 2015-08-31|\n",
      "|         US|    4304694| R42XDGVBO0ZKV|B00P8XBP1W|     746817677|Bullet Flu Expand...|          Sports|          5|            1|          1|   N|                Y|          Five Stars|Awesome tips can'...| 2015-08-31|\n",
      "|         US|    9560262|R2L6BF0M4ZBNP7|B00GWDDEL6|     432347881|adidas Golf Troph...|          Sports|          5|            0|          0|   N|                Y|          Five Stars|It was just as I ...| 2015-08-31|\n",
      "|         US|   14276866|R2A0KH1Q6BCBCB|B00JRMZK3E|     672817051|Superbicycle Spor...|          Sports|          5|            0|          0|   N|                Y|          Five Stars|Handy for those m...| 2015-08-31|\n",
      "|         US|   37293106|R15HFV88FRH5ER|B001CWPB3G|     703775490|Fobus  Belt 6900B...|          Sports|          5|            0|          0|   N|                Y|      Great holster!|Awesome product w...| 2015-08-31|\n",
      "|         US|   42473320|R2L0Y631HLU7UM|B00XRIMQQS|     145285117|  X Lesto Shin Guard|          Sports|          5|            0|          0|   N|                Y|          Five Stars|Great Bargain! Si...| 2015-08-31|\n",
      "|         US|   30639298|R3TADCZN247N9X|B00177BQC6|     980422116|Intex Seahawk 4, ...|          Sports|          5|            0|          1|   N|                Y|          Five Stars|An excellent prod...| 2015-08-31|\n",
      "|         US|   33846969|R22G19ZKWLFI98|B008YS8D68|     573632005|Worth Lithium Amp...|          Sports|          4|            0|          1|   N|                Y|          Four Stars|       Son loves it.| 2015-08-31|\n",
      "|         US|   14130879|R1C0TMQ8ISSXRR|B00DH7DRG2|     129821483|Vktech 10pcs Golf...|          Sports|          4|            0|          0|   N|                Y|          Four Stars|        good product| 2015-08-31|\n",
      "|         US|   49472821|R2CVH2PZGPVJ4R|B002DM0ZIU|     738914165|Crosman Hollow Po...|          Sports|          4|            2|          2|   N|                Y|Good Pellet for P...|Airguns are notor...| 2015-08-31|\n",
      "|         US|   23851520|R3VXX794QECSKA|B00HMN7LDC|     595157323|Stealth Cam Megap...|          Sports|          4|            0|          0|   N|                Y|Poor pictures tho...|Poor pictures tho...| 2015-08-31|\n",
      "|         US|   27138575|R19PQP6PVC83ZM|B0027QSONK|     473447207|VooDoo Tactical 1...|          Sports|          5|            0|          0|   N|                Y|             Bad ace|You get a lot ban...| 2015-08-31|\n",
      "|         US|    1564497|R1YEUYQSZBUALH|B00BBS3X18|     526832057|Next Level Appare...|          Sports|          3|            1|          1|   N|                Y|         Three Stars|But pretty and I ...| 2015-08-31|\n",
      "+-----------+-----------+--------------+----------+--------------+--------------------+----------------+-----------+-------------+-----------+----+-----------------+--------------------+--------------------+-----------+\n",
      "only showing top 500 rows\n",
      "\n"
     ]
    }
   ],
   "source": [
    "from pyspark import SparkFiles\n",
    "url = \"https://s3.amazonaws.com/amazon-reviews-pds/tsv/amazon_reviews_us_Sports_v1_00.tsv.gz\"\n",
    "spark.sparkContext.addFile(url)\n",
    "df = spark.read.option(\"encoding\", \"UTF-8\").csv(SparkFiles.get(\"amazon_reviews_us_Sports_v1_00.tsv.gz\"), sep=\"\\t\", header=True, inferSchema=True)\n",
    "df.show(500)"
   ]
  },
  {
   "cell_type": "markdown",
   "metadata": {
    "id": "2yUSe55VY-9t"
   },
   "source": [
    "### Create DataFrames to match tables"
   ]
  },
  {
   "cell_type": "code",
   "execution_count": null,
   "metadata": {
    "id": "C8REmY1aY-9u"
   },
   "outputs": [],
   "source": [
    "from pyspark.sql.functions import to_date\n",
    "# Read in the Review dataset as a DataFrame\n"
   ]
  },
  {
   "cell_type": "code",
   "execution_count": null,
   "metadata": {
    "colab": {
     "base_uri": "https://localhost:8080/"
    },
    "id": "0a666UNk7gB9",
    "outputId": "f490d5ad-766a-4d77-baec-17851842328b"
   },
   "outputs": [
    {
     "name": "stdout",
     "output_type": "stream",
     "text": [
      "+-----------+-----------+--------------+----------+--------------+--------------------+----------------+-----------+-------------+-----------+----+-----------------+-----------------+--------------------+-----------+\n",
      "|marketplace|customer_id|     review_id|product_id|product_parent|       product_title|product_category|star_rating|helpful_votes|total_votes|vine|verified_purchase|  review_headline|         review_body|review_date|\n",
      "+-----------+-----------+--------------+----------+--------------+--------------------+----------------+-----------+-------------+-----------+----+-----------------+-----------------+--------------------+-----------+\n",
      "|         US|   48945260|R1WBPB8MDCCN8F|B012P7UPSM|     409940130|Chicago Blackhawk...|          Sports|          5|            0|          0|   N|                N|LOVE IT. 6 stars!|Bought this last ...| 2015-08-31|\n",
      "+-----------+-----------+--------------+----------+--------------+--------------------+----------------+-----------+-------------+-----------+----+-----------------+-----------------+--------------------+-----------+\n",
      "\n"
     ]
    }
   ],
   "source": [
    "df.where(df.review_id==\"R1WBPB8MDCCN8F\").show()"
   ]
  },
  {
   "cell_type": "code",
   "execution_count": null,
   "metadata": {
    "colab": {
     "base_uri": "https://localhost:8080/"
    },
    "id": "8922o3BRve4J",
    "outputId": "d6a3d546-111c-434c-a92c-925380a430eb"
   },
   "outputs": [
    {
     "name": "stdout",
     "output_type": "stream",
     "text": [
      "root\n",
      " |-- marketplace: string (nullable = true)\n",
      " |-- customer_id: integer (nullable = true)\n",
      " |-- review_id: string (nullable = true)\n",
      " |-- product_id: string (nullable = true)\n",
      " |-- product_parent: integer (nullable = true)\n",
      " |-- product_title: string (nullable = true)\n",
      " |-- product_category: string (nullable = true)\n",
      " |-- star_rating: string (nullable = true)\n",
      " |-- helpful_votes: integer (nullable = true)\n",
      " |-- total_votes: integer (nullable = true)\n",
      " |-- vine: string (nullable = true)\n",
      " |-- verified_purchase: string (nullable = true)\n",
      " |-- review_headline: string (nullable = true)\n",
      " |-- review_body: string (nullable = true)\n",
      " |-- review_date: string (nullable = true)\n",
      "\n"
     ]
    }
   ],
   "source": [
    "# View the schema\n",
    "df.printSchema()"
   ]
  },
  {
   "cell_type": "code",
   "execution_count": null,
   "metadata": {
    "id": "ejyvUi7Mvosl"
   },
   "outputs": [],
   "source": [
    "# -- Customer table for first data set\n",
    "# CREATE TABLE customers_table (\n",
    "#   customer_id INT PRIMARY KEY NOT NULL UNIQUE,\n",
    "#   customer_count INT\n",
    "# );\n"
   ]
  },
  {
   "cell_type": "code",
   "execution_count": null,
   "metadata": {
    "colab": {
     "base_uri": "https://localhost:8080/"
    },
    "id": "B0TESUDRY-90",
    "outputId": "3159c371-fa06-4181-84d1-a43a9f07d6dd"
   },
   "outputs": [
    {
     "name": "stdout",
     "output_type": "stream",
     "text": [
      "+-----------+--------------+\n",
      "|customer_id|customer_count|\n",
      "+-----------+--------------+\n",
      "|   35669025|             1|\n",
      "|   48198949|            30|\n",
      "|   43355824|             6|\n",
      "|   33014261|             6|\n",
      "|   23493243|             1|\n",
      "|   30717305|             4|\n",
      "|   15714077|             2|\n",
      "|    7854719|             1|\n",
      "|   12761428|             2|\n",
      "|   14127895|             1|\n",
      "|   51451778|             4|\n",
      "|    3452965|             1|\n",
      "|   40430762|             2|\n",
      "|   27314089|            15|\n",
      "|   11405991|             1|\n",
      "|   20368048|             2|\n",
      "|   33967841|             2|\n",
      "|   10418855|             1|\n",
      "|   43783459|             1|\n",
      "|   50843047|             4|\n",
      "+-----------+--------------+\n",
      "only showing top 20 rows\n",
      "\n"
     ]
    }
   ],
   "source": [
    "# Create the customers_table DataFrame\n",
    "customers_df = df.groupby(\"customer_id\").agg({\"customer_id\":\"count\"}).withColumnRenamed(\"count(customer_id)\", \"customer_count\")\n",
    "customers_df.show()"
   ]
  },
  {
   "cell_type": "code",
   "execution_count": null,
   "metadata": {
    "colab": {
     "base_uri": "https://localhost:8080/"
    },
    "id": "mLLag3CNwtdK",
    "outputId": "7cfb94c3-6fc1-4f00-c6b9-1d3aa1363ee3"
   },
   "outputs": [
    {
     "name": "stdout",
     "output_type": "stream",
     "text": [
      "root\n",
      " |-- customer_id: integer (nullable = true)\n",
      " |-- customer_count: long (nullable = false)\n",
      "\n"
     ]
    }
   ],
   "source": [
    "customers_df.printSchema()"
   ]
  },
  {
   "cell_type": "code",
   "execution_count": null,
   "metadata": {
    "id": "nfa_bfPXzlmq"
   },
   "outputs": [],
   "source": [
    "\n",
    "\n"
   ]
  },
  {
   "cell_type": "code",
   "execution_count": null,
   "metadata": {
    "colab": {
     "base_uri": "https://localhost:8080/"
    },
    "id": "4FwXA6UvY-96",
    "outputId": "afe538cd-70b1-4b69-e826-b2eb61815689"
   },
   "outputs": [
    {
     "name": "stdout",
     "output_type": "stream",
     "text": [
      "root\n",
      " |-- product_id: string (nullable = true)\n",
      " |-- product_title: string (nullable = true)\n",
      "\n"
     ]
    }
   ],
   "source": [
    "# Create the products_table DataFrame and drop duplicates. \n",
    "products_df = df.select([\"product_id\", \"product_title\"]).drop_duplicates([\"product_id\"])\n",
    "products_df.printSchema()"
   ]
  },
  {
   "cell_type": "code",
   "execution_count": null,
   "metadata": {
    "colab": {
     "base_uri": "https://localhost:8080/"
    },
    "id": "9deUhWyN0xxm",
    "outputId": "f882bf69-38d0-4bc2-da5f-0bf60e7c599b"
   },
   "outputs": [
    {
     "name": "stdout",
     "output_type": "stream",
     "text": [
      "+----------+--------------------+\n",
      "|product_id|       product_title|\n",
      "+----------+--------------------+\n",
      "|1570340439|Compass & Map Nav...|\n",
      "|9879000633|Swordmaster - Uni...|\n",
      "|B00004RAN1|24x7x7 Pro Cage Trap|\n",
      "|B00005OU7P|Putt and Return P...|\n",
      "|B00005V3EN|Airzone Trampolin...|\n",
      "|B00008Z7M2|Koolatron 401619 ...|\n",
      "|B0000AAEMO|Seahawks Franklin...|\n",
      "|B0000AI0K1|Outdoor Cap Heavy...|\n",
      "|B0000ANGL1|NFL Men's New Yor...|\n",
      "|B0000ANHRR|Heatgear Loose Lo...|\n",
      "|B0000AU3AK|Everlast Genuine ...|\n",
      "|B0000AUTWD|Cubby 5011 Mini Mite|\n",
      "|B0000AVZBW|G- Lox  Deerskin ...|\n",
      "|B0000AXJT5|Pro Mex Professio...|\n",
      "|B0000AXNWO|   Ande Fluorocarbon|\n",
      "|B0000AXUET|Star brite Brush ...|\n",
      "|B0000AY199|DU-BRO Fishing Tr...|\n",
      "|B0000AYEE8|Attwood Stainiles...|\n",
      "|B0000AYGZ1|Attwood Stainless...|\n",
      "|B0000AZ8LS|Tacstar 4-Shot Re...|\n",
      "+----------+--------------------+\n",
      "only showing top 20 rows\n",
      "\n"
     ]
    }
   ],
   "source": [
    "products_df.show()"
   ]
  },
  {
   "cell_type": "code",
   "execution_count": null,
   "metadata": {
    "id": "lOHnfcQU0IKN"
   },
   "outputs": [],
   "source": [
    "# -- This table will contain only unique values\n",
    "# CREATE TABLE products_table (\n",
    "#   product_id TEXT PRIMARY KEY NOT NULL UNIQUE,\n",
    "#   product_title TEXT\n",
    "# );\n"
   ]
  },
  {
   "cell_type": "markdown",
   "metadata": {
    "id": "So5elyDzzsE6"
   },
   "source": [
    "To create the products_table, use the select() function to select the product_id \n",
    "and product_title, then drop duplicates with the drop_duplicates() function \n",
    "to retrieve only unique product_ids. Refer to the code snippet provided in \n",
    "the Amazon_Reviews_ETL_starter_code.ipynb file for assistance."
   ]
  },
  {
   "cell_type": "code",
   "execution_count": null,
   "metadata": {
    "id": "ICPReARG1WU1"
   },
   "outputs": [],
   "source": [
    "# CREATE TABLE review_id_table (\n",
    "#   review_id TEXT PRIMARY KEY NOT NULL,\n",
    "#   customer_id INTEGER,\n",
    "#   product_id TEXT,\n",
    "#   product_parent INTEGER,\n",
    "#   review_date DATE -- this should be in the formate yyyy-mm-dd\n",
    "# );"
   ]
  },
  {
   "cell_type": "code",
   "execution_count": null,
   "metadata": {
    "id": "a2tGPmsi1cjd"
   },
   "outputs": [],
   "source": []
  },
  {
   "cell_type": "code",
   "execution_count": null,
   "metadata": {
    "colab": {
     "base_uri": "https://localhost:8080/"
    },
    "id": "MkqyCuNQY-9-",
    "outputId": "4a67084b-67d6-4056-9150-2a825fe196d4"
   },
   "outputs": [
    {
     "name": "stdout",
     "output_type": "stream",
     "text": [
      "root\n",
      " |-- review_id: string (nullable = true)\n",
      " |-- customer_id: integer (nullable = true)\n",
      " |-- product_id: string (nullable = true)\n",
      " |-- product_parent: integer (nullable = true)\n",
      " |-- review_date: date (nullable = true)\n",
      "\n"
     ]
    }
   ],
   "source": [
    "# Create the review_id_table DataFrame. \n",
    "# Convert the 'review_date' column to a date datatype with to_date(\"review_date\", 'yyyy-MM-dd').alias(\"review_date\")\n",
    "review_id_df = df.select([\"review_id\", \"customer_id\", \"product_id\", \"product_parent\", to_date(\"review_date\", 'yyyy-MM-dd').alias(\"review_date\")])\n",
    "review_id_df.printSchema()"
   ]
  },
  {
   "cell_type": "code",
   "execution_count": null,
   "metadata": {
    "colab": {
     "base_uri": "https://localhost:8080/"
    },
    "id": "oggsY9t82DSa",
    "outputId": "144e2d36-3f78-43e3-aebc-7c07a2275704"
   },
   "outputs": [
    {
     "name": "stdout",
     "output_type": "stream",
     "text": [
      "+--------------+-----------+----------+--------------+-----------+\n",
      "|     review_id|customer_id|product_id|product_parent|review_date|\n",
      "+--------------+-----------+----------+--------------+-----------+\n",
      "|R1WBPB8MDCCN8F|   48945260|B012P7UPSM|     409940130| 2015-08-31|\n",
      "|R32M0YEWV77XG8|    5782091|B001GQ3VHG|     657746679| 2015-08-31|\n",
      "| RR8V7WR27NXJ5|   45813853|B008VS8M58|     962442336| 2015-08-31|\n",
      "|R1MHO5V9Z932AY|    1593730|B005F06F4U|      74305227| 2015-08-31|\n",
      "|R16PD71086BD2V|   29605511|B010T4IE2C|     787185588| 2015-08-31|\n",
      "|R1Z8IFGWTRWXT6|   11112959|B004RKJGLS|      94127483| 2015-08-31|\n",
      "|R3AUMSHAW73HWN|     108031|B005V3DCBU|     526977496| 2015-08-31|\n",
      "|R2KWDWFOHGX6FL|   13981540|B00MHT9WN8|      26521265| 2015-08-31|\n",
      "|R3H9543FWBWFBU|   37993909|B001CSIRQ8|     652431165| 2015-08-31|\n",
      "| RUANXOQ9W3OU5|   26040213|B001KZ3NOO|     635861713| 2015-08-31|\n",
      "|R31673RTGEZSW7|   34657602|B00005RCQS|      72099763| 2015-08-31|\n",
      "|R22OQLFSH42RCM|   14346192|B00FA7RWVI|     757354022| 2015-08-31|\n",
      "|R12LEL4F3TSZUJ|   38782687|B000MMH2HU|     272402599| 2015-08-31|\n",
      "|R2L9XWD03072NI|   27138575|B00WJOATDS|     375070208| 2015-08-31|\n",
      "|R2K0U91HIACANO|   11838771|B00BOM2JNY|     639666785| 2015-08-31|\n",
      "|R29SP6MBT7MXG7|     535800|B00OD5GAFM|      38715442| 2015-08-31|\n",
      "|R31XREAAMATEPY|   23156579|B00CAHDC1K|      57088652| 2015-08-31|\n",
      "|R2116AVB87SO38|   48107879|B004NLHXLG|     114125984| 2015-08-31|\n",
      "|R3RDVBB6O0X3HW|   27260960|B00L7OANWI|     883962979| 2015-08-31|\n",
      "|R3LW5T149LKKQM|   39537314|B0085PPSIQ|     691479969| 2015-08-31|\n",
      "+--------------+-----------+----------+--------------+-----------+\n",
      "only showing top 20 rows\n",
      "\n"
     ]
    }
   ],
   "source": [
    "review_id_df.show()"
   ]
  },
  {
   "cell_type": "code",
   "execution_count": null,
   "metadata": {
    "id": "A-VFa7Y23c6G"
   },
   "outputs": [],
   "source": [
    "# -- vine table\n",
    "# CREATE TABLE vine_table (\n",
    "#   review_id TEXT PRIMARY KEY,\n",
    "#   star_rating INTEGER,\n",
    "#   helpful_votes INTEGER,\n",
    "#   total_votes INTEGER,\n",
    "#   vine TEXT,\n",
    "#   verified_purchase TEXT\n",
    "# );"
   ]
  },
  {
   "cell_type": "code",
   "execution_count": null,
   "metadata": {
    "colab": {
     "base_uri": "https://localhost:8080/"
    },
    "id": "jcneNBcS6-QF",
    "outputId": "81117c19-aab0-4e0d-9a11-0ce706c61e18"
   },
   "outputs": [
    {
     "name": "stdout",
     "output_type": "stream",
     "text": [
      "root\n",
      " |-- marketplace: string (nullable = true)\n",
      " |-- customer_id: integer (nullable = true)\n",
      " |-- review_id: string (nullable = true)\n",
      " |-- product_id: string (nullable = true)\n",
      " |-- product_parent: integer (nullable = true)\n",
      " |-- product_title: string (nullable = true)\n",
      " |-- product_category: string (nullable = true)\n",
      " |-- star_rating: integer (nullable = true)\n",
      " |-- helpful_votes: integer (nullable = true)\n",
      " |-- total_votes: integer (nullable = true)\n",
      " |-- vine: string (nullable = true)\n",
      " |-- verified_purchase: string (nullable = true)\n",
      " |-- review_headline: string (nullable = true)\n",
      " |-- review_body: string (nullable = true)\n",
      " |-- review_date: string (nullable = true)\n",
      "\n"
     ]
    }
   ],
   "source": [
    "from pyspark.sql.types import IntegerType\n",
    "df = df.withColumn(\"star_rating\", df.star_rating.cast(IntegerType()))\n",
    "df.printSchema()"
   ]
  },
  {
   "cell_type": "code",
   "execution_count": null,
   "metadata": {
    "colab": {
     "base_uri": "https://localhost:8080/"
    },
    "id": "lzMmkdKmY--D",
    "outputId": "f2ea15ab-e490-45e2-9d72-b714a6181dc0"
   },
   "outputs": [
    {
     "name": "stdout",
     "output_type": "stream",
     "text": [
      "root\n",
      " |-- review_id: string (nullable = true)\n",
      " |-- star_rating: integer (nullable = true)\n",
      " |-- helpful_votes: integer (nullable = true)\n",
      " |-- total_votes: integer (nullable = true)\n",
      " |-- vine: string (nullable = true)\n",
      " |-- verified_purchase: string (nullable = true)\n",
      "\n"
     ]
    }
   ],
   "source": [
    "# Create the vine_table. DataFrame\n",
    "vine_df = df.select([\"review_id\",\"star_rating\", \"helpful_votes\",\"total_votes\",\"vine\",\"verified_purchase\"])\n",
    "vine_df.printSchema()"
   ]
  },
  {
   "cell_type": "markdown",
   "metadata": {
    "id": "jITZhLkmY--J"
   },
   "source": [
    "### Connect to the AWS RDS instance and write each DataFrame to its table. "
   ]
  },
  {
   "cell_type": "code",
   "execution_count": null,
   "metadata": {
    "colab": {
     "base_uri": "https://localhost:8080/"
    },
    "id": "7jiUvs1aY--L",
    "outputId": "5ac09e98-cc3c-4517-f777-d89dc7df8468"
   },
   "outputs": [
    {
     "name": "stdout",
     "output_type": "stream",
     "text": [
      "Enter database password··········\n"
     ]
    }
   ],
   "source": [
    "# Configure settings for RDS\n",
    "# Store environmental variable\n",
    "from getpass import getpass\n",
    "password = getpass('Enter database password')\n",
    "# Configure settings for RDS\n",
    "mode = \"append\"\n",
    "jdbc_url=\"jdbc:postgresql://mypostgresdb.cxqzibdbvzc7.us-east-1.rds.amazonaws.com:5432/my_data_class_db\"\n",
    "config = {\"user\":\"postgres\",\n",
    "          \"password\": password,\n",
    "          \"driver\":\"org.postgresql.Driver\"}"
   ]
  },
  {
   "cell_type": "code",
   "execution_count": null,
   "metadata": {
    "colab": {
     "base_uri": "https://localhost:8080/",
     "height": 1000
    },
    "id": "T2zgZ-aKY--Q",
    "outputId": "e2515cde-0395-496a-b3c1-41ae788b50cc"
   },
   "outputs": [
    {
     "ename": "Py4JJavaError",
     "evalue": "ignored",
     "output_type": "error",
     "traceback": [
      "\u001b[0;31m---------------------------------------------------------------------------\u001b[0m",
      "\u001b[0;31mPy4JJavaError\u001b[0m                             Traceback (most recent call last)",
      "\u001b[0;32m<ipython-input-23-777dd587f0a7>\u001b[0m in \u001b[0;36m<module>\u001b[0;34m()\u001b[0m\n\u001b[1;32m      1\u001b[0m \u001b[0;31m# Write review_id_df to table in RDS\u001b[0m\u001b[0;34m\u001b[0m\u001b[0;34m\u001b[0m\u001b[0;34m\u001b[0m\u001b[0m\n\u001b[0;32m----> 2\u001b[0;31m \u001b[0mreview_id_df\u001b[0m\u001b[0;34m.\u001b[0m\u001b[0mwrite\u001b[0m\u001b[0;34m.\u001b[0m\u001b[0mjdbc\u001b[0m\u001b[0;34m(\u001b[0m\u001b[0murl\u001b[0m\u001b[0;34m=\u001b[0m\u001b[0mjdbc_url\u001b[0m\u001b[0;34m,\u001b[0m \u001b[0mtable\u001b[0m\u001b[0;34m=\u001b[0m\u001b[0;34m'review_id_table'\u001b[0m\u001b[0;34m,\u001b[0m \u001b[0mmode\u001b[0m\u001b[0;34m=\u001b[0m\u001b[0mmode\u001b[0m\u001b[0;34m,\u001b[0m \u001b[0mproperties\u001b[0m\u001b[0;34m=\u001b[0m\u001b[0mconfig\u001b[0m\u001b[0;34m)\u001b[0m\u001b[0;34m\u001b[0m\u001b[0;34m\u001b[0m\u001b[0m\n\u001b[0m",
      "\u001b[0;32m/content/spark-3.0.3-bin-hadoop2.7/python/pyspark/sql/readwriter.py\u001b[0m in \u001b[0;36mjdbc\u001b[0;34m(self, url, table, mode, properties)\u001b[0m\n\u001b[1;32m   1083\u001b[0m         \u001b[0;32mfor\u001b[0m \u001b[0mk\u001b[0m \u001b[0;32min\u001b[0m \u001b[0mproperties\u001b[0m\u001b[0;34m:\u001b[0m\u001b[0;34m\u001b[0m\u001b[0;34m\u001b[0m\u001b[0m\n\u001b[1;32m   1084\u001b[0m             \u001b[0mjprop\u001b[0m\u001b[0;34m.\u001b[0m\u001b[0msetProperty\u001b[0m\u001b[0;34m(\u001b[0m\u001b[0mk\u001b[0m\u001b[0;34m,\u001b[0m \u001b[0mproperties\u001b[0m\u001b[0;34m[\u001b[0m\u001b[0mk\u001b[0m\u001b[0;34m]\u001b[0m\u001b[0;34m)\u001b[0m\u001b[0;34m\u001b[0m\u001b[0;34m\u001b[0m\u001b[0m\n\u001b[0;32m-> 1085\u001b[0;31m         \u001b[0mself\u001b[0m\u001b[0;34m.\u001b[0m\u001b[0mmode\u001b[0m\u001b[0;34m(\u001b[0m\u001b[0mmode\u001b[0m\u001b[0;34m)\u001b[0m\u001b[0;34m.\u001b[0m\u001b[0m_jwrite\u001b[0m\u001b[0;34m.\u001b[0m\u001b[0mjdbc\u001b[0m\u001b[0;34m(\u001b[0m\u001b[0murl\u001b[0m\u001b[0;34m,\u001b[0m \u001b[0mtable\u001b[0m\u001b[0;34m,\u001b[0m \u001b[0mjprop\u001b[0m\u001b[0;34m)\u001b[0m\u001b[0;34m\u001b[0m\u001b[0;34m\u001b[0m\u001b[0m\n\u001b[0m\u001b[1;32m   1086\u001b[0m \u001b[0;34m\u001b[0m\u001b[0m\n\u001b[1;32m   1087\u001b[0m \u001b[0;34m\u001b[0m\u001b[0m\n",
      "\u001b[0;32m/content/spark-3.0.3-bin-hadoop2.7/python/lib/py4j-0.10.9-src.zip/py4j/java_gateway.py\u001b[0m in \u001b[0;36m__call__\u001b[0;34m(self, *args)\u001b[0m\n\u001b[1;32m   1303\u001b[0m         \u001b[0manswer\u001b[0m \u001b[0;34m=\u001b[0m \u001b[0mself\u001b[0m\u001b[0;34m.\u001b[0m\u001b[0mgateway_client\u001b[0m\u001b[0;34m.\u001b[0m\u001b[0msend_command\u001b[0m\u001b[0;34m(\u001b[0m\u001b[0mcommand\u001b[0m\u001b[0;34m)\u001b[0m\u001b[0;34m\u001b[0m\u001b[0;34m\u001b[0m\u001b[0m\n\u001b[1;32m   1304\u001b[0m         return_value = get_return_value(\n\u001b[0;32m-> 1305\u001b[0;31m             answer, self.gateway_client, self.target_id, self.name)\n\u001b[0m\u001b[1;32m   1306\u001b[0m \u001b[0;34m\u001b[0m\u001b[0m\n\u001b[1;32m   1307\u001b[0m         \u001b[0;32mfor\u001b[0m \u001b[0mtemp_arg\u001b[0m \u001b[0;32min\u001b[0m \u001b[0mtemp_args\u001b[0m\u001b[0;34m:\u001b[0m\u001b[0;34m\u001b[0m\u001b[0;34m\u001b[0m\u001b[0m\n",
      "\u001b[0;32m/content/spark-3.0.3-bin-hadoop2.7/python/pyspark/sql/utils.py\u001b[0m in \u001b[0;36mdeco\u001b[0;34m(*a, **kw)\u001b[0m\n\u001b[1;32m    126\u001b[0m     \u001b[0;32mdef\u001b[0m \u001b[0mdeco\u001b[0m\u001b[0;34m(\u001b[0m\u001b[0;34m*\u001b[0m\u001b[0ma\u001b[0m\u001b[0;34m,\u001b[0m \u001b[0;34m**\u001b[0m\u001b[0mkw\u001b[0m\u001b[0;34m)\u001b[0m\u001b[0;34m:\u001b[0m\u001b[0;34m\u001b[0m\u001b[0;34m\u001b[0m\u001b[0m\n\u001b[1;32m    127\u001b[0m         \u001b[0;32mtry\u001b[0m\u001b[0;34m:\u001b[0m\u001b[0;34m\u001b[0m\u001b[0;34m\u001b[0m\u001b[0m\n\u001b[0;32m--> 128\u001b[0;31m             \u001b[0;32mreturn\u001b[0m \u001b[0mf\u001b[0m\u001b[0;34m(\u001b[0m\u001b[0;34m*\u001b[0m\u001b[0ma\u001b[0m\u001b[0;34m,\u001b[0m \u001b[0;34m**\u001b[0m\u001b[0mkw\u001b[0m\u001b[0;34m)\u001b[0m\u001b[0;34m\u001b[0m\u001b[0;34m\u001b[0m\u001b[0m\n\u001b[0m\u001b[1;32m    129\u001b[0m         \u001b[0;32mexcept\u001b[0m \u001b[0mpy4j\u001b[0m\u001b[0;34m.\u001b[0m\u001b[0mprotocol\u001b[0m\u001b[0;34m.\u001b[0m\u001b[0mPy4JJavaError\u001b[0m \u001b[0;32mas\u001b[0m \u001b[0me\u001b[0m\u001b[0;34m:\u001b[0m\u001b[0;34m\u001b[0m\u001b[0;34m\u001b[0m\u001b[0m\n\u001b[1;32m    130\u001b[0m             \u001b[0mconverted\u001b[0m \u001b[0;34m=\u001b[0m \u001b[0mconvert_exception\u001b[0m\u001b[0;34m(\u001b[0m\u001b[0me\u001b[0m\u001b[0;34m.\u001b[0m\u001b[0mjava_exception\u001b[0m\u001b[0;34m)\u001b[0m\u001b[0;34m\u001b[0m\u001b[0;34m\u001b[0m\u001b[0m\n",
      "\u001b[0;32m/content/spark-3.0.3-bin-hadoop2.7/python/lib/py4j-0.10.9-src.zip/py4j/protocol.py\u001b[0m in \u001b[0;36mget_return_value\u001b[0;34m(answer, gateway_client, target_id, name)\u001b[0m\n\u001b[1;32m    326\u001b[0m                 raise Py4JJavaError(\n\u001b[1;32m    327\u001b[0m                     \u001b[0;34m\"An error occurred while calling {0}{1}{2}.\\n\"\u001b[0m\u001b[0;34m.\u001b[0m\u001b[0;34m\u001b[0m\u001b[0;34m\u001b[0m\u001b[0m\n\u001b[0;32m--> 328\u001b[0;31m                     format(target_id, \".\", name), value)\n\u001b[0m\u001b[1;32m    329\u001b[0m             \u001b[0;32melse\u001b[0m\u001b[0;34m:\u001b[0m\u001b[0;34m\u001b[0m\u001b[0;34m\u001b[0m\u001b[0m\n\u001b[1;32m    330\u001b[0m                 raise Py4JError(\n",
      "\u001b[0;31mPy4JJavaError\u001b[0m: An error occurred while calling o124.jdbc.\n: org.apache.spark.SparkException: Job aborted due to stage failure: Task 0 in stage 14.0 failed 1 times, most recent failure: Lost task 0.0 in stage 14.0 (TID 14, f0928000452d, executor driver): java.sql.BatchUpdateException: Batch entry 0 INSERT INTO review_id_table (\"review_id\",\"customer_id\",\"product_id\",\"product_parent\",\"review_date\") VALUES ('R1WBPB8MDCCN8F',48945260,'B012P7UPSM',409940130,'2015-08-31 +00'::date) was aborted: ERROR: duplicate key value violates unique constraint \"review_id_table_pkey\"\n  Detail: Key (review_id)=(R1WBPB8MDCCN8F) already exists.  Call getNextException to see other errors in the batch.\n\tat org.postgresql.jdbc.BatchResultHandler.handleError(BatchResultHandler.java:169)\n\tat org.postgresql.core.v3.QueryExecutorImpl.processResults(QueryExecutorImpl.java:2286)\n\tat org.postgresql.core.v3.QueryExecutorImpl.flushIfDeadlockRisk(QueryExecutorImpl.java:1404)\n\tat org.postgresql.core.v3.QueryExecutorImpl.sendQuery(QueryExecutorImpl.java:1429)\n\tat org.postgresql.core.v3.QueryExecutorImpl.execute(QueryExecutorImpl.java:507)\n\tat org.postgresql.jdbc.PgStatement.internalExecuteBatch(PgStatement.java:870)\n\tat org.postgresql.jdbc.PgStatement.executeBatch(PgStatement.java:893)\n\tat org.postgresql.jdbc.PgPreparedStatement.executeBatch(PgPreparedStatement.java:1639)\n\tat org.apache.spark.sql.execution.datasources.jdbc.JdbcUtils$.savePartition(JdbcUtils.scala:699)\n\tat org.apache.spark.sql.execution.datasources.jdbc.JdbcUtils$.$anonfun$saveTable$1(JdbcUtils.scala:871)\n\tat org.apache.spark.sql.execution.datasources.jdbc.JdbcUtils$.$anonfun$saveTable$1$adapted(JdbcUtils.scala:869)\n\tat org.apache.spark.rdd.RDD.$anonfun$foreachPartition$2(RDD.scala:994)\n\tat org.apache.spark.rdd.RDD.$anonfun$foreachPartition$2$adapted(RDD.scala:994)\n\tat org.apache.spark.SparkContext.$anonfun$runJob$5(SparkContext.scala:2154)\n\tat org.apache.spark.scheduler.ResultTask.runTask(ResultTask.scala:90)\n\tat org.apache.spark.scheduler.Task.run(Task.scala:127)\n\tat org.apache.spark.executor.Executor$TaskRunner.$anonfun$run$3(Executor.scala:463)\n\tat org.apache.spark.util.Utils$.tryWithSafeFinally(Utils.scala:1377)\n\tat org.apache.spark.executor.Executor$TaskRunner.run(Executor.scala:466)\n\tat java.base/java.util.concurrent.ThreadPoolExecutor.runWorker(ThreadPoolExecutor.java:1128)\n\tat java.base/java.util.concurrent.ThreadPoolExecutor$Worker.run(ThreadPoolExecutor.java:628)\n\tat java.base/java.lang.Thread.run(Thread.java:829)\nCaused by: org.postgresql.util.PSQLException: ERROR: duplicate key value violates unique constraint \"review_id_table_pkey\"\n  Detail: Key (review_id)=(R1WBPB8MDCCN8F) already exists.\n\tat org.postgresql.core.v3.QueryExecutorImpl.receiveErrorResponse(QueryExecutorImpl.java:2553)\n\tat org.postgresql.core.v3.QueryExecutorImpl.processResults(QueryExecutorImpl.java:2285)\n\t... 20 more\n\nDriver stacktrace:\n\tat org.apache.spark.scheduler.DAGScheduler.failJobAndIndependentStages(DAGScheduler.scala:2059)\n\tat org.apache.spark.scheduler.DAGScheduler.$anonfun$abortStage$2(DAGScheduler.scala:2008)\n\tat org.apache.spark.scheduler.DAGScheduler.$anonfun$abortStage$2$adapted(DAGScheduler.scala:2007)\n\tat scala.collection.mutable.ResizableArray.foreach(ResizableArray.scala:62)\n\tat scala.collection.mutable.ResizableArray.foreach$(ResizableArray.scala:55)\n\tat scala.collection.mutable.ArrayBuffer.foreach(ArrayBuffer.scala:49)\n\tat org.apache.spark.scheduler.DAGScheduler.abortStage(DAGScheduler.scala:2007)\n\tat org.apache.spark.scheduler.DAGScheduler.$anonfun$handleTaskSetFailed$1(DAGScheduler.scala:973)\n\tat org.apache.spark.scheduler.DAGScheduler.$anonfun$handleTaskSetFailed$1$adapted(DAGScheduler.scala:973)\n\tat scala.Option.foreach(Option.scala:407)\n\tat org.apache.spark.scheduler.DAGScheduler.handleTaskSetFailed(DAGScheduler.scala:973)\n\tat org.apache.spark.scheduler.DAGSchedulerEventProcessLoop.doOnReceive(DAGScheduler.scala:2239)\n\tat org.apache.spark.scheduler.DAGSchedulerEventProcessLoop.onReceive(DAGScheduler.scala:2188)\n\tat org.apache.spark.scheduler.DAGSchedulerEventProcessLoop.onReceive(DAGScheduler.scala:2177)\n\tat org.apache.spark.util.EventLoop$$anon$1.run(EventLoop.scala:49)\n\tat org.apache.spark.scheduler.DAGScheduler.runJob(DAGScheduler.scala:775)\n\tat org.apache.spark.SparkContext.runJob(SparkContext.scala:2114)\n\tat org.apache.spark.SparkContext.runJob(SparkContext.scala:2135)\n\tat org.apache.spark.SparkContext.runJob(SparkContext.scala:2154)\n\tat org.apache.spark.SparkContext.runJob(SparkContext.scala:2179)\n\tat org.apache.spark.rdd.RDD.$anonfun$foreachPartition$1(RDD.scala:994)\n\tat org.apache.spark.rdd.RDDOperationScope$.withScope(RDDOperationScope.scala:151)\n\tat org.apache.spark.rdd.RDDOperationScope$.withScope(RDDOperationScope.scala:112)\n\tat org.apache.spark.rdd.RDD.withScope(RDD.scala:388)\n\tat org.apache.spark.rdd.RDD.foreachPartition(RDD.scala:992)\n\tat org.apache.spark.sql.execution.datasources.jdbc.JdbcUtils$.saveTable(JdbcUtils.scala:869)\n\tat org.apache.spark.sql.execution.datasources.jdbc.JdbcRelationProvider.createRelation(JdbcRelationProvider.scala:68)\n\tat org.apache.spark.sql.execution.datasources.SaveIntoDataSourceCommand.run(SaveIntoDataSourceCommand.scala:46)\n\tat org.apache.spark.sql.execution.command.ExecutedCommandExec.sideEffectResult$lzycompute(commands.scala:70)\n\tat org.apache.spark.sql.execution.command.ExecutedCommandExec.sideEffectResult(commands.scala:68)\n\tat org.apache.spark.sql.execution.command.ExecutedCommandExec.doExecute(commands.scala:90)\n\tat org.apache.spark.sql.execution.SparkPlan.$anonfun$execute$1(SparkPlan.scala:180)\n\tat org.apache.spark.sql.execution.SparkPlan.$anonfun$executeQuery$1(SparkPlan.scala:218)\n\tat org.apache.spark.rdd.RDDOperationScope$.withScope(RDDOperationScope.scala:151)\n\tat org.apache.spark.sql.execution.SparkPlan.executeQuery(SparkPlan.scala:215)\n\tat org.apache.spark.sql.execution.SparkPlan.execute(SparkPlan.scala:176)\n\tat org.apache.spark.sql.execution.QueryExecution.toRdd$lzycompute(QueryExecution.scala:127)\n\tat org.apache.spark.sql.execution.QueryExecution.toRdd(QueryExecution.scala:126)\n\tat org.apache.spark.sql.DataFrameWriter.$anonfun$runCommand$1(DataFrameWriter.scala:962)\n\tat org.apache.spark.sql.execution.SQLExecution$.$anonfun$withNewExecutionId$5(SQLExecution.scala:100)\n\tat org.apache.spark.sql.execution.SQLExecution$.withSQLConfPropagated(SQLExecution.scala:160)\n\tat org.apache.spark.sql.execution.SQLExecution$.$anonfun$withNewExecutionId$1(SQLExecution.scala:87)\n\tat org.apache.spark.sql.SparkSession.withActive(SparkSession.scala:767)\n\tat org.apache.spark.sql.execution.SQLExecution$.withNewExecutionId(SQLExecution.scala:64)\n\tat org.apache.spark.sql.DataFrameWriter.runCommand(DataFrameWriter.scala:962)\n\tat org.apache.spark.sql.DataFrameWriter.saveToV1Source(DataFrameWriter.scala:414)\n\tat org.apache.spark.sql.DataFrameWriter.save(DataFrameWriter.scala:398)\n\tat org.apache.spark.sql.DataFrameWriter.jdbc(DataFrameWriter.scala:790)\n\tat java.base/jdk.internal.reflect.NativeMethodAccessorImpl.invoke0(Native Method)\n\tat java.base/jdk.internal.reflect.NativeMethodAccessorImpl.invoke(NativeMethodAccessorImpl.java:62)\n\tat java.base/jdk.internal.reflect.DelegatingMethodAccessorImpl.invoke(DelegatingMethodAccessorImpl.java:43)\n\tat java.base/java.lang.reflect.Method.invoke(Method.java:566)\n\tat py4j.reflection.MethodInvoker.invoke(MethodInvoker.java:244)\n\tat py4j.reflection.ReflectionEngine.invoke(ReflectionEngine.java:357)\n\tat py4j.Gateway.invoke(Gateway.java:282)\n\tat py4j.commands.AbstractCommand.invokeMethod(AbstractCommand.java:132)\n\tat py4j.commands.CallCommand.execute(CallCommand.java:79)\n\tat py4j.GatewayConnection.run(GatewayConnection.java:238)\n\tat java.base/java.lang.Thread.run(Thread.java:829)\nCaused by: java.sql.BatchUpdateException: Batch entry 0 INSERT INTO review_id_table (\"review_id\",\"customer_id\",\"product_id\",\"product_parent\",\"review_date\") VALUES ('R1WBPB8MDCCN8F',48945260,'B012P7UPSM',409940130,'2015-08-31 +00'::date) was aborted: ERROR: duplicate key value violates unique constraint \"review_id_table_pkey\"\n  Detail: Key (review_id)=(R1WBPB8MDCCN8F) already exists.  Call getNextException to see other errors in the batch.\n\tat org.postgresql.jdbc.BatchResultHandler.handleError(BatchResultHandler.java:169)\n\tat org.postgresql.core.v3.QueryExecutorImpl.processResults(QueryExecutorImpl.java:2286)\n\tat org.postgresql.core.v3.QueryExecutorImpl.flushIfDeadlockRisk(QueryExecutorImpl.java:1404)\n\tat org.postgresql.core.v3.QueryExecutorImpl.sendQuery(QueryExecutorImpl.java:1429)\n\tat org.postgresql.core.v3.QueryExecutorImpl.execute(QueryExecutorImpl.java:507)\n\tat org.postgresql.jdbc.PgStatement.internalExecuteBatch(PgStatement.java:870)\n\tat org.postgresql.jdbc.PgStatement.executeBatch(PgStatement.java:893)\n\tat org.postgresql.jdbc.PgPreparedStatement.executeBatch(PgPreparedStatement.java:1639)\n\tat org.apache.spark.sql.execution.datasources.jdbc.JdbcUtils$.savePartition(JdbcUtils.scala:699)\n\tat org.apache.spark.sql.execution.datasources.jdbc.JdbcUtils$.$anonfun$saveTable$1(JdbcUtils.scala:871)\n\tat org.apache.spark.sql.execution.datasources.jdbc.JdbcUtils$.$anonfun$saveTable$1$adapted(JdbcUtils.scala:869)\n\tat org.apache.spark.rdd.RDD.$anonfun$foreachPartition$2(RDD.scala:994)\n\tat org.apache.spark.rdd.RDD.$anonfun$foreachPartition$2$adapted(RDD.scala:994)\n\tat org.apache.spark.SparkContext.$anonfun$runJob$5(SparkContext.scala:2154)\n\tat org.apache.spark.scheduler.ResultTask.runTask(ResultTask.scala:90)\n\tat org.apache.spark.scheduler.Task.run(Task.scala:127)\n\tat org.apache.spark.executor.Executor$TaskRunner.$anonfun$run$3(Executor.scala:463)\n\tat org.apache.spark.util.Utils$.tryWithSafeFinally(Utils.scala:1377)\n\tat org.apache.spark.executor.Executor$TaskRunner.run(Executor.scala:466)\n\tat java.base/java.util.concurrent.ThreadPoolExecutor.runWorker(ThreadPoolExecutor.java:1128)\n\tat java.base/java.util.concurrent.ThreadPoolExecutor$Worker.run(ThreadPoolExecutor.java:628)\n\t... 1 more\nCaused by: org.postgresql.util.PSQLException: ERROR: duplicate key value violates unique constraint \"review_id_table_pkey\"\n  Detail: Key (review_id)=(R1WBPB8MDCCN8F) already exists.\n\tat org.postgresql.core.v3.QueryExecutorImpl.receiveErrorResponse(QueryExecutorImpl.java:2553)\n\tat org.postgresql.core.v3.QueryExecutorImpl.processResults(QueryExecutorImpl.java:2285)\n\t... 20 more\n"
     ]
    }
   ],
   "source": [
    "# Write review_id_df to table in RDS\n",
    "review_id_df.write.jdbc(url=jdbc_url, table='review_id_table', mode=mode, properties=config)"
   ]
  },
  {
   "cell_type": "code",
   "execution_count": null,
   "metadata": {
    "id": "1m3yzn-LY--U"
   },
   "outputs": [],
   "source": [
    "# Write products_df to table in RDS\n",
    "# about 3 min\n",
    "products_df.write.jdbc(url=jdbc_url, table='products_table', mode=mode, properties=config)"
   ]
  },
  {
   "cell_type": "code",
   "execution_count": null,
   "metadata": {
    "id": "KbXri15fY--Z"
   },
   "outputs": [],
   "source": [
    "# Write customers_df to table in RDS\n",
    "# 5 min 14 s\n",
    "customers_df.write.jdbc(url=jdbc_url, table='customers_table', mode=mode, properties=config)"
   ]
  },
  {
   "cell_type": "code",
   "execution_count": null,
   "metadata": {
    "id": "XdQknSHLY--e"
   },
   "outputs": [],
   "source": [
    "# Write vine_df to table in RDS\n",
    "# 11 minutes\n",
    "vine_df.write.jdbc(url=jdbc_url, table='vine_table', mode=mode, properties=config)"
   ]
  },
  {
   "cell_type": "code",
   "execution_count": null,
   "metadata": {
    "id": "Exuo6ebUsCqW"
   },
   "outputs": [],
   "source": []
  }
 ],
 "metadata": {
  "colab": {
   "name": "Amazon_Reviews_ETL.ipynb",
   "provenance": []
  },
  "kernelspec": {
   "display_name": "Python 3",
   "language": "python",
   "name": "python3"
  },
  "language_info": {
   "codemirror_mode": {
    "name": "ipython",
    "version": 3
   },
   "file_extension": ".py",
   "mimetype": "text/x-python",
   "name": "python",
   "nbconvert_exporter": "python",
   "pygments_lexer": "ipython3",
   "version": "3.8.8"
  },
  "nteract": {
   "version": "0.12.3"
  }
 },
 "nbformat": 4,
 "nbformat_minor": 1
}
=======
  "nbformat": 4,
  "nbformat_minor": 0,
  "metadata": {
    "colab": {
      "name": "Amazon_Reviews_ETL.ipynb",
      "provenance": [],
      "include_colab_link": true
    },
    "kernelspec": {
      "name": "python3",
      "display_name": "Python 3"
    },
    "nteract": {
      "version": "0.12.3"
    },
    "language_info": {
      "name": "python"
    }
  },
  "cells": [
    {
      "cell_type": "markdown",
      "metadata": {
        "id": "view-in-github",
        "colab_type": "text"
      },
      "source": [
        "<a href=\"https://colab.research.google.com/github/kaalrok/Amazon_Vine_Analysis/blob/main/Amazon_Reviews_ETL.ipynb\" target=\"_parent\"><img src=\"https://colab.research.google.com/assets/colab-badge.svg\" alt=\"Open In Colab\"/></a>"
      ]
    },
    {
      "cell_type": "code",
      "metadata": {
        "id": "V58rxea0HqSa",
        "colab": {
          "base_uri": "https://localhost:8080/"
        },
        "outputId": "c9ad8b1e-d4a3-4a6c-a908-1abf593fd171"
      },
      "source": [
        "import os\n",
        "# Find the latest version of spark 3.0 from http://www.apache.org/dist/spark/ and enter as the spark version\n",
        "# For example:\n",
        "# spark_version = 'spark-3.0.3'\n",
        "spark_version = 'spark-3.0.3'\n",
        "os.environ['SPARK_VERSION']=spark_version\n",
        "\n",
        "# Install Spark and Java\n",
        "!apt-get update\n",
        "!apt-get install openjdk-11-jdk-headless -qq > /dev/null\n",
        "!wget -q http://www.apache.org/dist/spark/$SPARK_VERSION/$SPARK_VERSION-bin-hadoop2.7.tgz\n",
        "!tar xf $SPARK_VERSION-bin-hadoop2.7.tgz\n",
        "!pip install -q findspark\n",
        "\n",
        "# Set Environment Variables\n",
        "import os\n",
        "os.environ[\"JAVA_HOME\"] = \"/usr/lib/jvm/java-11-openjdk-amd64\"\n",
        "os.environ[\"SPARK_HOME\"] = f\"/content/{spark_version}-bin-hadoop2.7\"\n",
        "\n",
        "# Start a SparkSession\n",
        "import findspark\n",
        "findspark.init()"
      ],
      "execution_count": 1,
      "outputs": [
        {
          "output_type": "stream",
          "name": "stdout",
          "text": [
            "Ign:1 https://developer.download.nvidia.com/compute/cuda/repos/ubuntu1804/x86_64  InRelease\n",
            "Get:2 https://cloud.r-project.org/bin/linux/ubuntu bionic-cran40/ InRelease [3,626 B]\n",
            "Hit:3 http://archive.ubuntu.com/ubuntu bionic InRelease\n",
            "Hit:4 http://ppa.launchpad.net/c2d4u.team/c2d4u4.0+/ubuntu bionic InRelease\n",
            "Get:5 http://security.ubuntu.com/ubuntu bionic-security InRelease [88.7 kB]\n",
            "Ign:6 https://developer.download.nvidia.com/compute/machine-learning/repos/ubuntu1804/x86_64  InRelease\n",
            "Hit:7 https://developer.download.nvidia.com/compute/cuda/repos/ubuntu1804/x86_64  Release\n",
            "Hit:8 https://developer.download.nvidia.com/compute/machine-learning/repos/ubuntu1804/x86_64  Release\n",
            "Get:9 http://archive.ubuntu.com/ubuntu bionic-updates InRelease [88.7 kB]\n",
            "Hit:10 http://ppa.launchpad.net/cran/libgit2/ubuntu bionic InRelease\n",
            "Get:11 http://ppa.launchpad.net/deadsnakes/ppa/ubuntu bionic InRelease [15.9 kB]\n",
            "Get:12 http://archive.ubuntu.com/ubuntu bionic-backports InRelease [74.6 kB]\n",
            "Hit:13 http://ppa.launchpad.net/graphics-drivers/ppa/ubuntu bionic InRelease\n",
            "Get:16 http://ppa.launchpad.net/deadsnakes/ppa/ubuntu bionic/main amd64 Packages [45.7 kB]\n",
            "Fetched 317 kB in 3s (108 kB/s)\n",
            "Reading package lists... Done\n"
          ]
        }
      ]
    },
    {
      "cell_type": "code",
      "metadata": {
        "id": "_xKwTpATHqSe",
        "colab": {
          "base_uri": "https://localhost:8080/"
        },
        "outputId": "0a4206d6-08e6-4b68-89e3-f0f43b2e812e"
      },
      "source": [
        "# Download the Postgres driver that will allow Spark to interact with Postgres.\n",
        "!wget https://jdbc.postgresql.org/download/postgresql-42.2.16.jar"
      ],
      "execution_count": 2,
      "outputs": [
        {
          "output_type": "stream",
          "name": "stdout",
          "text": [
            "--2022-03-16 18:25:09--  https://jdbc.postgresql.org/download/postgresql-42.2.16.jar\n",
            "Resolving jdbc.postgresql.org (jdbc.postgresql.org)... 72.32.157.228, 2001:4800:3e1:1::228\n",
            "Connecting to jdbc.postgresql.org (jdbc.postgresql.org)|72.32.157.228|:443... connected.\n",
            "HTTP request sent, awaiting response... 200 OK\n",
            "Length: 1002883 (979K) [application/java-archive]\n",
            "Saving to: ‘postgresql-42.2.16.jar.1’\n",
            "\n",
            "postgresql-42.2.16. 100%[===================>] 979.38K  5.42MB/s    in 0.2s    \n",
            "\n",
            "2022-03-16 18:25:09 (5.42 MB/s) - ‘postgresql-42.2.16.jar.1’ saved [1002883/1002883]\n",
            "\n"
          ]
        }
      ]
    },
    {
      "cell_type": "code",
      "metadata": {
        "id": "MMqDAjVS0KN9"
      },
      "source": [
        "from pyspark.sql import SparkSession\n",
        "spark = SparkSession.builder.appName(\"M16-Amazon-Challenge\").config(\"spark.driver.extraClassPath\",\"/content/postgresql-42.2.16.jar\").getOrCreate()"
      ],
      "execution_count": 3,
      "outputs": []
    },
    {
      "cell_type": "markdown",
      "metadata": {
        "id": "cyBsySGuY-9V"
      },
      "source": [
        "### Load Amazon Data into Spark DataFrame"
      ]
    },
    {
      "cell_type": "code",
      "metadata": {
        "id": "CtCmBhQJY-9Z",
        "colab": {
          "base_uri": "https://localhost:8080/"
        },
        "outputId": "7f90c8d8-f36f-4e44-acd7-75db377d0525"
      },
      "source": [
        "from pyspark import SparkFiles\n",
        "url = \"https://s3.amazonaws.com/amazon-reviews-pds/tsv/amazon_reviews_us_Sports_v1_00.tsv.gz\"\n",
        "spark.sparkContext.addFile(url)\n",
        "df = spark.read.option(\"encoding\", \"UTF-8\").csv(SparkFiles.get(\"amazon_reviews_us_Sports_v1_00.tsv.gz\"), sep=\"\\t\", header=True, inferSchema=True)\n",
        "df.show()"
      ],
      "execution_count": 4,
      "outputs": [
        {
          "output_type": "stream",
          "name": "stdout",
          "text": [
            "+-----------+-----------+--------------+----------+--------------+--------------------+----------------+-----------+-------------+-----------+----+-----------------+--------------------+--------------------+-----------+\n",
            "|marketplace|customer_id|     review_id|product_id|product_parent|       product_title|product_category|star_rating|helpful_votes|total_votes|vine|verified_purchase|     review_headline|         review_body|review_date|\n",
            "+-----------+-----------+--------------+----------+--------------+--------------------+----------------+-----------+-------------+-----------+----+-----------------+--------------------+--------------------+-----------+\n",
            "|         US|   48945260|R1WBPB8MDCCN8F|B012P7UPSM|     409940130|Chicago Blackhawk...|          Sports|          5|            0|          0|   N|                N|   LOVE IT. 6 stars!|Bought this last ...| 2015-08-31|\n",
            "|         US|    5782091|R32M0YEWV77XG8|B001GQ3VHG|     657746679|Copag Poker Size ...|          Sports|          5|            1|          1|   N|                Y|       Shipped fast.|These are the bes...| 2015-08-31|\n",
            "|         US|   45813853| RR8V7WR27NXJ5|B008VS8M58|     962442336|Baoer 223 5.56x45...|          Sports|          1|            0|          0|   N|                Y|Good idea if it w...|It looks good, th...| 2015-08-31|\n",
            "|         US|    1593730|R1MHO5V9Z932AY|B005F06F4U|      74305227|All Terrain Tackl...|          Sports|          5|            0|          0|   N|                Y|          Five Stars|           Great jig| 2015-08-31|\n",
            "|         US|   29605511|R16PD71086BD2V|B010T4IE2C|     787185588|Swim Cap - 3 Pack...|          Sports|          5|            0|          1|   N|                N|Great quality sil...|I love swimming i...| 2015-08-31|\n",
            "|         US|   11112959|R1Z8IFGWTRWXT6|B004RKJGLS|      94127483|adidas Men's Spor...|          Sports|          3|            0|          0|   N|                Y|Love everything a...|Love everything a...| 2015-08-31|\n",
            "|         US|     108031|R3AUMSHAW73HWN|B005V3DCBU|     526977496|Nike Men's Perfor...|          Sports|          4|            2|          3|   N|                N|          Four Stars|not the best sock...| 2015-08-31|\n",
            "|         US|   13981540|R2KWDWFOHGX6FL|B00MHT9WN8|      26521265|Green Bay Packers...|          Sports|          5|            0|          0|   N|                Y|          Five Stars|             Love it| 2015-08-31|\n",
            "|         US|   37993909|R3H9543FWBWFBU|B001CSIRQ8|     652431165|Isokinetics Inc. ...|          Sports|          5|            1|          1|   N|                Y|can't wait to use it|Unfortunately I h...| 2015-08-31|\n",
            "|         US|   26040213| RUANXOQ9W3OU5|B001KZ3NOO|     635861713|Aottop Quality El...|          Sports|          5|            0|          0|   N|                Y|great product, ac...|fast shipping , g...| 2015-08-31|\n",
            "|         US|   34657602|R31673RTGEZSW7|B00005RCQS|      72099763|Everlast 2'x6' Fo...|          Sports|          5|            2|          2|   N|                Y|this mat is a pre...|If you have a ter...| 2015-08-31|\n",
            "|         US|   14346192|R22OQLFSH42RCM|B00FA7RWVI|     757354022|OGIO Men's Shredd...|          Sports|          5|            1|          1|   N|                Y|  Versatile Golf Bag|Love this golf ba...| 2015-08-31|\n",
            "|         US|   38782687|R12LEL4F3TSZUJ|B000MMH2HU|     272402599|Blue Sea Systems ...|          Sports|          5|            2|          2|   N|                Y|Great AC Main Bre...|Perfect mounting ...| 2015-08-31|\n",
            "|         US|   27138575|R2L9XWD03072NI|B00WJOATDS|     375070208|Zengi AR15 45 Deg...|          Sports|          5|            1|          2|   N|                Y|   Nice, some quirks|For the cost you ...| 2015-08-31|\n",
            "|         US|   11838771|R2K0U91HIACANO|B00BOM2JNY|     639666785|Black Mountain Pr...|          Sports|          5|            0|          0|   N|                N|55 cm - Good qual...|The ball is very ...| 2015-08-31|\n",
            "|         US|     535800|R29SP6MBT7MXG7|B00OD5GAFM|      38715442|Trijicon VCOG 1-6...|          Sports|          4|            3|          3|   N|                Y|    Very nice scope.|Very nice scope.....| 2015-08-31|\n",
            "|         US|   23156579|R31XREAAMATEPY|B00CAHDC1K|      57088652|Naruto Headband f...|          Sports|          5|            0|          0|   N|                Y|was for my son an...|           This item| 2015-08-31|\n",
            "|         US|   48107879|R2116AVB87SO38|B004NLHXLG|     114125984|Under Armour Men'...|          Sports|          5|            0|          0|   N|                Y|          Five Stars|greatest socks i ...| 2015-08-31|\n",
            "|         US|   27260960|R3RDVBB6O0X3HW|B00L7OANWI|     883962979|Yes4All Deep Tiss...|          Sports|          5|            0|          0|   N|                Y|          Five Stars|Perfect for home ...| 2015-08-31|\n",
            "|         US|   39537314|R3LW5T149LKKQM|B0085PPSIQ|     691479969|Lansky PS-MED01 B...|          Sports|          4|            0|          0|   N|                Y|A bit heavy for p...|Very good product...| 2015-08-31|\n",
            "+-----------+-----------+--------------+----------+--------------+--------------------+----------------+-----------+-------------+-----------+----+-----------------+--------------------+--------------------+-----------+\n",
            "only showing top 20 rows\n",
            "\n"
          ]
        }
      ]
    },
    {
      "cell_type": "markdown",
      "metadata": {
        "id": "2yUSe55VY-9t"
      },
      "source": [
        "### Create DataFrames to match tables"
      ]
    },
    {
      "cell_type": "code",
      "metadata": {
        "id": "C8REmY1aY-9u"
      },
      "source": [
        "from pyspark.sql.functions import to_date\n",
        "# Read in the Review dataset as a DataFrame\n"
      ],
      "execution_count": 6,
      "outputs": []
    },
    {
      "cell_type": "code",
      "source": [
        "df.where(df.review_id!=\"R1WBPB8MDCCN8F\").show()"
      ],
      "metadata": {
        "colab": {
          "base_uri": "https://localhost:8080/"
        },
        "id": "0a666UNk7gB9",
        "outputId": "e9994467-e1cc-428a-dea6-7c701ebfd7ec"
      },
      "execution_count": 5,
      "outputs": [
        {
          "output_type": "stream",
          "name": "stdout",
          "text": [
            "+-----------+-----------+--------------+----------+--------------+--------------------+----------------+-----------+-------------+-----------+----+-----------------+--------------------+--------------------+-----------+\n",
            "|marketplace|customer_id|     review_id|product_id|product_parent|       product_title|product_category|star_rating|helpful_votes|total_votes|vine|verified_purchase|     review_headline|         review_body|review_date|\n",
            "+-----------+-----------+--------------+----------+--------------+--------------------+----------------+-----------+-------------+-----------+----+-----------------+--------------------+--------------------+-----------+\n",
            "|         US|    5782091|R32M0YEWV77XG8|B001GQ3VHG|     657746679|Copag Poker Size ...|          Sports|          5|            1|          1|   N|                Y|       Shipped fast.|These are the bes...| 2015-08-31|\n",
            "|         US|   45813853| RR8V7WR27NXJ5|B008VS8M58|     962442336|Baoer 223 5.56x45...|          Sports|          1|            0|          0|   N|                Y|Good idea if it w...|It looks good, th...| 2015-08-31|\n",
            "|         US|    1593730|R1MHO5V9Z932AY|B005F06F4U|      74305227|All Terrain Tackl...|          Sports|          5|            0|          0|   N|                Y|          Five Stars|           Great jig| 2015-08-31|\n",
            "|         US|   29605511|R16PD71086BD2V|B010T4IE2C|     787185588|Swim Cap - 3 Pack...|          Sports|          5|            0|          1|   N|                N|Great quality sil...|I love swimming i...| 2015-08-31|\n",
            "|         US|   11112959|R1Z8IFGWTRWXT6|B004RKJGLS|      94127483|adidas Men's Spor...|          Sports|          3|            0|          0|   N|                Y|Love everything a...|Love everything a...| 2015-08-31|\n",
            "|         US|     108031|R3AUMSHAW73HWN|B005V3DCBU|     526977496|Nike Men's Perfor...|          Sports|          4|            2|          3|   N|                N|          Four Stars|not the best sock...| 2015-08-31|\n",
            "|         US|   13981540|R2KWDWFOHGX6FL|B00MHT9WN8|      26521265|Green Bay Packers...|          Sports|          5|            0|          0|   N|                Y|          Five Stars|             Love it| 2015-08-31|\n",
            "|         US|   37993909|R3H9543FWBWFBU|B001CSIRQ8|     652431165|Isokinetics Inc. ...|          Sports|          5|            1|          1|   N|                Y|can't wait to use it|Unfortunately I h...| 2015-08-31|\n",
            "|         US|   26040213| RUANXOQ9W3OU5|B001KZ3NOO|     635861713|Aottop Quality El...|          Sports|          5|            0|          0|   N|                Y|great product, ac...|fast shipping , g...| 2015-08-31|\n",
            "|         US|   34657602|R31673RTGEZSW7|B00005RCQS|      72099763|Everlast 2'x6' Fo...|          Sports|          5|            2|          2|   N|                Y|this mat is a pre...|If you have a ter...| 2015-08-31|\n",
            "|         US|   14346192|R22OQLFSH42RCM|B00FA7RWVI|     757354022|OGIO Men's Shredd...|          Sports|          5|            1|          1|   N|                Y|  Versatile Golf Bag|Love this golf ba...| 2015-08-31|\n",
            "|         US|   38782687|R12LEL4F3TSZUJ|B000MMH2HU|     272402599|Blue Sea Systems ...|          Sports|          5|            2|          2|   N|                Y|Great AC Main Bre...|Perfect mounting ...| 2015-08-31|\n",
            "|         US|   27138575|R2L9XWD03072NI|B00WJOATDS|     375070208|Zengi AR15 45 Deg...|          Sports|          5|            1|          2|   N|                Y|   Nice, some quirks|For the cost you ...| 2015-08-31|\n",
            "|         US|   11838771|R2K0U91HIACANO|B00BOM2JNY|     639666785|Black Mountain Pr...|          Sports|          5|            0|          0|   N|                N|55 cm - Good qual...|The ball is very ...| 2015-08-31|\n",
            "|         US|     535800|R29SP6MBT7MXG7|B00OD5GAFM|      38715442|Trijicon VCOG 1-6...|          Sports|          4|            3|          3|   N|                Y|    Very nice scope.|Very nice scope.....| 2015-08-31|\n",
            "|         US|   23156579|R31XREAAMATEPY|B00CAHDC1K|      57088652|Naruto Headband f...|          Sports|          5|            0|          0|   N|                Y|was for my son an...|           This item| 2015-08-31|\n",
            "|         US|   48107879|R2116AVB87SO38|B004NLHXLG|     114125984|Under Armour Men'...|          Sports|          5|            0|          0|   N|                Y|          Five Stars|greatest socks i ...| 2015-08-31|\n",
            "|         US|   27260960|R3RDVBB6O0X3HW|B00L7OANWI|     883962979|Yes4All Deep Tiss...|          Sports|          5|            0|          0|   N|                Y|          Five Stars|Perfect for home ...| 2015-08-31|\n",
            "|         US|   39537314|R3LW5T149LKKQM|B0085PPSIQ|     691479969|Lansky PS-MED01 B...|          Sports|          4|            0|          0|   N|                Y|A bit heavy for p...|Very good product...| 2015-08-31|\n",
            "|         US|   18457385|R1THNVUD55C27K|B003WWQO94|     567685590|Champion Sports C...|          Sports|          5|            0|          0|   N|                Y|These are bright ...|Pleasantly surpri...| 2015-08-31|\n",
            "+-----------+-----------+--------------+----------+--------------+--------------------+----------------+-----------+-------------+-----------+----+-----------------+--------------------+--------------------+-----------+\n",
            "only showing top 20 rows\n",
            "\n"
          ]
        }
      ]
    },
    {
      "cell_type": "code",
      "source": [
        "# View the schema\n",
        "df.printSchema()"
      ],
      "metadata": {
        "colab": {
          "base_uri": "https://localhost:8080/"
        },
        "id": "8922o3BRve4J",
        "outputId": "d6a3d546-111c-434c-a92c-925380a430eb"
      },
      "execution_count": 7,
      "outputs": [
        {
          "output_type": "stream",
          "name": "stdout",
          "text": [
            "root\n",
            " |-- marketplace: string (nullable = true)\n",
            " |-- customer_id: integer (nullable = true)\n",
            " |-- review_id: string (nullable = true)\n",
            " |-- product_id: string (nullable = true)\n",
            " |-- product_parent: integer (nullable = true)\n",
            " |-- product_title: string (nullable = true)\n",
            " |-- product_category: string (nullable = true)\n",
            " |-- star_rating: string (nullable = true)\n",
            " |-- helpful_votes: integer (nullable = true)\n",
            " |-- total_votes: integer (nullable = true)\n",
            " |-- vine: string (nullable = true)\n",
            " |-- verified_purchase: string (nullable = true)\n",
            " |-- review_headline: string (nullable = true)\n",
            " |-- review_body: string (nullable = true)\n",
            " |-- review_date: string (nullable = true)\n",
            "\n"
          ]
        }
      ]
    },
    {
      "cell_type": "code",
      "source": [
        "# -- Customer table for first data set\n",
        "# CREATE TABLE customers_table (\n",
        "#   customer_id INT PRIMARY KEY NOT NULL UNIQUE,\n",
        "#   customer_count INT\n",
        "# );\n"
      ],
      "metadata": {
        "id": "ejyvUi7Mvosl"
      },
      "execution_count": 8,
      "outputs": []
    },
    {
      "cell_type": "code",
      "metadata": {
        "id": "B0TESUDRY-90",
        "colab": {
          "base_uri": "https://localhost:8080/"
        },
        "outputId": "b339acca-f281-4919-86ef-2bac1766fe99"
      },
      "source": [
        "# Create the customers_table DataFrame\n",
        "customers_df = df.groupby(\"customer_id\").agg({\"customer_id\":\"count\"}).withColumnRenamed(\"count(customer_id)\", \"customer_count\")\n",
        "customers_df.show()"
      ],
      "execution_count": 9,
      "outputs": [
        {
          "output_type": "stream",
          "name": "stdout",
          "text": [
            "+-----------+--------------+\n",
            "|customer_id|customer_count|\n",
            "+-----------+--------------+\n",
            "|   35669025|             1|\n",
            "|   48198949|            30|\n",
            "|   43355824|             6|\n",
            "|   33014261|             6|\n",
            "|   23493243|             1|\n",
            "|   30717305|             4|\n",
            "|   15714077|             2|\n",
            "|    7854719|             1|\n",
            "|   12761428|             2|\n",
            "|   14127895|             1|\n",
            "|   51451778|             4|\n",
            "|    3452965|             1|\n",
            "|   40430762|             2|\n",
            "|   27314089|            15|\n",
            "|   11405991|             1|\n",
            "|   20368048|             2|\n",
            "|   33967841|             2|\n",
            "|   10418855|             1|\n",
            "|   43783459|             1|\n",
            "|   50843047|             4|\n",
            "+-----------+--------------+\n",
            "only showing top 20 rows\n",
            "\n"
          ]
        }
      ]
    },
    {
      "cell_type": "code",
      "source": [
        "customers_df.printSchema()"
      ],
      "metadata": {
        "colab": {
          "base_uri": "https://localhost:8080/"
        },
        "id": "mLLag3CNwtdK",
        "outputId": "93141f58-a0c5-4cf2-b4dd-15c62f3577cf"
      },
      "execution_count": 10,
      "outputs": [
        {
          "output_type": "stream",
          "name": "stdout",
          "text": [
            "root\n",
            " |-- customer_id: integer (nullable = true)\n",
            " |-- customer_count: long (nullable = false)\n",
            "\n"
          ]
        }
      ]
    },
    {
      "cell_type": "code",
      "source": [
        "\n",
        "\n"
      ],
      "metadata": {
        "id": "nfa_bfPXzlmq"
      },
      "execution_count": 10,
      "outputs": []
    },
    {
      "cell_type": "code",
      "metadata": {
        "id": "4FwXA6UvY-96",
        "colab": {
          "base_uri": "https://localhost:8080/"
        },
        "outputId": "77835b76-579e-4aee-9b79-e8e81b3aca6a"
      },
      "source": [
        "# Create the products_table DataFrame and drop duplicates. \n",
        "products_df = df.select([\"product_id\", \"product_title\"]).drop_duplicates([\"product_id\"])\n",
        "products_df.printSchema()"
      ],
      "execution_count": 11,
      "outputs": [
        {
          "output_type": "stream",
          "name": "stdout",
          "text": [
            "root\n",
            " |-- product_id: string (nullable = true)\n",
            " |-- product_title: string (nullable = true)\n",
            "\n"
          ]
        }
      ]
    },
    {
      "cell_type": "code",
      "source": [
        "products_df.show()"
      ],
      "metadata": {
        "colab": {
          "base_uri": "https://localhost:8080/"
        },
        "id": "9deUhWyN0xxm",
        "outputId": "06bc9432-1873-4d6d-916c-88b94e42691c"
      },
      "execution_count": 12,
      "outputs": [
        {
          "output_type": "stream",
          "name": "stdout",
          "text": [
            "+----------+--------------------+\n",
            "|product_id|       product_title|\n",
            "+----------+--------------------+\n",
            "|1570340439|Compass & Map Nav...|\n",
            "|9879000633|Swordmaster - Uni...|\n",
            "|B00004RAN1|24x7x7 Pro Cage Trap|\n",
            "|B00005OU7P|Putt and Return P...|\n",
            "|B00005V3EN|Airzone Trampolin...|\n",
            "|B00008Z7M2|Koolatron 401619 ...|\n",
            "|B0000AAEMO|Seahawks Franklin...|\n",
            "|B0000AI0K1|Outdoor Cap Heavy...|\n",
            "|B0000ANGL1|NFL Men's New Yor...|\n",
            "|B0000ANHRR|Heatgear Loose Lo...|\n",
            "|B0000AU3AK|Everlast Genuine ...|\n",
            "|B0000AUTWD|Cubby 5011 Mini Mite|\n",
            "|B0000AVZBW|G- Lox  Deerskin ...|\n",
            "|B0000AXJT5|Pro Mex Professio...|\n",
            "|B0000AXNWO|   Ande Fluorocarbon|\n",
            "|B0000AXUET|Star brite Brush ...|\n",
            "|B0000AY199|DU-BRO Fishing Tr...|\n",
            "|B0000AYEE8|Attwood Stainiles...|\n",
            "|B0000AYGZ1|Attwood Stainless...|\n",
            "|B0000AZ8LS|Tacstar 4-Shot Re...|\n",
            "+----------+--------------------+\n",
            "only showing top 20 rows\n",
            "\n"
          ]
        }
      ]
    },
    {
      "cell_type": "code",
      "source": [
        "# -- This table will contain only unique values\n",
        "# CREATE TABLE products_table (\n",
        "#   product_id TEXT PRIMARY KEY NOT NULL UNIQUE,\n",
        "#   product_title TEXT\n",
        "# );\n"
      ],
      "metadata": {
        "id": "lOHnfcQU0IKN"
      },
      "execution_count": 13,
      "outputs": []
    },
    {
      "cell_type": "markdown",
      "source": [
        "To create the products_table, use the select() function to select the product_id \n",
        "and product_title, then drop duplicates with the drop_duplicates() function \n",
        "to retrieve only unique product_ids. Refer to the code snippet provided in \n",
        "the Amazon_Reviews_ETL_starter_code.ipynb file for assistance."
      ],
      "metadata": {
        "id": "So5elyDzzsE6"
      }
    },
    {
      "cell_type": "code",
      "source": [
        "# CREATE TABLE review_id_table (\n",
        "#   review_id TEXT PRIMARY KEY NOT NULL,\n",
        "#   customer_id INTEGER,\n",
        "#   product_id TEXT,\n",
        "#   product_parent INTEGER,\n",
        "#   review_date DATE -- this should be in the formate yyyy-mm-dd\n",
        "# );"
      ],
      "metadata": {
        "id": "ICPReARG1WU1"
      },
      "execution_count": 14,
      "outputs": []
    },
    {
      "cell_type": "code",
      "source": [
        ""
      ],
      "metadata": {
        "id": "a2tGPmsi1cjd"
      },
      "execution_count": 14,
      "outputs": []
    },
    {
      "cell_type": "code",
      "metadata": {
        "id": "MkqyCuNQY-9-",
        "colab": {
          "base_uri": "https://localhost:8080/"
        },
        "outputId": "78c58733-9e76-448a-88bf-0828ff7cda27"
      },
      "source": [
        "# Create the review_id_table DataFrame. \n",
        "# Convert the 'review_date' column to a date datatype with to_date(\"review_date\", 'yyyy-MM-dd').alias(\"review_date\")\n",
        "review_id_df = df.select([\"review_id\", \"customer_id\", \"product_id\", \"product_parent\", to_date(\"review_date\", 'yyyy-MM-dd').alias(\"review_date\")])\n",
        "review_id_df.printSchema()"
      ],
      "execution_count": 15,
      "outputs": [
        {
          "output_type": "stream",
          "name": "stdout",
          "text": [
            "root\n",
            " |-- review_id: string (nullable = true)\n",
            " |-- customer_id: integer (nullable = true)\n",
            " |-- product_id: string (nullable = true)\n",
            " |-- product_parent: integer (nullable = true)\n",
            " |-- review_date: date (nullable = true)\n",
            "\n"
          ]
        }
      ]
    },
    {
      "cell_type": "code",
      "source": [
        "review_id_df.show()"
      ],
      "metadata": {
        "colab": {
          "base_uri": "https://localhost:8080/"
        },
        "id": "oggsY9t82DSa",
        "outputId": "e3532bee-f270-4845-a89b-ba5f154f4900"
      },
      "execution_count": 16,
      "outputs": [
        {
          "output_type": "stream",
          "name": "stdout",
          "text": [
            "+--------------+-----------+----------+--------------+-----------+\n",
            "|     review_id|customer_id|product_id|product_parent|review_date|\n",
            "+--------------+-----------+----------+--------------+-----------+\n",
            "|R1WBPB8MDCCN8F|   48945260|B012P7UPSM|     409940130| 2015-08-31|\n",
            "|R32M0YEWV77XG8|    5782091|B001GQ3VHG|     657746679| 2015-08-31|\n",
            "| RR8V7WR27NXJ5|   45813853|B008VS8M58|     962442336| 2015-08-31|\n",
            "|R1MHO5V9Z932AY|    1593730|B005F06F4U|      74305227| 2015-08-31|\n",
            "|R16PD71086BD2V|   29605511|B010T4IE2C|     787185588| 2015-08-31|\n",
            "|R1Z8IFGWTRWXT6|   11112959|B004RKJGLS|      94127483| 2015-08-31|\n",
            "|R3AUMSHAW73HWN|     108031|B005V3DCBU|     526977496| 2015-08-31|\n",
            "|R2KWDWFOHGX6FL|   13981540|B00MHT9WN8|      26521265| 2015-08-31|\n",
            "|R3H9543FWBWFBU|   37993909|B001CSIRQ8|     652431165| 2015-08-31|\n",
            "| RUANXOQ9W3OU5|   26040213|B001KZ3NOO|     635861713| 2015-08-31|\n",
            "|R31673RTGEZSW7|   34657602|B00005RCQS|      72099763| 2015-08-31|\n",
            "|R22OQLFSH42RCM|   14346192|B00FA7RWVI|     757354022| 2015-08-31|\n",
            "|R12LEL4F3TSZUJ|   38782687|B000MMH2HU|     272402599| 2015-08-31|\n",
            "|R2L9XWD03072NI|   27138575|B00WJOATDS|     375070208| 2015-08-31|\n",
            "|R2K0U91HIACANO|   11838771|B00BOM2JNY|     639666785| 2015-08-31|\n",
            "|R29SP6MBT7MXG7|     535800|B00OD5GAFM|      38715442| 2015-08-31|\n",
            "|R31XREAAMATEPY|   23156579|B00CAHDC1K|      57088652| 2015-08-31|\n",
            "|R2116AVB87SO38|   48107879|B004NLHXLG|     114125984| 2015-08-31|\n",
            "|R3RDVBB6O0X3HW|   27260960|B00L7OANWI|     883962979| 2015-08-31|\n",
            "|R3LW5T149LKKQM|   39537314|B0085PPSIQ|     691479969| 2015-08-31|\n",
            "+--------------+-----------+----------+--------------+-----------+\n",
            "only showing top 20 rows\n",
            "\n"
          ]
        }
      ]
    },
    {
      "cell_type": "code",
      "source": [
        "# -- vine table\n",
        "# CREATE TABLE vine_table (\n",
        "#   review_id TEXT PRIMARY KEY,\n",
        "#   star_rating INTEGER,\n",
        "#   helpful_votes INTEGER,\n",
        "#   total_votes INTEGER,\n",
        "#   vine TEXT,\n",
        "#   verified_purchase TEXT\n",
        "# );"
      ],
      "metadata": {
        "id": "A-VFa7Y23c6G"
      },
      "execution_count": 17,
      "outputs": []
    },
    {
      "cell_type": "code",
      "source": [
        "from pyspark.sql.types import IntegerType\n",
        "df.withColumn(\"star_rating\", df.star_rating.cast(IntegerType()))\n",
        "df.printSchema()"
      ],
      "metadata": {
        "colab": {
          "base_uri": "https://localhost:8080/"
        },
        "id": "jcneNBcS6-QF",
        "outputId": "be3c977c-9d7d-4244-af10-05626e4e1f49"
      },
      "execution_count": 18,
      "outputs": [
        {
          "output_type": "stream",
          "name": "stdout",
          "text": [
            "root\n",
            " |-- marketplace: string (nullable = true)\n",
            " |-- customer_id: integer (nullable = true)\n",
            " |-- review_id: string (nullable = true)\n",
            " |-- product_id: string (nullable = true)\n",
            " |-- product_parent: integer (nullable = true)\n",
            " |-- product_title: string (nullable = true)\n",
            " |-- product_category: string (nullable = true)\n",
            " |-- star_rating: string (nullable = true)\n",
            " |-- helpful_votes: integer (nullable = true)\n",
            " |-- total_votes: integer (nullable = true)\n",
            " |-- vine: string (nullable = true)\n",
            " |-- verified_purchase: string (nullable = true)\n",
            " |-- review_headline: string (nullable = true)\n",
            " |-- review_body: string (nullable = true)\n",
            " |-- review_date: string (nullable = true)\n",
            "\n"
          ]
        }
      ]
    },
    {
      "cell_type": "code",
      "metadata": {
        "id": "lzMmkdKmY--D",
        "colab": {
          "base_uri": "https://localhost:8080/"
        },
        "outputId": "610b4a8e-af29-45ce-aa30-74acdd392f96"
      },
      "source": [
        "# Create the vine_table. DataFrame\n",
        "vine_df = df.select([\"review_id\",\"star_rating\", \"helpful_votes\",\"total_votes\",\"vine\",\"verified_purchase\"])\n",
        "vine_df.printSchema()"
      ],
      "execution_count": 19,
      "outputs": [
        {
          "output_type": "stream",
          "name": "stdout",
          "text": [
            "root\n",
            " |-- review_id: string (nullable = true)\n",
            " |-- star_rating: string (nullable = true)\n",
            " |-- helpful_votes: integer (nullable = true)\n",
            " |-- total_votes: integer (nullable = true)\n",
            " |-- vine: string (nullable = true)\n",
            " |-- verified_purchase: string (nullable = true)\n",
            "\n"
          ]
        }
      ]
    },
    {
      "cell_type": "markdown",
      "metadata": {
        "id": "jITZhLkmY--J"
      },
      "source": [
        "### Connect to the AWS RDS instance and write each DataFrame to its table. "
      ]
    },
    {
      "cell_type": "code",
      "metadata": {
        "id": "7jiUvs1aY--L",
        "colab": {
          "base_uri": "https://localhost:8080/"
        },
        "outputId": "8453b0b3-340c-42b4-c9bb-0747f144a380"
      },
      "source": [
        "# Configure settings for RDS\n",
        "# Store environmental variable\n",
        "from getpass import getpass\n",
        "password = getpass('Enter database password')\n",
        "# Configure settings for RDS\n",
        "mode = \"append\"\n",
        "jdbc_url=\"jdbc:postgresql://mypostgresdb.cxqzibdbvzc7.us-east-1.rds.amazonaws.com:5432/my_data_class_db\"\n",
        "config = {\"user\":\"postgres\",\n",
        "          \"password\": password,\n",
        "          \"driver\":\"org.postgresql.Driver\"}"
      ],
      "execution_count": 20,
      "outputs": [
        {
          "name": "stdout",
          "output_type": "stream",
          "text": [
            "Enter database password··········\n"
          ]
        }
      ]
    },
    {
      "cell_type": "code",
      "metadata": {
        "id": "T2zgZ-aKY--Q",
        "colab": {
          "base_uri": "https://localhost:8080/",
          "height": 1000
        },
        "outputId": "3269d846-f749-4be8-fdb2-cfc514cd4855"
      },
      "source": [
        "# Write review_id_df to table in RDS\n",
        "review_id_df.write.jdbc(url=jdbc_url, table='review_id_table', mode=mode, properties=config)"
      ],
      "execution_count": 21,
      "outputs": [
        {
          "output_type": "error",
          "ename": "Py4JJavaError",
          "evalue": "ignored",
          "traceback": [
            "\u001b[0;31m---------------------------------------------------------------------------\u001b[0m",
            "\u001b[0;31mPy4JJavaError\u001b[0m                             Traceback (most recent call last)",
            "\u001b[0;32m<ipython-input-21-777dd587f0a7>\u001b[0m in \u001b[0;36m<module>\u001b[0;34m()\u001b[0m\n\u001b[1;32m      1\u001b[0m \u001b[0;31m# Write review_id_df to table in RDS\u001b[0m\u001b[0;34m\u001b[0m\u001b[0;34m\u001b[0m\u001b[0;34m\u001b[0m\u001b[0m\n\u001b[0;32m----> 2\u001b[0;31m \u001b[0mreview_id_df\u001b[0m\u001b[0;34m.\u001b[0m\u001b[0mwrite\u001b[0m\u001b[0;34m.\u001b[0m\u001b[0mjdbc\u001b[0m\u001b[0;34m(\u001b[0m\u001b[0murl\u001b[0m\u001b[0;34m=\u001b[0m\u001b[0mjdbc_url\u001b[0m\u001b[0;34m,\u001b[0m \u001b[0mtable\u001b[0m\u001b[0;34m=\u001b[0m\u001b[0;34m'review_id_table'\u001b[0m\u001b[0;34m,\u001b[0m \u001b[0mmode\u001b[0m\u001b[0;34m=\u001b[0m\u001b[0mmode\u001b[0m\u001b[0;34m,\u001b[0m \u001b[0mproperties\u001b[0m\u001b[0;34m=\u001b[0m\u001b[0mconfig\u001b[0m\u001b[0;34m)\u001b[0m\u001b[0;34m\u001b[0m\u001b[0;34m\u001b[0m\u001b[0m\n\u001b[0m",
            "\u001b[0;32m/content/spark-3.0.3-bin-hadoop2.7/python/pyspark/sql/readwriter.py\u001b[0m in \u001b[0;36mjdbc\u001b[0;34m(self, url, table, mode, properties)\u001b[0m\n\u001b[1;32m   1083\u001b[0m         \u001b[0;32mfor\u001b[0m \u001b[0mk\u001b[0m \u001b[0;32min\u001b[0m \u001b[0mproperties\u001b[0m\u001b[0;34m:\u001b[0m\u001b[0;34m\u001b[0m\u001b[0;34m\u001b[0m\u001b[0m\n\u001b[1;32m   1084\u001b[0m             \u001b[0mjprop\u001b[0m\u001b[0;34m.\u001b[0m\u001b[0msetProperty\u001b[0m\u001b[0;34m(\u001b[0m\u001b[0mk\u001b[0m\u001b[0;34m,\u001b[0m \u001b[0mproperties\u001b[0m\u001b[0;34m[\u001b[0m\u001b[0mk\u001b[0m\u001b[0;34m]\u001b[0m\u001b[0;34m)\u001b[0m\u001b[0;34m\u001b[0m\u001b[0;34m\u001b[0m\u001b[0m\n\u001b[0;32m-> 1085\u001b[0;31m         \u001b[0mself\u001b[0m\u001b[0;34m.\u001b[0m\u001b[0mmode\u001b[0m\u001b[0;34m(\u001b[0m\u001b[0mmode\u001b[0m\u001b[0;34m)\u001b[0m\u001b[0;34m.\u001b[0m\u001b[0m_jwrite\u001b[0m\u001b[0;34m.\u001b[0m\u001b[0mjdbc\u001b[0m\u001b[0;34m(\u001b[0m\u001b[0murl\u001b[0m\u001b[0;34m,\u001b[0m \u001b[0mtable\u001b[0m\u001b[0;34m,\u001b[0m \u001b[0mjprop\u001b[0m\u001b[0;34m)\u001b[0m\u001b[0;34m\u001b[0m\u001b[0;34m\u001b[0m\u001b[0m\n\u001b[0m\u001b[1;32m   1086\u001b[0m \u001b[0;34m\u001b[0m\u001b[0m\n\u001b[1;32m   1087\u001b[0m \u001b[0;34m\u001b[0m\u001b[0m\n",
            "\u001b[0;32m/content/spark-3.0.3-bin-hadoop2.7/python/lib/py4j-0.10.9-src.zip/py4j/java_gateway.py\u001b[0m in \u001b[0;36m__call__\u001b[0;34m(self, *args)\u001b[0m\n\u001b[1;32m   1303\u001b[0m         \u001b[0manswer\u001b[0m \u001b[0;34m=\u001b[0m \u001b[0mself\u001b[0m\u001b[0;34m.\u001b[0m\u001b[0mgateway_client\u001b[0m\u001b[0;34m.\u001b[0m\u001b[0msend_command\u001b[0m\u001b[0;34m(\u001b[0m\u001b[0mcommand\u001b[0m\u001b[0;34m)\u001b[0m\u001b[0;34m\u001b[0m\u001b[0;34m\u001b[0m\u001b[0m\n\u001b[1;32m   1304\u001b[0m         return_value = get_return_value(\n\u001b[0;32m-> 1305\u001b[0;31m             answer, self.gateway_client, self.target_id, self.name)\n\u001b[0m\u001b[1;32m   1306\u001b[0m \u001b[0;34m\u001b[0m\u001b[0m\n\u001b[1;32m   1307\u001b[0m         \u001b[0;32mfor\u001b[0m \u001b[0mtemp_arg\u001b[0m \u001b[0;32min\u001b[0m \u001b[0mtemp_args\u001b[0m\u001b[0;34m:\u001b[0m\u001b[0;34m\u001b[0m\u001b[0;34m\u001b[0m\u001b[0m\n",
            "\u001b[0;32m/content/spark-3.0.3-bin-hadoop2.7/python/pyspark/sql/utils.py\u001b[0m in \u001b[0;36mdeco\u001b[0;34m(*a, **kw)\u001b[0m\n\u001b[1;32m    126\u001b[0m     \u001b[0;32mdef\u001b[0m \u001b[0mdeco\u001b[0m\u001b[0;34m(\u001b[0m\u001b[0;34m*\u001b[0m\u001b[0ma\u001b[0m\u001b[0;34m,\u001b[0m \u001b[0;34m**\u001b[0m\u001b[0mkw\u001b[0m\u001b[0;34m)\u001b[0m\u001b[0;34m:\u001b[0m\u001b[0;34m\u001b[0m\u001b[0;34m\u001b[0m\u001b[0m\n\u001b[1;32m    127\u001b[0m         \u001b[0;32mtry\u001b[0m\u001b[0;34m:\u001b[0m\u001b[0;34m\u001b[0m\u001b[0;34m\u001b[0m\u001b[0m\n\u001b[0;32m--> 128\u001b[0;31m             \u001b[0;32mreturn\u001b[0m \u001b[0mf\u001b[0m\u001b[0;34m(\u001b[0m\u001b[0;34m*\u001b[0m\u001b[0ma\u001b[0m\u001b[0;34m,\u001b[0m \u001b[0;34m**\u001b[0m\u001b[0mkw\u001b[0m\u001b[0;34m)\u001b[0m\u001b[0;34m\u001b[0m\u001b[0;34m\u001b[0m\u001b[0m\n\u001b[0m\u001b[1;32m    129\u001b[0m         \u001b[0;32mexcept\u001b[0m \u001b[0mpy4j\u001b[0m\u001b[0;34m.\u001b[0m\u001b[0mprotocol\u001b[0m\u001b[0;34m.\u001b[0m\u001b[0mPy4JJavaError\u001b[0m \u001b[0;32mas\u001b[0m \u001b[0me\u001b[0m\u001b[0;34m:\u001b[0m\u001b[0;34m\u001b[0m\u001b[0;34m\u001b[0m\u001b[0m\n\u001b[1;32m    130\u001b[0m             \u001b[0mconverted\u001b[0m \u001b[0;34m=\u001b[0m \u001b[0mconvert_exception\u001b[0m\u001b[0;34m(\u001b[0m\u001b[0me\u001b[0m\u001b[0;34m.\u001b[0m\u001b[0mjava_exception\u001b[0m\u001b[0;34m)\u001b[0m\u001b[0;34m\u001b[0m\u001b[0;34m\u001b[0m\u001b[0m\n",
            "\u001b[0;32m/content/spark-3.0.3-bin-hadoop2.7/python/lib/py4j-0.10.9-src.zip/py4j/protocol.py\u001b[0m in \u001b[0;36mget_return_value\u001b[0;34m(answer, gateway_client, target_id, name)\u001b[0m\n\u001b[1;32m    326\u001b[0m                 raise Py4JJavaError(\n\u001b[1;32m    327\u001b[0m                     \u001b[0;34m\"An error occurred while calling {0}{1}{2}.\\n\"\u001b[0m\u001b[0;34m.\u001b[0m\u001b[0;34m\u001b[0m\u001b[0;34m\u001b[0m\u001b[0m\n\u001b[0;32m--> 328\u001b[0;31m                     format(target_id, \".\", name), value)\n\u001b[0m\u001b[1;32m    329\u001b[0m             \u001b[0;32melse\u001b[0m\u001b[0;34m:\u001b[0m\u001b[0;34m\u001b[0m\u001b[0;34m\u001b[0m\u001b[0m\n\u001b[1;32m    330\u001b[0m                 raise Py4JError(\n",
            "\u001b[0;31mPy4JJavaError\u001b[0m: An error occurred while calling o93.jdbc.\n: org.apache.spark.SparkException: Job aborted due to stage failure: Task 0 in stage 9.0 failed 1 times, most recent failure: Lost task 0.0 in stage 9.0 (TID 9, 1c67f8bb1c16, executor driver): java.sql.BatchUpdateException: Batch entry 0 INSERT INTO review_id_table (\"review_id\",\"customer_id\",\"product_id\",\"product_parent\",\"review_date\") VALUES ('R1WBPB8MDCCN8F',48945260,'B012P7UPSM',409940130,'2015-08-31 +00'::date) was aborted: ERROR: duplicate key value violates unique constraint \"review_id_table_pkey\"\n  Detail: Key (review_id)=(R1WBPB8MDCCN8F) already exists.  Call getNextException to see other errors in the batch.\n\tat org.postgresql.jdbc.BatchResultHandler.handleError(BatchResultHandler.java:169)\n\tat org.postgresql.core.v3.QueryExecutorImpl.processResults(QueryExecutorImpl.java:2286)\n\tat org.postgresql.core.v3.QueryExecutorImpl.flushIfDeadlockRisk(QueryExecutorImpl.java:1404)\n\tat org.postgresql.core.v3.QueryExecutorImpl.sendQuery(QueryExecutorImpl.java:1429)\n\tat org.postgresql.core.v3.QueryExecutorImpl.execute(QueryExecutorImpl.java:507)\n\tat org.postgresql.jdbc.PgStatement.internalExecuteBatch(PgStatement.java:870)\n\tat org.postgresql.jdbc.PgStatement.executeBatch(PgStatement.java:893)\n\tat org.postgresql.jdbc.PgPreparedStatement.executeBatch(PgPreparedStatement.java:1639)\n\tat org.apache.spark.sql.execution.datasources.jdbc.JdbcUtils$.savePartition(JdbcUtils.scala:699)\n\tat org.apache.spark.sql.execution.datasources.jdbc.JdbcUtils$.$anonfun$saveTable$1(JdbcUtils.scala:871)\n\tat org.apache.spark.sql.execution.datasources.jdbc.JdbcUtils$.$anonfun$saveTable$1$adapted(JdbcUtils.scala:869)\n\tat org.apache.spark.rdd.RDD.$anonfun$foreachPartition$2(RDD.scala:994)\n\tat org.apache.spark.rdd.RDD.$anonfun$foreachPartition$2$adapted(RDD.scala:994)\n\tat org.apache.spark.SparkContext.$anonfun$runJob$5(SparkContext.scala:2154)\n\tat org.apache.spark.scheduler.ResultTask.runTask(ResultTask.scala:90)\n\tat org.apache.spark.scheduler.Task.run(Task.scala:127)\n\tat org.apache.spark.executor.Executor$TaskRunner.$anonfun$run$3(Executor.scala:463)\n\tat org.apache.spark.util.Utils$.tryWithSafeFinally(Utils.scala:1377)\n\tat org.apache.spark.executor.Executor$TaskRunner.run(Executor.scala:466)\n\tat java.base/java.util.concurrent.ThreadPoolExecutor.runWorker(ThreadPoolExecutor.java:1128)\n\tat java.base/java.util.concurrent.ThreadPoolExecutor$Worker.run(ThreadPoolExecutor.java:628)\n\tat java.base/java.lang.Thread.run(Thread.java:829)\nCaused by: org.postgresql.util.PSQLException: ERROR: duplicate key value violates unique constraint \"review_id_table_pkey\"\n  Detail: Key (review_id)=(R1WBPB8MDCCN8F) already exists.\n\tat org.postgresql.core.v3.QueryExecutorImpl.receiveErrorResponse(QueryExecutorImpl.java:2553)\n\tat org.postgresql.core.v3.QueryExecutorImpl.processResults(QueryExecutorImpl.java:2285)\n\t... 20 more\n\nDriver stacktrace:\n\tat org.apache.spark.scheduler.DAGScheduler.failJobAndIndependentStages(DAGScheduler.scala:2059)\n\tat org.apache.spark.scheduler.DAGScheduler.$anonfun$abortStage$2(DAGScheduler.scala:2008)\n\tat org.apache.spark.scheduler.DAGScheduler.$anonfun$abortStage$2$adapted(DAGScheduler.scala:2007)\n\tat scala.collection.mutable.ResizableArray.foreach(ResizableArray.scala:62)\n\tat scala.collection.mutable.ResizableArray.foreach$(ResizableArray.scala:55)\n\tat scala.collection.mutable.ArrayBuffer.foreach(ArrayBuffer.scala:49)\n\tat org.apache.spark.scheduler.DAGScheduler.abortStage(DAGScheduler.scala:2007)\n\tat org.apache.spark.scheduler.DAGScheduler.$anonfun$handleTaskSetFailed$1(DAGScheduler.scala:973)\n\tat org.apache.spark.scheduler.DAGScheduler.$anonfun$handleTaskSetFailed$1$adapted(DAGScheduler.scala:973)\n\tat scala.Option.foreach(Option.scala:407)\n\tat org.apache.spark.scheduler.DAGScheduler.handleTaskSetFailed(DAGScheduler.scala:973)\n\tat org.apache.spark.scheduler.DAGSchedulerEventProcessLoop.doOnReceive(DAGScheduler.scala:2239)\n\tat org.apache.spark.scheduler.DAGSchedulerEventProcessLoop.onReceive(DAGScheduler.scala:2188)\n\tat org.apache.spark.scheduler.DAGSchedulerEventProcessLoop.onReceive(DAGScheduler.scala:2177)\n\tat org.apache.spark.util.EventLoop$$anon$1.run(EventLoop.scala:49)\n\tat org.apache.spark.scheduler.DAGScheduler.runJob(DAGScheduler.scala:775)\n\tat org.apache.spark.SparkContext.runJob(SparkContext.scala:2114)\n\tat org.apache.spark.SparkContext.runJob(SparkContext.scala:2135)\n\tat org.apache.spark.SparkContext.runJob(SparkContext.scala:2154)\n\tat org.apache.spark.SparkContext.runJob(SparkContext.scala:2179)\n\tat org.apache.spark.rdd.RDD.$anonfun$foreachPartition$1(RDD.scala:994)\n\tat org.apache.spark.rdd.RDDOperationScope$.withScope(RDDOperationScope.scala:151)\n\tat org.apache.spark.rdd.RDDOperationScope$.withScope(RDDOperationScope.scala:112)\n\tat org.apache.spark.rdd.RDD.withScope(RDD.scala:388)\n\tat org.apache.spark.rdd.RDD.foreachPartition(RDD.scala:992)\n\tat org.apache.spark.sql.execution.datasources.jdbc.JdbcUtils$.saveTable(JdbcUtils.scala:869)\n\tat org.apache.spark.sql.execution.datasources.jdbc.JdbcRelationProvider.createRelation(JdbcRelationProvider.scala:68)\n\tat org.apache.spark.sql.execution.datasources.SaveIntoDataSourceCommand.run(SaveIntoDataSourceCommand.scala:46)\n\tat org.apache.spark.sql.execution.command.ExecutedCommandExec.sideEffectResult$lzycompute(commands.scala:70)\n\tat org.apache.spark.sql.execution.command.ExecutedCommandExec.sideEffectResult(commands.scala:68)\n\tat org.apache.spark.sql.execution.command.ExecutedCommandExec.doExecute(commands.scala:90)\n\tat org.apache.spark.sql.execution.SparkPlan.$anonfun$execute$1(SparkPlan.scala:180)\n\tat org.apache.spark.sql.execution.SparkPlan.$anonfun$executeQuery$1(SparkPlan.scala:218)\n\tat org.apache.spark.rdd.RDDOperationScope$.withScope(RDDOperationScope.scala:151)\n\tat org.apache.spark.sql.execution.SparkPlan.executeQuery(SparkPlan.scala:215)\n\tat org.apache.spark.sql.execution.SparkPlan.execute(SparkPlan.scala:176)\n\tat org.apache.spark.sql.execution.QueryExecution.toRdd$lzycompute(QueryExecution.scala:127)\n\tat org.apache.spark.sql.execution.QueryExecution.toRdd(QueryExecution.scala:126)\n\tat org.apache.spark.sql.DataFrameWriter.$anonfun$runCommand$1(DataFrameWriter.scala:962)\n\tat org.apache.spark.sql.execution.SQLExecution$.$anonfun$withNewExecutionId$5(SQLExecution.scala:100)\n\tat org.apache.spark.sql.execution.SQLExecution$.withSQLConfPropagated(SQLExecution.scala:160)\n\tat org.apache.spark.sql.execution.SQLExecution$.$anonfun$withNewExecutionId$1(SQLExecution.scala:87)\n\tat org.apache.spark.sql.SparkSession.withActive(SparkSession.scala:767)\n\tat org.apache.spark.sql.execution.SQLExecution$.withNewExecutionId(SQLExecution.scala:64)\n\tat org.apache.spark.sql.DataFrameWriter.runCommand(DataFrameWriter.scala:962)\n\tat org.apache.spark.sql.DataFrameWriter.saveToV1Source(DataFrameWriter.scala:414)\n\tat org.apache.spark.sql.DataFrameWriter.save(DataFrameWriter.scala:398)\n\tat org.apache.spark.sql.DataFrameWriter.jdbc(DataFrameWriter.scala:790)\n\tat java.base/jdk.internal.reflect.NativeMethodAccessorImpl.invoke0(Native Method)\n\tat java.base/jdk.internal.reflect.NativeMethodAccessorImpl.invoke(NativeMethodAccessorImpl.java:62)\n\tat java.base/jdk.internal.reflect.DelegatingMethodAccessorImpl.invoke(DelegatingMethodAccessorImpl.java:43)\n\tat java.base/java.lang.reflect.Method.invoke(Method.java:566)\n\tat py4j.reflection.MethodInvoker.invoke(MethodInvoker.java:244)\n\tat py4j.reflection.ReflectionEngine.invoke(ReflectionEngine.java:357)\n\tat py4j.Gateway.invoke(Gateway.java:282)\n\tat py4j.commands.AbstractCommand.invokeMethod(AbstractCommand.java:132)\n\tat py4j.commands.CallCommand.execute(CallCommand.java:79)\n\tat py4j.GatewayConnection.run(GatewayConnection.java:238)\n\tat java.base/java.lang.Thread.run(Thread.java:829)\nCaused by: java.sql.BatchUpdateException: Batch entry 0 INSERT INTO review_id_table (\"review_id\",\"customer_id\",\"product_id\",\"product_parent\",\"review_date\") VALUES ('R1WBPB8MDCCN8F',48945260,'B012P7UPSM',409940130,'2015-08-31 +00'::date) was aborted: ERROR: duplicate key value violates unique constraint \"review_id_table_pkey\"\n  Detail: Key (review_id)=(R1WBPB8MDCCN8F) already exists.  Call getNextException to see other errors in the batch.\n\tat org.postgresql.jdbc.BatchResultHandler.handleError(BatchResultHandler.java:169)\n\tat org.postgresql.core.v3.QueryExecutorImpl.processResults(QueryExecutorImpl.java:2286)\n\tat org.postgresql.core.v3.QueryExecutorImpl.flushIfDeadlockRisk(QueryExecutorImpl.java:1404)\n\tat org.postgresql.core.v3.QueryExecutorImpl.sendQuery(QueryExecutorImpl.java:1429)\n\tat org.postgresql.core.v3.QueryExecutorImpl.execute(QueryExecutorImpl.java:507)\n\tat org.postgresql.jdbc.PgStatement.internalExecuteBatch(PgStatement.java:870)\n\tat org.postgresql.jdbc.PgStatement.executeBatch(PgStatement.java:893)\n\tat org.postgresql.jdbc.PgPreparedStatement.executeBatch(PgPreparedStatement.java:1639)\n\tat org.apache.spark.sql.execution.datasources.jdbc.JdbcUtils$.savePartition(JdbcUtils.scala:699)\n\tat org.apache.spark.sql.execution.datasources.jdbc.JdbcUtils$.$anonfun$saveTable$1(JdbcUtils.scala:871)\n\tat org.apache.spark.sql.execution.datasources.jdbc.JdbcUtils$.$anonfun$saveTable$1$adapted(JdbcUtils.scala:869)\n\tat org.apache.spark.rdd.RDD.$anonfun$foreachPartition$2(RDD.scala:994)\n\tat org.apache.spark.rdd.RDD.$anonfun$foreachPartition$2$adapted(RDD.scala:994)\n\tat org.apache.spark.SparkContext.$anonfun$runJob$5(SparkContext.scala:2154)\n\tat org.apache.spark.scheduler.ResultTask.runTask(ResultTask.scala:90)\n\tat org.apache.spark.scheduler.Task.run(Task.scala:127)\n\tat org.apache.spark.executor.Executor$TaskRunner.$anonfun$run$3(Executor.scala:463)\n\tat org.apache.spark.util.Utils$.tryWithSafeFinally(Utils.scala:1377)\n\tat org.apache.spark.executor.Executor$TaskRunner.run(Executor.scala:466)\n\tat java.base/java.util.concurrent.ThreadPoolExecutor.runWorker(ThreadPoolExecutor.java:1128)\n\tat java.base/java.util.concurrent.ThreadPoolExecutor$Worker.run(ThreadPoolExecutor.java:628)\n\t... 1 more\nCaused by: org.postgresql.util.PSQLException: ERROR: duplicate key value violates unique constraint \"review_id_table_pkey\"\n  Detail: Key (review_id)=(R1WBPB8MDCCN8F) already exists.\n\tat org.postgresql.core.v3.QueryExecutorImpl.receiveErrorResponse(QueryExecutorImpl.java:2553)\n\tat org.postgresql.core.v3.QueryExecutorImpl.processResults(QueryExecutorImpl.java:2285)\n\t... 20 more\n"
          ]
        }
      ]
    },
    {
      "cell_type": "code",
      "metadata": {
        "id": "1m3yzn-LY--U"
      },
      "source": [
        "# Write products_df to table in RDS\n",
        "# about 3 min\n",
        "products_df.write.jdbc(url=jdbc_url, table='products_table', mode=mode, properties=config)"
      ],
      "execution_count": null,
      "outputs": []
    },
    {
      "cell_type": "code",
      "metadata": {
        "id": "KbXri15fY--Z"
      },
      "source": [
        "# Write customers_df to table in RDS\n",
        "# 5 min 14 s\n",
        "customers_df.write.jdbc(url=jdbc_url, table='customers_table', mode=mode, properties=config)"
      ],
      "execution_count": null,
      "outputs": []
    },
    {
      "cell_type": "code",
      "metadata": {
        "id": "XdQknSHLY--e"
      },
      "source": [
        "# Write vine_df to table in RDS\n",
        "# 11 minutes\n",
        "vine_df.write.jdbc(url=jdbc_url, table='vine_table', mode=mode, properties=config)"
      ],
      "execution_count": null,
      "outputs": []
    },
    {
      "cell_type": "code",
      "metadata": {
        "id": "Exuo6ebUsCqW"
      },
      "source": [
        ""
      ],
      "execution_count": null,
      "outputs": []
    }
  ]
}
>>>>>>> e05a2f4be51b692b3a8a024db6566e75926fc64f
